{
 "cells": [
  {
   "cell_type": "code",
   "execution_count": 1,
   "id": "1182cf3c",
   "metadata": {},
   "outputs": [
    {
     "data": {
      "application/vnd.microsoft.datawrangler.viewer.v0+json": {
       "columns": [
        {
         "name": "index",
         "rawType": "int64",
         "type": "integer"
        },
        {
         "name": "Phone",
         "rawType": "int64",
         "type": "integer"
        },
        {
         "name": "CompanyName_A Cycle Shop",
         "rawType": "bool",
         "type": "boolean"
        },
        {
         "name": "CompanyName_A Great Bicycle Company",
         "rawType": "bool",
         "type": "boolean"
        },
        {
         "name": "CompanyName_A Typical Bike Shop",
         "rawType": "bool",
         "type": "boolean"
        },
        {
         "name": "CompanyName_Acceptable Sales & Service",
         "rawType": "bool",
         "type": "boolean"
        },
        {
         "name": "CompanyName_Action Bicycle Specialists",
         "rawType": "bool",
         "type": "boolean"
        },
        {
         "name": "CompanyName_Active Life Toys",
         "rawType": "bool",
         "type": "boolean"
        },
        {
         "name": "CompanyName_Active Systems",
         "rawType": "bool",
         "type": "boolean"
        },
        {
         "name": "CompanyName_Advanced Bike Components",
         "rawType": "bool",
         "type": "boolean"
        },
        {
         "name": "CompanyName_Aerobic Exercise Company",
         "rawType": "bool",
         "type": "boolean"
        },
        {
         "name": "CompanyName_Affordable Sports Equipment",
         "rawType": "bool",
         "type": "boolean"
        },
        {
         "name": "CompanyName_All Cycle Shop",
         "rawType": "bool",
         "type": "boolean"
        },
        {
         "name": "CompanyName_All Seasons Sports Supply",
         "rawType": "bool",
         "type": "boolean"
        },
        {
         "name": "CompanyName_Alpine Ski House",
         "rawType": "bool",
         "type": "boolean"
        },
        {
         "name": "CompanyName_Alternative Vehicles",
         "rawType": "bool",
         "type": "boolean"
        },
        {
         "name": "CompanyName_Another Bicycle Company",
         "rawType": "bool",
         "type": "boolean"
        },
        {
         "name": "CompanyName_Another Sporting Goods Company",
         "rawType": "bool",
         "type": "boolean"
        },
        {
         "name": "CompanyName_Area Bike Accessories",
         "rawType": "bool",
         "type": "boolean"
        },
        {
         "name": "CompanyName_Area Sheet Metal Supply",
         "rawType": "bool",
         "type": "boolean"
        },
        {
         "name": "CompanyName_Associated Bikes",
         "rawType": "bool",
         "type": "boolean"
        },
        {
         "name": "CompanyName_Authentic Sales and Service",
         "rawType": "bool",
         "type": "boolean"
        },
        {
         "name": "CompanyName_Authorized Bike Sales and Rental",
         "rawType": "bool",
         "type": "boolean"
        },
        {
         "name": "CompanyName_Basic Bike Company",
         "rawType": "bool",
         "type": "boolean"
        },
        {
         "name": "CompanyName_Basic Sports Equipment",
         "rawType": "bool",
         "type": "boolean"
        },
        {
         "name": "CompanyName_Beneficial Exercises and Activities",
         "rawType": "bool",
         "type": "boolean"
        },
        {
         "name": "CompanyName_Best o' Bikes",
         "rawType": "bool",
         "type": "boolean"
        },
        {
         "name": "CompanyName_Bicycle Accessories and Kits",
         "rawType": "bool",
         "type": "boolean"
        },
        {
         "name": "CompanyName_Bicycle Lines Distributors",
         "rawType": "bool",
         "type": "boolean"
        },
        {
         "name": "CompanyName_Bicycle Merchandise Warehouse",
         "rawType": "bool",
         "type": "boolean"
        },
        {
         "name": "CompanyName_Big Cycle Mall",
         "rawType": "bool",
         "type": "boolean"
        },
        {
         "name": "CompanyName_Big-Time Bike Store",
         "rawType": "bool",
         "type": "boolean"
        },
        {
         "name": "CompanyName_Bike Dealers Association",
         "rawType": "bool",
         "type": "boolean"
        },
        {
         "name": "CompanyName_Bike Experts",
         "rawType": "bool",
         "type": "boolean"
        },
        {
         "name": "CompanyName_Bike Universe",
         "rawType": "bool",
         "type": "boolean"
        },
        {
         "name": "CompanyName_Bike World",
         "rawType": "bool",
         "type": "boolean"
        },
        {
         "name": "CompanyName_Bikes and Motorbikes",
         "rawType": "bool",
         "type": "boolean"
        },
        {
         "name": "CompanyName_Bikes for Kids and Adults",
         "rawType": "bool",
         "type": "boolean"
        },
        {
         "name": "CompanyName_Bikes for Two",
         "rawType": "bool",
         "type": "boolean"
        },
        {
         "name": "CompanyName_Black Bicycle Company",
         "rawType": "bool",
         "type": "boolean"
        },
        {
         "name": "CompanyName_Blue Bicycle Company",
         "rawType": "bool",
         "type": "boolean"
        },
        {
         "name": "CompanyName_Bold Bike Accessories",
         "rawType": "bool",
         "type": "boolean"
        },
        {
         "name": "CompanyName_Brakes and Gears",
         "rawType": "bool",
         "type": "boolean"
        },
        {
         "name": "CompanyName_Brightwork Company",
         "rawType": "bool",
         "type": "boolean"
        },
        {
         "name": "CompanyName_Brown Bicycle Company",
         "rawType": "bool",
         "type": "boolean"
        },
        {
         "name": "CompanyName_Bulk Discount Store",
         "rawType": "bool",
         "type": "boolean"
        },
        {
         "name": "CompanyName_Camping and Sports Store",
         "rawType": "bool",
         "type": "boolean"
        },
        {
         "name": "CompanyName_Capable Sales and Service",
         "rawType": "bool",
         "type": "boolean"
        },
        {
         "name": "CompanyName_Cash & Carry Bikes",
         "rawType": "bool",
         "type": "boolean"
        },
        {
         "name": "CompanyName_Catalog Store",
         "rawType": "bool",
         "type": "boolean"
        },
        {
         "name": "CompanyName_Center Cycle Shop",
         "rawType": "bool",
         "type": "boolean"
        },
        {
         "name": "CompanyName_Central Bicycle Specialists",
         "rawType": "bool",
         "type": "boolean"
        },
        {
         "name": "CompanyName_Central Discount Store",
         "rawType": "bool",
         "type": "boolean"
        },
        {
         "name": "CompanyName_Certified Bicycle Supply",
         "rawType": "bool",
         "type": "boolean"
        },
        {
         "name": "CompanyName_Certified Sports Supply",
         "rawType": "bool",
         "type": "boolean"
        },
        {
         "name": "CompanyName_Channel Outlet",
         "rawType": "bool",
         "type": "boolean"
        },
        {
         "name": "CompanyName_Chic Department Stores",
         "rawType": "bool",
         "type": "boolean"
        },
        {
         "name": "CompanyName_City Cycling",
         "rawType": "bool",
         "type": "boolean"
        },
        {
         "name": "CompanyName_City Manufacturing",
         "rawType": "bool",
         "type": "boolean"
        },
        {
         "name": "CompanyName_Citywide Service and Repair",
         "rawType": "bool",
         "type": "boolean"
        },
        {
         "name": "CompanyName_Client Discount Store",
         "rawType": "bool",
         "type": "boolean"
        },
        {
         "name": "CompanyName_Closeout Boutique",
         "rawType": "bool",
         "type": "boolean"
        },
        {
         "name": "CompanyName_Closest Bicycle Store",
         "rawType": "bool",
         "type": "boolean"
        },
        {
         "name": "CompanyName_Coalition Bike Company",
         "rawType": "bool",
         "type": "boolean"
        },
        {
         "name": "CompanyName_Coho Sports",
         "rawType": "bool",
         "type": "boolean"
        },
        {
         "name": "CompanyName_Commendable Bikes",
         "rawType": "bool",
         "type": "boolean"
        },
        {
         "name": "CompanyName_Commerce Bicycle Specialists",
         "rawType": "bool",
         "type": "boolean"
        },
        {
         "name": "CompanyName_Commercial Sporting Goods",
         "rawType": "bool",
         "type": "boolean"
        },
        {
         "name": "CompanyName_Commuter Bicycle Store",
         "rawType": "bool",
         "type": "boolean"
        },
        {
         "name": "CompanyName_Consolidated Messenger",
         "rawType": "bool",
         "type": "boolean"
        },
        {
         "name": "CompanyName_Consumer Equipment",
         "rawType": "bool",
         "type": "boolean"
        },
        {
         "name": "CompanyName_Contoso, Ltd.",
         "rawType": "bool",
         "type": "boolean"
        },
        {
         "name": "CompanyName_Convenient Sales and Service",
         "rawType": "bool",
         "type": "boolean"
        },
        {
         "name": "CompanyName_Corner Bicycle Supply",
         "rawType": "bool",
         "type": "boolean"
        },
        {
         "name": "CompanyName_Countryside Company",
         "rawType": "bool",
         "type": "boolean"
        },
        {
         "name": "CompanyName_Courteous Bicycle Specialists",
         "rawType": "bool",
         "type": "boolean"
        },
        {
         "name": "CompanyName_Cross-Country Riding Supplies",
         "rawType": "bool",
         "type": "boolean"
        },
        {
         "name": "CompanyName_Curbside Sporting Goods",
         "rawType": "bool",
         "type": "boolean"
        },
        {
         "name": "CompanyName_Custom Accessories Company",
         "rawType": "bool",
         "type": "boolean"
        },
        {
         "name": "CompanyName_Custom Sales and Service",
         "rawType": "bool",
         "type": "boolean"
        },
        {
         "name": "CompanyName_Cycle Clearance",
         "rawType": "bool",
         "type": "boolean"
        },
        {
         "name": "CompanyName_Cycle Merchants",
         "rawType": "bool",
         "type": "boolean"
        },
        {
         "name": "CompanyName_Cycles Wholesaler & Mfg.",
         "rawType": "bool",
         "type": "boolean"
        },
        {
         "name": "CompanyName_Cycling Goods",
         "rawType": "bool",
         "type": "boolean"
        },
        {
         "name": "CompanyName_Demand Distributors",
         "rawType": "bool",
         "type": "boolean"
        },
        {
         "name": "CompanyName_Designated Distributors",
         "rawType": "bool",
         "type": "boolean"
        },
        {
         "name": "CompanyName_Designer Department Stores",
         "rawType": "bool",
         "type": "boolean"
        },
        {
         "name": "CompanyName_Discount Bicycle Specialists",
         "rawType": "bool",
         "type": "boolean"
        },
        {
         "name": "CompanyName_Discount Tours",
         "rawType": "bool",
         "type": "boolean"
        },
        {
         "name": "CompanyName_Distant Inn",
         "rawType": "bool",
         "type": "boolean"
        },
        {
         "name": "CompanyName_Distinctive Store",
         "rawType": "bool",
         "type": "boolean"
        },
        {
         "name": "CompanyName_District Mall",
         "rawType": "bool",
         "type": "boolean"
        },
        {
         "name": "CompanyName_Downhill Bicycle Specialists",
         "rawType": "bool",
         "type": "boolean"
        },
        {
         "name": "CompanyName_Downtown Hotel",
         "rawType": "bool",
         "type": "boolean"
        },
        {
         "name": "CompanyName_Eastside Department Store",
         "rawType": "bool",
         "type": "boolean"
        },
        {
         "name": "CompanyName_Eastside Parts Shop",
         "rawType": "bool",
         "type": "boolean"
        },
        {
         "name": "CompanyName_Economy Bikes Company",
         "rawType": "bool",
         "type": "boolean"
        },
        {
         "name": "CompanyName_Economy Center",
         "rawType": "bool",
         "type": "boolean"
        },
        {
         "name": "CompanyName_Efficient Cycling",
         "rawType": "bool",
         "type": "boolean"
        },
        {
         "name": "CompanyName_Eighth Bike Store",
         "rawType": "bool",
         "type": "boolean"
        },
        {
         "name": "CompanyName_Elite Bikes",
         "rawType": "bool",
         "type": "boolean"
        },
        {
         "name": "CompanyName_Engineered Bike Systems",
         "rawType": "bool",
         "type": "boolean"
        },
        {
         "name": "CompanyName_Essential Bike Works",
         "rawType": "bool",
         "type": "boolean"
        },
        {
         "name": "CompanyName_Exceptional Cycle Services",
         "rawType": "bool",
         "type": "boolean"
        },
        {
         "name": "CompanyName_Exclusive Bicycle Mart",
         "rawType": "bool",
         "type": "boolean"
        },
        {
         "name": "CompanyName_Exercise Center",
         "rawType": "bool",
         "type": "boolean"
        },
        {
         "name": "CompanyName_Exertion Activities Club",
         "rawType": "bool",
         "type": "boolean"
        },
        {
         "name": "CompanyName_Exhibition Showroom",
         "rawType": "bool",
         "type": "boolean"
        },
        {
         "name": "CompanyName_Exhilarating Cycles",
         "rawType": "bool",
         "type": "boolean"
        },
        {
         "name": "CompanyName_Express Bike Services",
         "rawType": "bool",
         "type": "boolean"
        },
        {
         "name": "CompanyName_Extended Bike Sales",
         "rawType": "bool",
         "type": "boolean"
        },
        {
         "name": "CompanyName_Extended Tours",
         "rawType": "bool",
         "type": "boolean"
        },
        {
         "name": "CompanyName_Extraordinary Bike Works",
         "rawType": "bool",
         "type": "boolean"
        },
        {
         "name": "CompanyName_Extras Sporting Goods",
         "rawType": "bool",
         "type": "boolean"
        },
        {
         "name": "CompanyName_Extreme Riding Supplies",
         "rawType": "bool",
         "type": "boolean"
        },
        {
         "name": "CompanyName_Fabrikam Inc., West",
         "rawType": "bool",
         "type": "boolean"
        },
        {
         "name": "CompanyName_Fad Outlet",
         "rawType": "bool",
         "type": "boolean"
        },
        {
         "name": "CompanyName_Family Cycle Store",
         "rawType": "bool",
         "type": "boolean"
        },
        {
         "name": "CompanyName_Family Entertainment Center",
         "rawType": "bool",
         "type": "boolean"
        },
        {
         "name": "CompanyName_Family's Favorite Bike Shop",
         "rawType": "bool",
         "type": "boolean"
        },
        {
         "name": "CompanyName_Famous Bike Shop",
         "rawType": "bool",
         "type": "boolean"
        },
        {
         "name": "CompanyName_Farthermost Bike Shop",
         "rawType": "bool",
         "type": "boolean"
        },
        {
         "name": "CompanyName_Farthest Bike Store",
         "rawType": "bool",
         "type": "boolean"
        },
        {
         "name": "CompanyName_Fashionable Bikes and Accessories",
         "rawType": "bool",
         "type": "boolean"
        },
        {
         "name": "CompanyName_Fasteners & Bolts Outlet",
         "rawType": "bool",
         "type": "boolean"
        },
        {
         "name": "CompanyName_Field Trip Inc",
         "rawType": "bool",
         "type": "boolean"
        },
        {
         "name": "CompanyName_Field Trip Store",
         "rawType": "bool",
         "type": "boolean"
        },
        {
         "name": "CompanyName_Fifth Bike Store",
         "rawType": "bool",
         "type": "boolean"
        },
        {
         "name": "CompanyName_Finer Cycle Shop",
         "rawType": "bool",
         "type": "boolean"
        },
        {
         "name": "CompanyName_Finer Mart",
         "rawType": "bool",
         "type": "boolean"
        },
        {
         "name": "CompanyName_Finer Parts Shop",
         "rawType": "bool",
         "type": "boolean"
        },
        {
         "name": "CompanyName_Finer Riding Supplies",
         "rawType": "bool",
         "type": "boolean"
        },
        {
         "name": "CompanyName_Finer Sales and Service",
         "rawType": "bool",
         "type": "boolean"
        },
        {
         "name": "CompanyName_Finish and Sealant Products",
         "rawType": "bool",
         "type": "boolean"
        },
        {
         "name": "CompanyName_First Bike Store",
         "rawType": "bool",
         "type": "boolean"
        },
        {
         "name": "CompanyName_First Cycle Store",
         "rawType": "bool",
         "type": "boolean"
        },
        {
         "name": "CompanyName_First Department Stores",
         "rawType": "bool",
         "type": "boolean"
        },
        {
         "name": "CompanyName_First-Rate Outlet",
         "rawType": "bool",
         "type": "boolean"
        },
        {
         "name": "CompanyName_Fitness Cycling",
         "rawType": "bool",
         "type": "boolean"
        },
        {
         "name": "CompanyName_Fitness Department Stores",
         "rawType": "bool",
         "type": "boolean"
        },
        {
         "name": "CompanyName_Fitness Hotel",
         "rawType": "bool",
         "type": "boolean"
        },
        {
         "name": "CompanyName_Fitness Supplies",
         "rawType": "bool",
         "type": "boolean"
        },
        {
         "name": "CompanyName_Fitness Toy Store",
         "rawType": "bool",
         "type": "boolean"
        },
        {
         "name": "CompanyName_Flawless Bike Shop",
         "rawType": "bool",
         "type": "boolean"
        },
        {
         "name": "CompanyName_Fleet Bikes",
         "rawType": "bool",
         "type": "boolean"
        },
        {
         "name": "CompanyName_Friendly Bike Shop",
         "rawType": "bool",
         "type": "boolean"
        },
        {
         "name": "CompanyName_Friendly Neighborhood Bikes",
         "rawType": "bool",
         "type": "boolean"
        },
        {
         "name": "CompanyName_Front Sporting Goods",
         "rawType": "bool",
         "type": "boolean"
        },
        {
         "name": "CompanyName_Frugal Bike Shop",
         "rawType": "bool",
         "type": "boolean"
        },
        {
         "name": "CompanyName_Full-Service Bike Store",
         "rawType": "bool",
         "type": "boolean"
        },
        {
         "name": "CompanyName_Fun Times Club",
         "rawType": "bool",
         "type": "boolean"
        },
        {
         "name": "CompanyName_Fun Toys and Bikes",
         "rawType": "bool",
         "type": "boolean"
        },
        {
         "name": "CompanyName_Future Bikes",
         "rawType": "bool",
         "type": "boolean"
        },
        {
         "name": "CompanyName_Futuristic Bikes",
         "rawType": "bool",
         "type": "boolean"
        },
        {
         "name": "CompanyName_Futuristic Sport Distributors",
         "rawType": "bool",
         "type": "boolean"
        },
        {
         "name": "CompanyName_Gasless Cycle Shop",
         "rawType": "bool",
         "type": "boolean"
        },
        {
         "name": "CompanyName_Gear-Shift Bikes Limited",
         "rawType": "bool",
         "type": "boolean"
        },
        {
         "name": "CompanyName_General Bike Corporation",
         "rawType": "bool",
         "type": "boolean"
        },
        {
         "name": "CompanyName_General Cycle Storehouse",
         "rawType": "bool",
         "type": "boolean"
        },
        {
         "name": "CompanyName_General Department Stores",
         "rawType": "bool",
         "type": "boolean"
        },
        {
         "name": "CompanyName_General Industries",
         "rawType": "bool",
         "type": "boolean"
        },
        {
         "name": "CompanyName_General Riding Supplies",
         "rawType": "bool",
         "type": "boolean"
        },
        {
         "name": "CompanyName_General Supplies",
         "rawType": "bool",
         "type": "boolean"
        },
        {
         "name": "CompanyName_Genial Bike Associates",
         "rawType": "bool",
         "type": "boolean"
        },
        {
         "name": "CompanyName_Genuine Bike Shop",
         "rawType": "bool",
         "type": "boolean"
        },
        {
         "name": "CompanyName_Gift and Toy Store",
         "rawType": "bool",
         "type": "boolean"
        },
        {
         "name": "CompanyName_Global Sporting Goods",
         "rawType": "bool",
         "type": "boolean"
        },
        {
         "name": "CompanyName_Go-cart and Bike Specialists",
         "rawType": "bool",
         "type": "boolean"
        },
        {
         "name": "CompanyName_Golf and Cycle Store",
         "rawType": "bool",
         "type": "boolean"
        },
        {
         "name": "CompanyName_Good Bike Shop",
         "rawType": "bool",
         "type": "boolean"
        },
        {
         "name": "CompanyName_Good Toys",
         "rawType": "bool",
         "type": "boolean"
        },
        {
         "name": "CompanyName_Grand Bicycle Stores",
         "rawType": "bool",
         "type": "boolean"
        },
        {
         "name": "CompanyName_Grand Cycle Store",
         "rawType": "bool",
         "type": "boolean"
        },
        {
         "name": "CompanyName_Grand Industries",
         "rawType": "bool",
         "type": "boolean"
        },
        {
         "name": "CompanyName_Grand Sport Boutique",
         "rawType": "bool",
         "type": "boolean"
        },
        {
         "name": "CompanyName_Grease and Oil Products Company",
         "rawType": "bool",
         "type": "boolean"
        },
        {
         "name": "CompanyName_Great Bicycle Supply",
         "rawType": "bool",
         "type": "boolean"
        },
        {
         "name": "CompanyName_Great Bikes ",
         "rawType": "bool",
         "type": "boolean"
        },
        {
         "name": "CompanyName_Greater Bike Store",
         "rawType": "bool",
         "type": "boolean"
        },
        {
         "name": "CompanyName_Handy Bike Services",
         "rawType": "bool",
         "type": "boolean"
        },
        {
         "name": "CompanyName_Hardware Components",
         "rawType": "bool",
         "type": "boolean"
        },
        {
         "name": "CompanyName_Health Spa, Limited",
         "rawType": "bool",
         "type": "boolean"
        },
        {
         "name": "CompanyName_Healthy Activity Store",
         "rawType": "bool",
         "type": "boolean"
        },
        {
         "name": "CompanyName_Highway Bike Shop",
         "rawType": "bool",
         "type": "boolean"
        },
        {
         "name": "CompanyName_Historic Bicycle Sales",
         "rawType": "bool",
         "type": "boolean"
        },
        {
         "name": "CompanyName_Home Town Bike Store",
         "rawType": "bool",
         "type": "boolean"
        },
        {
         "name": "CompanyName_Honest Repair Service",
         "rawType": "bool",
         "type": "boolean"
        },
        {
         "name": "CompanyName_Imaginary Toys",
         "rawType": "bool",
         "type": "boolean"
        },
        {
         "name": "CompanyName_Immense Manufacturing Company",
         "rawType": "bool",
         "type": "boolean"
        },
        {
         "name": "CompanyName_Imported and Domestic Cycles",
         "rawType": "bool",
         "type": "boolean"
        },
        {
         "name": "CompanyName_Impromptu Trips",
         "rawType": "bool",
         "type": "boolean"
        },
        {
         "name": "CompanyName_Initial Bike Company",
         "rawType": "bool",
         "type": "boolean"
        },
        {
         "name": "CompanyName_Instruments and Parts Company",
         "rawType": "bool",
         "type": "boolean"
        },
        {
         "name": "CompanyName_Journey Sporting Goods",
         "rawType": "bool",
         "type": "boolean"
        },
        {
         "name": "CompanyName_Kickstand Sellers",
         "rawType": "bool",
         "type": "boolean"
        },
        {
         "name": "CompanyName_Kickstands and Accessories Company",
         "rawType": "bool",
         "type": "boolean"
        },
        {
         "name": "CompanyName_Large Bike Shop",
         "rawType": "bool",
         "type": "boolean"
        },
        {
         "name": "CompanyName_Largest Bike Store",
         "rawType": "bool",
         "type": "boolean"
        },
        {
         "name": "CompanyName_Latest Accessories Sales",
         "rawType": "bool",
         "type": "boolean"
        },
        {
         "name": "CompanyName_Latest Sports Equipment",
         "rawType": "bool",
         "type": "boolean"
        },
        {
         "name": "CompanyName_Leading Sales & Repair",
         "rawType": "bool",
         "type": "boolean"
        },
        {
         "name": "CompanyName_Leather Seat Factory",
         "rawType": "bool",
         "type": "boolean"
        },
        {
         "name": "CompanyName_Leisure Activities",
         "rawType": "bool",
         "type": "boolean"
        },
        {
         "name": "CompanyName_Leisure Clearing House",
         "rawType": "bool",
         "type": "boolean"
        },
        {
         "name": "CompanyName_Little Bicycle Supply Shop",
         "rawType": "bool",
         "type": "boolean"
        },
        {
         "name": "CompanyName_Little Sports Center",
         "rawType": "bool",
         "type": "boolean"
        },
        {
         "name": "CompanyName_Local Hardware Factory",
         "rawType": "bool",
         "type": "boolean"
        },
        {
         "name": "CompanyName_Local Sales and Rental",
         "rawType": "bool",
         "type": "boolean"
        },
        {
         "name": "CompanyName_Locks Company",
         "rawType": "bool",
         "type": "boolean"
        },
        {
         "name": "CompanyName_Lots of Bikes Storehouse",
         "rawType": "bool",
         "type": "boolean"
        },
        {
         "name": "CompanyName_Low Price Cycles",
         "rawType": "bool",
         "type": "boolean"
        },
        {
         "name": "CompanyName_Machines & Cycles Store",
         "rawType": "bool",
         "type": "boolean"
        },
        {
         "name": "CompanyName_Mail Market",
         "rawType": "bool",
         "type": "boolean"
        },
        {
         "name": "CompanyName_Mail-Order Outlet",
         "rawType": "bool",
         "type": "boolean"
        },
        {
         "name": "CompanyName_Main Bicycle Services",
         "rawType": "bool",
         "type": "boolean"
        },
        {
         "name": "CompanyName_Maintenance and Repair for Bicycles",
         "rawType": "bool",
         "type": "boolean"
        },
        {
         "name": "CompanyName_Major Cycling",
         "rawType": "bool",
         "type": "boolean"
        },
        {
         "name": "CompanyName_Major Sport Suppliers",
         "rawType": "bool",
         "type": "boolean"
        },
        {
         "name": "CompanyName_Major Sporting Goods",
         "rawType": "bool",
         "type": "boolean"
        },
        {
         "name": "CompanyName_Many Bikes Store",
         "rawType": "bool",
         "type": "boolean"
        },
        {
         "name": "CompanyName_Mechanical Products Ltd.",
         "rawType": "bool",
         "type": "boolean"
        },
        {
         "name": "CompanyName_Mercantile Outlet",
         "rawType": "bool",
         "type": "boolean"
        },
        {
         "name": "CompanyName_Metal Clearing House",
         "rawType": "bool",
         "type": "boolean"
        },
        {
         "name": "CompanyName_Metal Processing Company",
         "rawType": "bool",
         "type": "boolean"
        },
        {
         "name": "CompanyName_Metallic Paint and Overcoat Co",
         "rawType": "bool",
         "type": "boolean"
        },
        {
         "name": "CompanyName_Metro Bike Works",
         "rawType": "bool",
         "type": "boolean"
        },
        {
         "name": "CompanyName_Metro Cycle Shop",
         "rawType": "bool",
         "type": "boolean"
        },
        {
         "name": "CompanyName_Metro Manufacturing",
         "rawType": "bool",
         "type": "boolean"
        },
        {
         "name": "CompanyName_Metro Metals Co.",
         "rawType": "bool",
         "type": "boolean"
        },
        {
         "name": "CompanyName_Metropolitan Bicycle Supply",
         "rawType": "bool",
         "type": "boolean"
        },
        {
         "name": "CompanyName_Metropolitan Manufacturing",
         "rawType": "bool",
         "type": "boolean"
        },
        {
         "name": "CompanyName_Metropolitan Sports Supply",
         "rawType": "bool",
         "type": "boolean"
        },
        {
         "name": "CompanyName_Moderately-Priced Bikes Store",
         "rawType": "bool",
         "type": "boolean"
        },
        {
         "name": "CompanyName_Modular Cycle Systems",
         "rawType": "bool",
         "type": "boolean"
        },
        {
         "name": "CompanyName_More Bikes!",
         "rawType": "bool",
         "type": "boolean"
        },
        {
         "name": "CompanyName_Mountain Bike Center",
         "rawType": "bool",
         "type": "boolean"
        },
        {
         "name": "CompanyName_Mountain Toy Store",
         "rawType": "bool",
         "type": "boolean"
        },
        {
         "name": "CompanyName_National Manufacturing",
         "rawType": "bool",
         "type": "boolean"
        },
        {
         "name": "CompanyName_Nearby Cycle Shop",
         "rawType": "bool",
         "type": "boolean"
        },
        {
         "name": "CompanyName_Nearby Sporting Goods",
         "rawType": "bool",
         "type": "boolean"
        },
        {
         "name": "CompanyName_Neighborhood Store",
         "rawType": "bool",
         "type": "boolean"
        },
        {
         "name": "CompanyName_Nice Bikes",
         "rawType": "bool",
         "type": "boolean"
        },
        {
         "name": "CompanyName_Non-Slip Pedal Company",
         "rawType": "bool",
         "type": "boolean"
        },
        {
         "name": "CompanyName_Nonskid Tire Company",
         "rawType": "bool",
         "type": "boolean"
        },
        {
         "name": "CompanyName_Novelty Bikes",
         "rawType": "bool",
         "type": "boolean"
        },
        {
         "name": "CompanyName_Number 1 Supply",
         "rawType": "bool",
         "type": "boolean"
        },
        {
         "name": "CompanyName_Number One Bike Co.",
         "rawType": "bool",
         "type": "boolean"
        },
        {
         "name": "CompanyName_Nuts and Bolts Mfg.",
         "rawType": "bool",
         "type": "boolean"
        },
        {
         "name": "CompanyName_Odometers and Accessories Company",
         "rawType": "bool",
         "type": "boolean"
        },
        {
         "name": "CompanyName_Official Parts Shop",
         "rawType": "bool",
         "type": "boolean"
        },
        {
         "name": "CompanyName_Oils and Fluids Warehouse",
         "rawType": "bool",
         "type": "boolean"
        },
        {
         "name": "CompanyName_One Bike Company",
         "rawType": "bool",
         "type": "boolean"
        },
        {
         "name": "CompanyName_Online Bike Sellers",
         "rawType": "bool",
         "type": "boolean"
        },
        {
         "name": "CompanyName_Online Bike Warehouse",
         "rawType": "bool",
         "type": "boolean"
        },
        {
         "name": "CompanyName_Operational Manufacturing",
         "rawType": "bool",
         "type": "boolean"
        },
        {
         "name": "CompanyName_Orange Bicycle Company",
         "rawType": "bool",
         "type": "boolean"
        },
        {
         "name": "CompanyName_Original Bicycle Supply Company",
         "rawType": "bool",
         "type": "boolean"
        },
        {
         "name": "CompanyName_Our Sporting Goods Store",
         "rawType": "bool",
         "type": "boolean"
        },
        {
         "name": "CompanyName_Out-of-the-Way Hotels",
         "rawType": "bool",
         "type": "boolean"
        },
        {
         "name": "CompanyName_Outdoor Aerobic Systems Company",
         "rawType": "bool",
         "type": "boolean"
        },
        {
         "name": "CompanyName_Outdoor Sporting Goods",
         "rawType": "bool",
         "type": "boolean"
        },
        {
         "name": "CompanyName_Outdoor Sports Supply",
         "rawType": "bool",
         "type": "boolean"
        },
        {
         "name": "CompanyName_Outstanding Cycles",
         "rawType": "bool",
         "type": "boolean"
        },
        {
         "name": "CompanyName_Paint Supply",
         "rawType": "bool",
         "type": "boolean"
        },
        {
         "name": "CompanyName_Paints and Solvents Company",
         "rawType": "bool",
         "type": "boolean"
        },
        {
         "name": "CompanyName_Parcel Express Delivery Service",
         "rawType": "bool",
         "type": "boolean"
        },
        {
         "name": "CompanyName_Permanent Finish Products",
         "rawType": "bool",
         "type": "boolean"
        },
        {
         "name": "CompanyName_Petroleum Products Distributors",
         "rawType": "bool",
         "type": "boolean"
        },
        {
         "name": "CompanyName_Plastic Parts Company",
         "rawType": "bool",
         "type": "boolean"
        },
        {
         "name": "CompanyName_Practical Bike Supply Company",
         "rawType": "bool",
         "type": "boolean"
        },
        {
         "name": "CompanyName_Preferred Bikes",
         "rawType": "bool",
         "type": "boolean"
        },
        {
         "name": "CompanyName_Price-Cutter Discount Bikes",
         "rawType": "bool",
         "type": "boolean"
        },
        {
         "name": "CompanyName_Primary Bike Distributors",
         "rawType": "bool",
         "type": "boolean"
        },
        {
         "name": "CompanyName_Principal Bike Company",
         "rawType": "bool",
         "type": "boolean"
        },
        {
         "name": "CompanyName_Pro Sporting Goods",
         "rawType": "bool",
         "type": "boolean"
        },
        {
         "name": "CompanyName_Professional Containers and Packaging Co.",
         "rawType": "bool",
         "type": "boolean"
        },
        {
         "name": "CompanyName_Professional Cycle Store",
         "rawType": "bool",
         "type": "boolean"
        },
        {
         "name": "CompanyName_Professional Cyclists",
         "rawType": "bool",
         "type": "boolean"
        },
        {
         "name": "CompanyName_Professional Sales and Service",
         "rawType": "bool",
         "type": "boolean"
        },
        {
         "name": "CompanyName_Progressive Sports",
         "rawType": "bool",
         "type": "boolean"
        },
        {
         "name": "CompanyName_Prosperous Tours",
         "rawType": "bool",
         "type": "boolean"
        },
        {
         "name": "CompanyName_Purple Bicycle Company",
         "rawType": "bool",
         "type": "boolean"
        },
        {
         "name": "CompanyName_Quantity Discounts",
         "rawType": "bool",
         "type": "boolean"
        },
        {
         "name": "CompanyName_Quick Delivery Service",
         "rawType": "bool",
         "type": "boolean"
        },
        {
         "name": "CompanyName_Quick Parts and Service",
         "rawType": "bool",
         "type": "boolean"
        },
        {
         "name": "CompanyName_Racing Bike Outlet",
         "rawType": "bool",
         "type": "boolean"
        },
        {
         "name": "CompanyName_Racing Partners",
         "rawType": "bool",
         "type": "boolean"
        },
        {
         "name": "CompanyName_Racing Toys",
         "rawType": "bool",
         "type": "boolean"
        },
        {
         "name": "CompanyName_Rally Master Company Inc",
         "rawType": "bool",
         "type": "boolean"
        },
        {
         "name": "CompanyName_Rampart Amusement Company",
         "rawType": "bool",
         "type": "boolean"
        },
        {
         "name": "CompanyName_Rapid Bikes",
         "rawType": "bool",
         "type": "boolean"
        },
        {
         "name": "CompanyName_Raw Materials Inc",
         "rawType": "bool",
         "type": "boolean"
        },
        {
         "name": "CompanyName_Real Sporting Goods",
         "rawType": "bool",
         "type": "boolean"
        },
        {
         "name": "CompanyName_Reasonable Bicycle Sales",
         "rawType": "bool",
         "type": "boolean"
        },
        {
         "name": "CompanyName_Recommended Bicycles",
         "rawType": "bool",
         "type": "boolean"
        },
        {
         "name": "CompanyName_Red Bicycle Company",
         "rawType": "bool",
         "type": "boolean"
        },
        {
         "name": "CompanyName_Refined Department Stores",
         "rawType": "bool",
         "type": "boolean"
        },
        {
         "name": "CompanyName_Regional Manufacturing",
         "rawType": "bool",
         "type": "boolean"
        },
        {
         "name": "CompanyName_Reliable Retail Center",
         "rawType": "bool",
         "type": "boolean"
        },
        {
         "name": "CompanyName_Remarkable Bike Store",
         "rawType": "bool",
         "type": "boolean"
        },
        {
         "name": "CompanyName_Remote Bicycle Specialists",
         "rawType": "bool",
         "type": "boolean"
        },
        {
         "name": "CompanyName_Rental Bikes",
         "rawType": "bool",
         "type": "boolean"
        },
        {
         "name": "CompanyName_Requisite Part Supply",
         "rawType": "bool",
         "type": "boolean"
        },
        {
         "name": "CompanyName_Resale Services",
         "rawType": "bool",
         "type": "boolean"
        },
        {
         "name": "CompanyName_Responsible Bike Dealers",
         "rawType": "bool",
         "type": "boolean"
        },
        {
         "name": "CompanyName_Retail Cycle Shop",
         "rawType": "bool",
         "type": "boolean"
        },
        {
         "name": "CompanyName_Retail Discount Store",
         "rawType": "bool",
         "type": "boolean"
        },
        {
         "name": "CompanyName_Retail Mall",
         "rawType": "bool",
         "type": "boolean"
        },
        {
         "name": "CompanyName_Retail Sporting Equipment",
         "rawType": "bool",
         "type": "boolean"
        },
        {
         "name": "CompanyName_Retail Sporting Goods",
         "rawType": "bool",
         "type": "boolean"
        },
        {
         "name": "CompanyName_Retreat Inn",
         "rawType": "bool",
         "type": "boolean"
        },
        {
         "name": "CompanyName_Rewarding Activities Company",
         "rawType": "bool",
         "type": "boolean"
        },
        {
         "name": "CompanyName_Riders Company",
         "rawType": "bool",
         "type": "boolean"
        },
        {
         "name": "CompanyName_Riding Associates",
         "rawType": "bool",
         "type": "boolean"
        },
        {
         "name": "CompanyName_Riding Cycles",
         "rawType": "bool",
         "type": "boolean"
        },
        {
         "name": "CompanyName_Riding Excursions",
         "rawType": "bool",
         "type": "boolean"
        },
        {
         "name": "CompanyName_Road Way Sales and Rental",
         "rawType": "bool",
         "type": "boolean"
        },
        {
         "name": "CompanyName_Road-Way Mart",
         "rawType": "bool",
         "type": "boolean"
        },
        {
         "name": "CompanyName_Roadway Bike Emporium",
         "rawType": "bool",
         "type": "boolean"
        },
        {
         "name": "CompanyName_Roadway Supplies",
         "rawType": "bool",
         "type": "boolean"
        },
        {
         "name": "CompanyName_Roving Sports",
         "rawType": "bool",
         "type": "boolean"
        },
        {
         "name": "CompanyName_Rugged Bikes",
         "rawType": "bool",
         "type": "boolean"
        },
        {
         "name": "CompanyName_Running and Cycling Gear",
         "rawType": "bool",
         "type": "boolean"
        },
        {
         "name": "CompanyName_Rural Bicycle Supply",
         "rawType": "bool",
         "type": "boolean"
        },
        {
         "name": "CompanyName_Rural Cycle Emporium",
         "rawType": "bool",
         "type": "boolean"
        },
        {
         "name": "CompanyName_Rural Department Store",
         "rawType": "bool",
         "type": "boolean"
        },
        {
         "name": "CompanyName_Rural Sales and Service",
         "rawType": "bool",
         "type": "boolean"
        },
        {
         "name": "CompanyName_Safe Cycles Shop",
         "rawType": "bool",
         "type": "boolean"
        },
        {
         "name": "CompanyName_Safe Toys",
         "rawType": "bool",
         "type": "boolean"
        },
        {
         "name": "CompanyName_Sample Bike Store",
         "rawType": "bool",
         "type": "boolean"
        },
        {
         "name": "CompanyName_Satin Finish Company",
         "rawType": "bool",
         "type": "boolean"
        },
        {
         "name": "CompanyName_Scooters and Bikes Store",
         "rawType": "bool",
         "type": "boolean"
        },
        {
         "name": "CompanyName_Scratch-Resistant Finishes Company",
         "rawType": "bool",
         "type": "boolean"
        },
        {
         "name": "CompanyName_Seats and Saddles Company",
         "rawType": "bool",
         "type": "boolean"
        },
        {
         "name": "CompanyName_Security Racks and Locks Wholesalers",
         "rawType": "bool",
         "type": "boolean"
        },
        {
         "name": "CompanyName_Sellers of Cycles",
         "rawType": "bool",
         "type": "boolean"
        },
        {
         "name": "CompanyName_Separate Parts Corporation",
         "rawType": "bool",
         "type": "boolean"
        },
        {
         "name": "CompanyName_Serious Cycles",
         "rawType": "bool",
         "type": "boolean"
        },
        {
         "name": "CompanyName_Sharp Bikes",
         "rawType": "bool",
         "type": "boolean"
        },
        {
         "name": "CompanyName_Sheet Metal Manufacturing",
         "rawType": "bool",
         "type": "boolean"
        },
        {
         "name": "CompanyName_Shipping Specialists",
         "rawType": "bool",
         "type": "boolean"
        },
        {
         "name": "CompanyName_Sixth Bike Store",
         "rawType": "bool",
         "type": "boolean"
        },
        {
         "name": "CompanyName_Sleek Bikes ",
         "rawType": "bool",
         "type": "boolean"
        },
        {
         "name": "CompanyName_Small Bike Shop",
         "rawType": "bool",
         "type": "boolean"
        },
        {
         "name": "CompanyName_Small Cycle Store",
         "rawType": "bool",
         "type": "boolean"
        },
        {
         "name": "CompanyName_Social Activities Club",
         "rawType": "bool",
         "type": "boolean"
        },
        {
         "name": "CompanyName_Solid Bike Parts",
         "rawType": "bool",
         "type": "boolean"
        },
        {
         "name": "CompanyName_Some Discount Store",
         "rawType": "bool",
         "type": "boolean"
        },
        {
         "name": "CompanyName_South Bike Company",
         "rawType": "bool",
         "type": "boolean"
        },
        {
         "name": "CompanyName_Sparkling Paint and Finishes",
         "rawType": "bool",
         "type": "boolean"
        },
        {
         "name": "CompanyName_Specialty Sports Store",
         "rawType": "bool",
         "type": "boolean"
        },
        {
         "name": "CompanyName_Sports Commodities",
         "rawType": "bool",
         "type": "boolean"
        },
        {
         "name": "CompanyName_Sports Merchandise",
         "rawType": "bool",
         "type": "boolean"
        },
        {
         "name": "CompanyName_Sports Products Store",
         "rawType": "bool",
         "type": "boolean"
        },
        {
         "name": "CompanyName_Sports Store",
         "rawType": "bool",
         "type": "boolean"
        },
        {
         "name": "CompanyName_Standard Bikes",
         "rawType": "bool",
         "type": "boolean"
        },
        {
         "name": "CompanyName_Stationary Bikes and Stands",
         "rawType": "bool",
         "type": "boolean"
        },
        {
         "name": "CompanyName_Stock Parts and Supplies",
         "rawType": "bool",
         "type": "boolean"
        },
        {
         "name": "CompanyName_Strenuous Exercise Shop",
         "rawType": "bool",
         "type": "boolean"
        },
        {
         "name": "CompanyName_Sturdy Toys",
         "rawType": "bool",
         "type": "boolean"
        },
        {
         "name": "CompanyName_Suburban Cycle Shop",
         "rawType": "bool",
         "type": "boolean"
        },
        {
         "name": "CompanyName_Successful Sales Company",
         "rawType": "bool",
         "type": "boolean"
        },
        {
         "name": "CompanyName_Summer Sports Place",
         "rawType": "bool",
         "type": "boolean"
        },
        {
         "name": "CompanyName_Sundry Sporting Goods",
         "rawType": "bool",
         "type": "boolean"
        },
        {
         "name": "CompanyName_Superb Sales and Repair",
         "rawType": "bool",
         "type": "boolean"
        },
        {
         "name": "CompanyName_Superior Hardware Distributors",
         "rawType": "bool",
         "type": "boolean"
        },
        {
         "name": "CompanyName_Sure & Reliable Sporting Goods",
         "rawType": "bool",
         "type": "boolean"
        },
        {
         "name": "CompanyName_Swift Cycles",
         "rawType": "bool",
         "type": "boolean"
        },
        {
         "name": "CompanyName_Synthetic Materials Manufacturing",
         "rawType": "bool",
         "type": "boolean"
        },
        {
         "name": "CompanyName_Systematic Sales",
         "rawType": "bool",
         "type": "boolean"
        },
        {
         "name": "CompanyName_Tachometers and Accessories",
         "rawType": "bool",
         "type": "boolean"
        },
        {
         "name": "CompanyName_Tandem Sales and Service",
         "rawType": "bool",
         "type": "boolean"
        },
        {
         "name": "CompanyName_Technical Parts Manufacturing",
         "rawType": "bool",
         "type": "boolean"
        },
        {
         "name": "CompanyName_Tenth Bike Store",
         "rawType": "bool",
         "type": "boolean"
        },
        {
         "name": "CompanyName_The Accessories Store",
         "rawType": "bool",
         "type": "boolean"
        },
        {
         "name": "CompanyName_The Bicycle Accessories Company",
         "rawType": "bool",
         "type": "boolean"
        },
        {
         "name": "CompanyName_The Bike Shop",
         "rawType": "bool",
         "type": "boolean"
        },
        {
         "name": "CompanyName_The Commissary",
         "rawType": "bool",
         "type": "boolean"
        },
        {
         "name": "CompanyName_The Gear Store",
         "rawType": "bool",
         "type": "boolean"
        },
        {
         "name": "CompanyName_The New Bike Store",
         "rawType": "bool",
         "type": "boolean"
        },
        {
         "name": "CompanyName_The Showroom",
         "rawType": "bool",
         "type": "boolean"
        },
        {
         "name": "CompanyName_Third Bike Store",
         "rawType": "bool",
         "type": "boolean"
        },
        {
         "name": "CompanyName_This Area Sporting Goods",
         "rawType": "bool",
         "type": "boolean"
        },
        {
         "name": "CompanyName_Thorough Parts and Repair Services",
         "rawType": "bool",
         "type": "boolean"
        },
        {
         "name": "CompanyName_Thrifty Parts and Sales",
         "rawType": "bool",
         "type": "boolean"
        },
        {
         "name": "CompanyName_Thrilling Bike Tours",
         "rawType": "bool",
         "type": "boolean"
        },
        {
         "name": "CompanyName_Timely Shipping Service",
         "rawType": "bool",
         "type": "boolean"
        },
        {
         "name": "CompanyName_Tire Exchange",
         "rawType": "bool",
         "type": "boolean"
        },
        {
         "name": "CompanyName_Tires and Tubes",
         "rawType": "bool",
         "type": "boolean"
        },
        {
         "name": "CompanyName_Top Bike Market",
         "rawType": "bool",
         "type": "boolean"
        },
        {
         "name": "CompanyName_Top Sports Supply",
         "rawType": "bool",
         "type": "boolean"
        },
        {
         "name": "CompanyName_Totes & Baskets Company",
         "rawType": "bool",
         "type": "boolean"
        },
        {
         "name": "CompanyName_Town Industries",
         "rawType": "bool",
         "type": "boolean"
        },
        {
         "name": "CompanyName_Toy Manufacturing Inc",
         "rawType": "bool",
         "type": "boolean"
        },
        {
         "name": "CompanyName_Traction Tire Company",
         "rawType": "bool",
         "type": "boolean"
        },
        {
         "name": "CompanyName_Trailblazing Sports",
         "rawType": "bool",
         "type": "boolean"
        },
        {
         "name": "CompanyName_Transport Bikes",
         "rawType": "bool",
         "type": "boolean"
        },
        {
         "name": "CompanyName_Transportation Options",
         "rawType": "bool",
         "type": "boolean"
        },
        {
         "name": "CompanyName_Travel Sports",
         "rawType": "bool",
         "type": "boolean"
        },
        {
         "name": "CompanyName_Travel Systems",
         "rawType": "bool",
         "type": "boolean"
        },
        {
         "name": "CompanyName_Trendy Department Stores",
         "rawType": "bool",
         "type": "boolean"
        },
        {
         "name": "CompanyName_Tubeless Tire Company",
         "rawType": "bool",
         "type": "boolean"
        },
        {
         "name": "CompanyName_Twelfth Bike Store",
         "rawType": "bool",
         "type": "boolean"
        },
        {
         "name": "CompanyName_Two Bike Shops",
         "rawType": "bool",
         "type": "boolean"
        },
        {
         "name": "CompanyName_Two Wheels Cycle Store",
         "rawType": "bool",
         "type": "boolean"
        },
        {
         "name": "CompanyName_Two-Seater Bikes",
         "rawType": "bool",
         "type": "boolean"
        },
        {
         "name": "CompanyName_Two-Wheeled Transit Company",
         "rawType": "bool",
         "type": "boolean"
        },
        {
         "name": "CompanyName_Unicycles, Bicycles, and Tricycles",
         "rawType": "bool",
         "type": "boolean"
        },
        {
         "name": "CompanyName_Unique Bikes",
         "rawType": "bool",
         "type": "boolean"
        },
        {
         "name": "CompanyName_Unsurpassed Bikes",
         "rawType": "bool",
         "type": "boolean"
        },
        {
         "name": "CompanyName_Up-To-Date Sports",
         "rawType": "bool",
         "type": "boolean"
        },
        {
         "name": "CompanyName_Urban Sports Emporium",
         "rawType": "bool",
         "type": "boolean"
        },
        {
         "name": "CompanyName_Utilitarian Sporting Goods",
         "rawType": "bool",
         "type": "boolean"
        },
        {
         "name": "CompanyName_Uttermost Bike Shop",
         "rawType": "bool",
         "type": "boolean"
        },
        {
         "name": "CompanyName_Vale Riding Supplies",
         "rawType": "bool",
         "type": "boolean"
        },
        {
         "name": "CompanyName_Valley Bicycle Distributors",
         "rawType": "bool",
         "type": "boolean"
        },
        {
         "name": "CompanyName_Valley Bicycle Specialists",
         "rawType": "bool",
         "type": "boolean"
        },
        {
         "name": "CompanyName_Valley Toy Store",
         "rawType": "bool",
         "type": "boolean"
        },
        {
         "name": "CompanyName_Variety Cycling",
         "rawType": "bool",
         "type": "boolean"
        },
        {
         "name": "CompanyName_Vast Bike Sales and Rental",
         "rawType": "bool",
         "type": "boolean"
        },
        {
         "name": "CompanyName_Vehicle Shop",
         "rawType": "bool",
         "type": "boolean"
        },
        {
         "name": "CompanyName_Vigorous Exercise Company",
         "rawType": "bool",
         "type": "boolean"
        },
        {
         "name": "CompanyName_Vigorous Sports Store",
         "rawType": "bool",
         "type": "boolean"
        },
        {
         "name": "CompanyName_Vintage Sport Boutique",
         "rawType": "bool",
         "type": "boolean"
        },
        {
         "name": "CompanyName_Vinyl and Plastic Goods Corporation",
         "rawType": "bool",
         "type": "boolean"
        },
        {
         "name": "CompanyName_Weekend Bike Tours",
         "rawType": "bool",
         "type": "boolean"
        },
        {
         "name": "CompanyName_West Side Mart",
         "rawType": "bool",
         "type": "boolean"
        },
        {
         "name": "CompanyName_Western Bike Supplies",
         "rawType": "bool",
         "type": "boolean"
        },
        {
         "name": "CompanyName_Westside Cycle Store",
         "rawType": "bool",
         "type": "boolean"
        },
        {
         "name": "CompanyName_Westside Plaza",
         "rawType": "bool",
         "type": "boolean"
        },
        {
         "name": "CompanyName_Wheel Gallery",
         "rawType": "bool",
         "type": "boolean"
        },
        {
         "name": "CompanyName_Wholesale Parts",
         "rawType": "bool",
         "type": "boolean"
        },
        {
         "name": "CompanyName_Wingtip Toys",
         "rawType": "bool",
         "type": "boolean"
        },
        {
         "name": "CompanyName_Wire Baskets and Parts",
         "rawType": "bool",
         "type": "boolean"
        },
        {
         "name": "CompanyName_Work and Play Association",
         "rawType": "bool",
         "type": "boolean"
        },
        {
         "name": "CompanyName_Workout Emporium",
         "rawType": "bool",
         "type": "boolean"
        },
        {
         "name": "CompanyName_World Bike Discount Store",
         "rawType": "bool",
         "type": "boolean"
        },
        {
         "name": "CompanyName_World of Bikes",
         "rawType": "bool",
         "type": "boolean"
        },
        {
         "name": "CompanyName_Year-Round Sports",
         "rawType": "bool",
         "type": "boolean"
        },
        {
         "name": "CompanyName_Yellow Bicycle Company",
         "rawType": "bool",
         "type": "boolean"
        },
        {
         "name": "SalesPerson_adventure-works\\garrett1",
         "rawType": "bool",
         "type": "boolean"
        },
        {
         "name": "SalesPerson_adventure-works\\jae0",
         "rawType": "bool",
         "type": "boolean"
        },
        {
         "name": "SalesPerson_adventure-works\\jillian0",
         "rawType": "bool",
         "type": "boolean"
        },
        {
         "name": "SalesPerson_adventure-works\\josé1",
         "rawType": "bool",
         "type": "boolean"
        },
        {
         "name": "SalesPerson_adventure-works\\linda3",
         "rawType": "bool",
         "type": "boolean"
        },
        {
         "name": "SalesPerson_adventure-works\\michael9",
         "rawType": "bool",
         "type": "boolean"
        },
        {
         "name": "SalesPerson_adventure-works\\pamela0",
         "rawType": "bool",
         "type": "boolean"
        },
        {
         "name": "SalesPerson_adventure-works\\shu0",
         "rawType": "bool",
         "type": "boolean"
        }
       ],
       "conversionMethod": "pd.DataFrame",
       "ref": "5ecaaa19-8fb8-43c7-a893-3c425f05bb96",
       "rows": [
        [
         "0",
         "155",
         "False",
         "False",
         "False",
         "False",
         "False",
         "False",
         "False",
         "False",
         "False",
         "False",
         "False",
         "False",
         "False",
         "False",
         "False",
         "False",
         "False",
         "False",
         "False",
         "False",
         "False",
         "False",
         "False",
         "False",
         "False",
         "False",
         "False",
         "False",
         "False",
         "False",
         "False",
         "False",
         "False",
         "False",
         "False",
         "False",
         "False",
         "False",
         "False",
         "False",
         "False",
         "False",
         "False",
         "False",
         "False",
         "False",
         "False",
         "False",
         "False",
         "False",
         "False",
         "False",
         "False",
         "False",
         "False",
         "False",
         "False",
         "False",
         "False",
         "False",
         "False",
         "False",
         "False",
         "False",
         "False",
         "False",
         "False",
         "False",
         "False",
         "False",
         "False",
         "False",
         "False",
         "False",
         "False",
         "False",
         "False",
         "False",
         "False",
         "False",
         "False",
         "False",
         "False",
         "False",
         "False",
         "False",
         "False",
         "False",
         "False",
         "False",
         "False",
         "False",
         "False",
         "False",
         "False",
         "False",
         "False",
         "False",
         "False",
         "False",
         "False",
         "False",
         "False",
         "False",
         "False",
         "False",
         "False",
         "False",
         "False",
         "False",
         "False",
         "False",
         "False",
         "False",
         "False",
         "False",
         "False",
         "False",
         "False",
         "False",
         "False",
         "False",
         "False",
         "False",
         "False",
         "False",
         "False",
         "False",
         "False",
         "False",
         "False",
         "False",
         "False",
         "False",
         "False",
         "False",
         "False",
         "False",
         "False",
         "False",
         "False",
         "False",
         "False",
         "False",
         "False",
         "False",
         "False",
         "False",
         "False",
         "False",
         "False",
         "False",
         "False",
         "False",
         "False",
         "False",
         "False",
         "False",
         "False",
         "False",
         "False",
         "False",
         "False",
         "False",
         "False",
         "False",
         "False",
         "False",
         "False",
         "False",
         "False",
         "False",
         "False",
         "False",
         "False",
         "False",
         "False",
         "False",
         "False",
         "False",
         "False",
         "False",
         "False",
         "False",
         "False",
         "False",
         "False",
         "False",
         "False",
         "False",
         "False",
         "False",
         "False",
         "False",
         "False",
         "False",
         "False",
         "False",
         "False",
         "False",
         "False",
         "False",
         "False",
         "False",
         "False",
         "False",
         "False",
         "False",
         "False",
         "False",
         "False",
         "False",
         "False",
         "False",
         "False",
         "False",
         "False",
         "False",
         "False",
         "False",
         "False",
         "False",
         "False",
         "False",
         "False",
         "False",
         "False",
         "False",
         "False",
         "False",
         "False",
         "False",
         "False",
         "False",
         "False",
         "False",
         "False",
         "False",
         "False",
         "False",
         "False",
         "False",
         "False",
         "False",
         "False",
         "False",
         "False",
         "False",
         "False",
         "False",
         "False",
         "False",
         "False",
         "False",
         "False",
         "False",
         "False",
         "False",
         "False",
         "False",
         "False",
         "False",
         "False",
         "False",
         "False",
         "False",
         "False",
         "False",
         "False",
         "False",
         "False",
         "False",
         "False",
         "False",
         "False",
         "False",
         "False",
         "False",
         "False",
         "False",
         "False",
         "False",
         "False",
         "False",
         "False",
         "False",
         "False",
         "False",
         "False",
         "False",
         "False",
         "False",
         "False",
         "False",
         "False",
         "False",
         "False",
         "False",
         "False",
         "False",
         "False",
         "False",
         "False",
         "False",
         "False",
         "False",
         "False",
         "False",
         "True",
         "False",
         "False",
         "False",
         "False",
         "False",
         "False",
         "False",
         "False",
         "False",
         "False",
         "False",
         "False",
         "False",
         "False",
         "False",
         "False",
         "False",
         "False",
         "False",
         "False",
         "False",
         "False",
         "False",
         "False",
         "False",
         "False",
         "False",
         "False",
         "False",
         "False",
         "False",
         "False",
         "False",
         "False",
         "False",
         "False",
         "False",
         "False",
         "False",
         "False",
         "False",
         "False",
         "False",
         "False",
         "False",
         "False",
         "False",
         "False",
         "False",
         "False",
         "False",
         "False",
         "False",
         "False",
         "False",
         "False",
         "False",
         "False",
         "False",
         "False",
         "False",
         "False",
         "False",
         "False",
         "False",
         "False",
         "False",
         "False",
         "False",
         "False",
         "False",
         "False",
         "False",
         "False",
         "False",
         "False",
         "False",
         "False",
         "False",
         "False",
         "False",
         "False",
         "False",
         "False",
         "False",
         "False",
         "False",
         "False",
         "False",
         "False",
         "False",
         "False",
         "False",
         "False",
         "False",
         "False",
         "False",
         "False",
         "False",
         "False",
         "False",
         "False",
         "False",
         "False",
         "False",
         "False",
         "False",
         "False",
         "False",
         "False",
         "False",
         "False",
         "False",
         "False",
         "False",
         "False",
         "False",
         "False",
         "False",
         "False",
         "False",
         "False",
         "False",
         "False",
         "False",
         "False",
         "False",
         "False",
         "False",
         "False",
         "False",
         "False",
         "True",
         "False",
         "False",
         "False",
         "False"
        ],
        [
         "1",
         "500",
         "False",
         "False",
         "False",
         "False",
         "False",
         "False",
         "False",
         "False",
         "False",
         "False",
         "False",
         "False",
         "False",
         "False",
         "False",
         "False",
         "False",
         "False",
         "False",
         "False",
         "False",
         "False",
         "False",
         "False",
         "False",
         "False",
         "False",
         "False",
         "False",
         "False",
         "False",
         "False",
         "False",
         "False",
         "False",
         "False",
         "False",
         "False",
         "False",
         "False",
         "False",
         "False",
         "False",
         "False",
         "False",
         "False",
         "False",
         "False",
         "False",
         "False",
         "False",
         "False",
         "False",
         "False",
         "False",
         "False",
         "False",
         "False",
         "False",
         "False",
         "False",
         "False",
         "False",
         "False",
         "False",
         "False",
         "False",
         "False",
         "False",
         "False",
         "False",
         "False",
         "False",
         "False",
         "False",
         "False",
         "False",
         "False",
         "False",
         "False",
         "False",
         "False",
         "False",
         "False",
         "False",
         "False",
         "False",
         "False",
         "False",
         "False",
         "False",
         "False",
         "False",
         "False",
         "False",
         "False",
         "False",
         "False",
         "False",
         "False",
         "False",
         "False",
         "False",
         "False",
         "False",
         "False",
         "False",
         "False",
         "False",
         "False",
         "False",
         "False",
         "False",
         "False",
         "False",
         "False",
         "False",
         "False",
         "False",
         "False",
         "False",
         "False",
         "False",
         "False",
         "False",
         "False",
         "False",
         "False",
         "False",
         "False",
         "False",
         "False",
         "False",
         "False",
         "False",
         "False",
         "False",
         "False",
         "False",
         "False",
         "False",
         "False",
         "False",
         "False",
         "False",
         "False",
         "False",
         "False",
         "False",
         "False",
         "False",
         "False",
         "False",
         "False",
         "False",
         "False",
         "False",
         "False",
         "False",
         "False",
         "False",
         "False",
         "False",
         "False",
         "False",
         "False",
         "False",
         "False",
         "False",
         "False",
         "False",
         "False",
         "False",
         "False",
         "False",
         "False",
         "False",
         "False",
         "False",
         "False",
         "False",
         "False",
         "False",
         "False",
         "False",
         "False",
         "False",
         "False",
         "False",
         "False",
         "False",
         "False",
         "False",
         "False",
         "False",
         "False",
         "False",
         "False",
         "False",
         "False",
         "False",
         "False",
         "False",
         "False",
         "False",
         "False",
         "False",
         "False",
         "False",
         "False",
         "False",
         "False",
         "False",
         "False",
         "False",
         "False",
         "False",
         "False",
         "False",
         "False",
         "False",
         "False",
         "False",
         "False",
         "False",
         "False",
         "False",
         "False",
         "False",
         "False",
         "False",
         "False",
         "False",
         "False",
         "False",
         "False",
         "False",
         "False",
         "False",
         "False",
         "False",
         "False",
         "False",
         "False",
         "False",
         "False",
         "False",
         "False",
         "False",
         "False",
         "False",
         "False",
         "False",
         "False",
         "False",
         "False",
         "False",
         "False",
         "False",
         "False",
         "False",
         "False",
         "False",
         "False",
         "False",
         "False",
         "False",
         "False",
         "False",
         "False",
         "False",
         "False",
         "False",
         "False",
         "False",
         "False",
         "False",
         "False",
         "False",
         "False",
         "False",
         "False",
         "False",
         "False",
         "False",
         "False",
         "False",
         "False",
         "False",
         "False",
         "False",
         "False",
         "False",
         "False",
         "False",
         "False",
         "False",
         "False",
         "False",
         "False",
         "False",
         "False",
         "False",
         "False",
         "False",
         "False",
         "False",
         "False",
         "False",
         "False",
         "False",
         "False",
         "False",
         "False",
         "False",
         "False",
         "False",
         "False",
         "False",
         "False",
         "False",
         "False",
         "False",
         "False",
         "False",
         "False",
         "False",
         "False",
         "False",
         "False",
         "False",
         "False",
         "False",
         "False",
         "False",
         "False",
         "False",
         "False",
         "False",
         "False",
         "False",
         "False",
         "False",
         "False",
         "False",
         "False",
         "False",
         "False",
         "False",
         "False",
         "False",
         "False",
         "False",
         "False",
         "False",
         "False",
         "False",
         "False",
         "False",
         "False",
         "False",
         "False",
         "False",
         "False",
         "False",
         "False",
         "False",
         "False",
         "False",
         "False",
         "False",
         "False",
         "False",
         "False",
         "False",
         "False",
         "False",
         "False",
         "False",
         "False",
         "False",
         "False",
         "False",
         "False",
         "False",
         "False",
         "False",
         "False",
         "False",
         "False",
         "False",
         "False",
         "False",
         "False",
         "False",
         "False",
         "False",
         "False",
         "False",
         "False",
         "False",
         "False",
         "False",
         "False",
         "False",
         "False",
         "False",
         "False",
         "False",
         "False",
         "False",
         "False",
         "False",
         "False",
         "False",
         "False",
         "False",
         "False",
         "False",
         "False",
         "False",
         "False",
         "False",
         "False",
         "True",
         "False",
         "False",
         "False",
         "False",
         "False",
         "False",
         "False",
         "False",
         "False",
         "False",
         "False",
         "False",
         "False",
         "False",
         "True",
         "False",
         "False",
         "False",
         "False",
         "False",
         "False"
        ],
        [
         "2",
         "723",
         "False",
         "False",
         "False",
         "False",
         "False",
         "False",
         "False",
         "False",
         "False",
         "False",
         "False",
         "False",
         "False",
         "False",
         "False",
         "False",
         "False",
         "False",
         "False",
         "False",
         "False",
         "False",
         "False",
         "False",
         "False",
         "False",
         "False",
         "False",
         "False",
         "False",
         "False",
         "False",
         "False",
         "False",
         "False",
         "False",
         "False",
         "False",
         "False",
         "False",
         "False",
         "False",
         "False",
         "False",
         "False",
         "False",
         "False",
         "False",
         "False",
         "False",
         "False",
         "False",
         "False",
         "False",
         "False",
         "False",
         "False",
         "False",
         "False",
         "False",
         "False",
         "False",
         "False",
         "False",
         "False",
         "False",
         "False",
         "False",
         "False",
         "False",
         "False",
         "False",
         "False",
         "False",
         "False",
         "False",
         "False",
         "False",
         "False",
         "False",
         "False",
         "False",
         "False",
         "False",
         "False",
         "False",
         "False",
         "False",
         "False",
         "False",
         "False",
         "False",
         "False",
         "False",
         "False",
         "False",
         "False",
         "False",
         "False",
         "False",
         "False",
         "False",
         "False",
         "False",
         "False",
         "False",
         "False",
         "False",
         "False",
         "False",
         "False",
         "False",
         "False",
         "False",
         "False",
         "False",
         "False",
         "False",
         "False",
         "False",
         "False",
         "False",
         "False",
         "False",
         "False",
         "False",
         "False",
         "False",
         "False",
         "False",
         "False",
         "False",
         "False",
         "False",
         "False",
         "False",
         "False",
         "False",
         "False",
         "False",
         "False",
         "False",
         "False",
         "False",
         "False",
         "False",
         "False",
         "False",
         "False",
         "False",
         "False",
         "False",
         "False",
         "False",
         "False",
         "False",
         "False",
         "False",
         "False",
         "False",
         "False",
         "False",
         "False",
         "False",
         "False",
         "False",
         "False",
         "False",
         "False",
         "False",
         "False",
         "False",
         "False",
         "False",
         "False",
         "False",
         "False",
         "False",
         "False",
         "False",
         "False",
         "False",
         "False",
         "False",
         "False",
         "False",
         "False",
         "False",
         "False",
         "False",
         "False",
         "False",
         "False",
         "False",
         "False",
         "False",
         "False",
         "False",
         "False",
         "False",
         "False",
         "False",
         "False",
         "False",
         "False",
         "False",
         "False",
         "False",
         "False",
         "False",
         "False",
         "False",
         "False",
         "False",
         "False",
         "False",
         "False",
         "False",
         "False",
         "False",
         "False",
         "False",
         "False",
         "False",
         "False",
         "False",
         "False",
         "False",
         "False",
         "False",
         "False",
         "False",
         "False",
         "False",
         "False",
         "False",
         "False",
         "False",
         "False",
         "False",
         "False",
         "False",
         "False",
         "False",
         "False",
         "False",
         "False",
         "False",
         "False",
         "False",
         "False",
         "False",
         "False",
         "False",
         "False",
         "False",
         "False",
         "False",
         "False",
         "False",
         "False",
         "False",
         "False",
         "False",
         "False",
         "False",
         "False",
         "False",
         "False",
         "False",
         "False",
         "False",
         "False",
         "False",
         "False",
         "False",
         "False",
         "False",
         "False",
         "False",
         "False",
         "False",
         "False",
         "False",
         "False",
         "False",
         "False",
         "False",
         "False",
         "False",
         "False",
         "False",
         "False",
         "False",
         "False",
         "False",
         "False",
         "False",
         "True",
         "False",
         "False",
         "False",
         "False",
         "False",
         "False",
         "False",
         "False",
         "False",
         "False",
         "False",
         "False",
         "False",
         "False",
         "False",
         "False",
         "False",
         "False",
         "False",
         "False",
         "False",
         "False",
         "False",
         "False",
         "False",
         "False",
         "False",
         "False",
         "False",
         "False",
         "False",
         "False",
         "False",
         "False",
         "False",
         "False",
         "False",
         "False",
         "False",
         "False",
         "False",
         "False",
         "False",
         "False",
         "False",
         "False",
         "False",
         "False",
         "False",
         "False",
         "False",
         "False",
         "False",
         "False",
         "False",
         "False",
         "False",
         "False",
         "False",
         "False",
         "False",
         "False",
         "False",
         "False",
         "False",
         "False",
         "False",
         "False",
         "False",
         "False",
         "False",
         "False",
         "False",
         "False",
         "False",
         "False",
         "False",
         "False",
         "False",
         "False",
         "False",
         "False",
         "False",
         "False",
         "False",
         "False",
         "False",
         "False",
         "False",
         "False",
         "False",
         "False",
         "False",
         "False",
         "False",
         "False",
         "False",
         "False",
         "False",
         "False",
         "False",
         "False",
         "False",
         "False",
         "False",
         "False",
         "False",
         "False",
         "False",
         "False",
         "False",
         "False",
         "False",
         "False",
         "False",
         "False",
         "False",
         "False",
         "False",
         "False",
         "False",
         "False",
         "False",
         "False",
         "False",
         "False",
         "False",
         "False",
         "False",
         "False",
         "False",
         "False",
         "False",
         "False",
         "False",
         "False",
         "False",
         "False",
         "False",
         "False",
         "False",
         "False",
         "True",
         "False",
         "False",
         "False",
         "False"
        ],
        [
         "3",
         "277",
         "False",
         "False",
         "False",
         "False",
         "False",
         "False",
         "False",
         "False",
         "False",
         "False",
         "False",
         "False",
         "False",
         "False",
         "False",
         "False",
         "False",
         "False",
         "False",
         "False",
         "False",
         "False",
         "False",
         "False",
         "False",
         "False",
         "False",
         "False",
         "False",
         "False",
         "False",
         "False",
         "False",
         "False",
         "False",
         "False",
         "False",
         "False",
         "False",
         "False",
         "False",
         "False",
         "False",
         "False",
         "False",
         "False",
         "False",
         "False",
         "False",
         "False",
         "False",
         "False",
         "False",
         "False",
         "False",
         "False",
         "False",
         "False",
         "False",
         "False",
         "False",
         "False",
         "False",
         "False",
         "False",
         "False",
         "False",
         "False",
         "False",
         "False",
         "False",
         "False",
         "False",
         "False",
         "False",
         "False",
         "False",
         "False",
         "False",
         "False",
         "False",
         "False",
         "False",
         "False",
         "False",
         "False",
         "False",
         "False",
         "False",
         "False",
         "False",
         "False",
         "False",
         "False",
         "False",
         "False",
         "False",
         "False",
         "False",
         "False",
         "False",
         "False",
         "False",
         "False",
         "False",
         "False",
         "False",
         "False",
         "False",
         "False",
         "False",
         "False",
         "False",
         "False",
         "False",
         "False",
         "False",
         "False",
         "False",
         "False",
         "False",
         "False",
         "True",
         "False",
         "False",
         "False",
         "False",
         "False",
         "False",
         "False",
         "False",
         "False",
         "False",
         "False",
         "False",
         "False",
         "False",
         "False",
         "False",
         "False",
         "False",
         "False",
         "False",
         "False",
         "False",
         "False",
         "False",
         "False",
         "False",
         "False",
         "False",
         "False",
         "False",
         "False",
         "False",
         "False",
         "False",
         "False",
         "False",
         "False",
         "False",
         "False",
         "False",
         "False",
         "False",
         "False",
         "False",
         "False",
         "False",
         "False",
         "False",
         "False",
         "False",
         "False",
         "False",
         "False",
         "False",
         "False",
         "False",
         "False",
         "False",
         "False",
         "False",
         "False",
         "False",
         "False",
         "False",
         "False",
         "False",
         "False",
         "False",
         "False",
         "False",
         "False",
         "False",
         "False",
         "False",
         "False",
         "False",
         "False",
         "False",
         "False",
         "False",
         "False",
         "False",
         "False",
         "False",
         "False",
         "False",
         "False",
         "False",
         "False",
         "False",
         "False",
         "False",
         "False",
         "False",
         "False",
         "False",
         "False",
         "False",
         "False",
         "False",
         "False",
         "False",
         "False",
         "False",
         "False",
         "False",
         "False",
         "False",
         "False",
         "False",
         "False",
         "False",
         "False",
         "False",
         "False",
         "False",
         "False",
         "False",
         "False",
         "False",
         "False",
         "False",
         "False",
         "False",
         "False",
         "False",
         "False",
         "False",
         "False",
         "False",
         "False",
         "False",
         "False",
         "False",
         "False",
         "False",
         "False",
         "False",
         "False",
         "False",
         "False",
         "False",
         "False",
         "False",
         "False",
         "False",
         "False",
         "False",
         "False",
         "False",
         "False",
         "False",
         "False",
         "False",
         "False",
         "False",
         "False",
         "False",
         "False",
         "False",
         "False",
         "False",
         "False",
         "False",
         "False",
         "False",
         "False",
         "False",
         "False",
         "False",
         "False",
         "False",
         "False",
         "False",
         "False",
         "False",
         "False",
         "False",
         "False",
         "False",
         "False",
         "False",
         "False",
         "False",
         "False",
         "False",
         "False",
         "False",
         "False",
         "False",
         "False",
         "False",
         "False",
         "False",
         "False",
         "False",
         "False",
         "False",
         "False",
         "False",
         "False",
         "False",
         "False",
         "False",
         "False",
         "False",
         "False",
         "False",
         "False",
         "False",
         "False",
         "False",
         "False",
         "False",
         "False",
         "False",
         "False",
         "False",
         "False",
         "False",
         "False",
         "False",
         "False",
         "False",
         "False",
         "False",
         "False",
         "False",
         "False",
         "False",
         "False",
         "False",
         "False",
         "False",
         "False",
         "False",
         "False",
         "False",
         "False",
         "False",
         "False",
         "False",
         "False",
         "False",
         "False",
         "False",
         "False",
         "False",
         "False",
         "False",
         "False",
         "False",
         "False",
         "False",
         "False",
         "False",
         "False",
         "False",
         "False",
         "False",
         "False",
         "False",
         "False",
         "False",
         "False",
         "False",
         "False",
         "False",
         "False",
         "False",
         "False",
         "False",
         "False",
         "False",
         "False",
         "False",
         "False",
         "False",
         "False",
         "False",
         "False",
         "False",
         "False",
         "False",
         "False",
         "False",
         "False",
         "False",
         "False",
         "False",
         "False",
         "False",
         "False",
         "False",
         "False",
         "False",
         "False",
         "False",
         "False",
         "False",
         "False",
         "False",
         "False",
         "False",
         "False",
         "False",
         "False",
         "False",
         "False",
         "False",
         "False",
         "False",
         "False",
         "False",
         "False",
         "True",
         "False",
         "False",
         "False",
         "False",
         "False",
         "False",
         "False"
        ]
       ],
       "shape": {
        "columns": 447,
        "rows": 4
       }
      },
      "text/html": [
       "<div>\n",
       "<style scoped>\n",
       "    .dataframe tbody tr th:only-of-type {\n",
       "        vertical-align: middle;\n",
       "    }\n",
       "\n",
       "    .dataframe tbody tr th {\n",
       "        vertical-align: top;\n",
       "    }\n",
       "\n",
       "    .dataframe thead th {\n",
       "        text-align: right;\n",
       "    }\n",
       "</style>\n",
       "<table border=\"1\" class=\"dataframe\">\n",
       "  <thead>\n",
       "    <tr style=\"text-align: right;\">\n",
       "      <th></th>\n",
       "      <th>Phone</th>\n",
       "      <th>CompanyName_A Cycle Shop</th>\n",
       "      <th>CompanyName_A Great Bicycle Company</th>\n",
       "      <th>CompanyName_A Typical Bike Shop</th>\n",
       "      <th>CompanyName_Acceptable Sales &amp; Service</th>\n",
       "      <th>CompanyName_Action Bicycle Specialists</th>\n",
       "      <th>CompanyName_Active Life Toys</th>\n",
       "      <th>CompanyName_Active Systems</th>\n",
       "      <th>CompanyName_Advanced Bike Components</th>\n",
       "      <th>CompanyName_Aerobic Exercise Company</th>\n",
       "      <th>...</th>\n",
       "      <th>CompanyName_Year-Round Sports</th>\n",
       "      <th>CompanyName_Yellow Bicycle Company</th>\n",
       "      <th>SalesPerson_adventure-works\\garrett1</th>\n",
       "      <th>SalesPerson_adventure-works\\jae0</th>\n",
       "      <th>SalesPerson_adventure-works\\jillian0</th>\n",
       "      <th>SalesPerson_adventure-works\\josé1</th>\n",
       "      <th>SalesPerson_adventure-works\\linda3</th>\n",
       "      <th>SalesPerson_adventure-works\\michael9</th>\n",
       "      <th>SalesPerson_adventure-works\\pamela0</th>\n",
       "      <th>SalesPerson_adventure-works\\shu0</th>\n",
       "    </tr>\n",
       "  </thead>\n",
       "  <tbody>\n",
       "    <tr>\n",
       "      <th>0</th>\n",
       "      <td>155</td>\n",
       "      <td>False</td>\n",
       "      <td>False</td>\n",
       "      <td>False</td>\n",
       "      <td>False</td>\n",
       "      <td>False</td>\n",
       "      <td>False</td>\n",
       "      <td>False</td>\n",
       "      <td>False</td>\n",
       "      <td>False</td>\n",
       "      <td>...</td>\n",
       "      <td>False</td>\n",
       "      <td>False</td>\n",
       "      <td>False</td>\n",
       "      <td>False</td>\n",
       "      <td>False</td>\n",
       "      <td>True</td>\n",
       "      <td>False</td>\n",
       "      <td>False</td>\n",
       "      <td>False</td>\n",
       "      <td>False</td>\n",
       "    </tr>\n",
       "    <tr>\n",
       "      <th>1</th>\n",
       "      <td>500</td>\n",
       "      <td>False</td>\n",
       "      <td>False</td>\n",
       "      <td>False</td>\n",
       "      <td>False</td>\n",
       "      <td>False</td>\n",
       "      <td>False</td>\n",
       "      <td>False</td>\n",
       "      <td>False</td>\n",
       "      <td>False</td>\n",
       "      <td>...</td>\n",
       "      <td>False</td>\n",
       "      <td>False</td>\n",
       "      <td>False</td>\n",
       "      <td>True</td>\n",
       "      <td>False</td>\n",
       "      <td>False</td>\n",
       "      <td>False</td>\n",
       "      <td>False</td>\n",
       "      <td>False</td>\n",
       "      <td>False</td>\n",
       "    </tr>\n",
       "    <tr>\n",
       "      <th>2</th>\n",
       "      <td>723</td>\n",
       "      <td>False</td>\n",
       "      <td>False</td>\n",
       "      <td>False</td>\n",
       "      <td>False</td>\n",
       "      <td>False</td>\n",
       "      <td>False</td>\n",
       "      <td>False</td>\n",
       "      <td>False</td>\n",
       "      <td>False</td>\n",
       "      <td>...</td>\n",
       "      <td>False</td>\n",
       "      <td>False</td>\n",
       "      <td>False</td>\n",
       "      <td>False</td>\n",
       "      <td>False</td>\n",
       "      <td>True</td>\n",
       "      <td>False</td>\n",
       "      <td>False</td>\n",
       "      <td>False</td>\n",
       "      <td>False</td>\n",
       "    </tr>\n",
       "    <tr>\n",
       "      <th>3</th>\n",
       "      <td>277</td>\n",
       "      <td>False</td>\n",
       "      <td>False</td>\n",
       "      <td>False</td>\n",
       "      <td>False</td>\n",
       "      <td>False</td>\n",
       "      <td>False</td>\n",
       "      <td>False</td>\n",
       "      <td>False</td>\n",
       "      <td>False</td>\n",
       "      <td>...</td>\n",
       "      <td>False</td>\n",
       "      <td>False</td>\n",
       "      <td>True</td>\n",
       "      <td>False</td>\n",
       "      <td>False</td>\n",
       "      <td>False</td>\n",
       "      <td>False</td>\n",
       "      <td>False</td>\n",
       "      <td>False</td>\n",
       "      <td>False</td>\n",
       "    </tr>\n",
       "  </tbody>\n",
       "</table>\n",
       "<p>4 rows × 447 columns</p>\n",
       "</div>"
      ],
      "text/plain": [
       "   Phone  CompanyName_A Cycle Shop  CompanyName_A Great Bicycle Company  \\\n",
       "0    155                     False                                False   \n",
       "1    500                     False                                False   \n",
       "2    723                     False                                False   \n",
       "3    277                     False                                False   \n",
       "\n",
       "   CompanyName_A Typical Bike Shop  CompanyName_Acceptable Sales & Service  \\\n",
       "0                            False                                   False   \n",
       "1                            False                                   False   \n",
       "2                            False                                   False   \n",
       "3                            False                                   False   \n",
       "\n",
       "   CompanyName_Action Bicycle Specialists  CompanyName_Active Life Toys  \\\n",
       "0                                   False                         False   \n",
       "1                                   False                         False   \n",
       "2                                   False                         False   \n",
       "3                                   False                         False   \n",
       "\n",
       "   CompanyName_Active Systems  CompanyName_Advanced Bike Components  \\\n",
       "0                       False                                 False   \n",
       "1                       False                                 False   \n",
       "2                       False                                 False   \n",
       "3                       False                                 False   \n",
       "\n",
       "   CompanyName_Aerobic Exercise Company  ...  CompanyName_Year-Round Sports  \\\n",
       "0                                 False  ...                          False   \n",
       "1                                 False  ...                          False   \n",
       "2                                 False  ...                          False   \n",
       "3                                 False  ...                          False   \n",
       "\n",
       "   CompanyName_Yellow Bicycle Company  SalesPerson_adventure-works\\garrett1  \\\n",
       "0                               False                                 False   \n",
       "1                               False                                 False   \n",
       "2                               False                                 False   \n",
       "3                               False                                  True   \n",
       "\n",
       "   SalesPerson_adventure-works\\jae0  SalesPerson_adventure-works\\jillian0  \\\n",
       "0                             False                                 False   \n",
       "1                              True                                 False   \n",
       "2                             False                                 False   \n",
       "3                             False                                 False   \n",
       "\n",
       "   SalesPerson_adventure-works\\josé1  SalesPerson_adventure-works\\linda3  \\\n",
       "0                               True                               False   \n",
       "1                              False                               False   \n",
       "2                               True                               False   \n",
       "3                              False                               False   \n",
       "\n",
       "   SalesPerson_adventure-works\\michael9  SalesPerson_adventure-works\\pamela0  \\\n",
       "0                                 False                                False   \n",
       "1                                 False                                False   \n",
       "2                                 False                                False   \n",
       "3                                 False                                False   \n",
       "\n",
       "   SalesPerson_adventure-works\\shu0  \n",
       "0                             False  \n",
       "1                             False  \n",
       "2                             False  \n",
       "3                             False  \n",
       "\n",
       "[4 rows x 447 columns]"
      ]
     },
     "execution_count": 1,
     "metadata": {},
     "output_type": "execute_result"
    }
   ],
   "source": [
    "import pandas as pd\n",
    "\n",
    "#input_data = input(\"Introduce path for data\")\n",
    "data = pd.read_csv(\"testapi.csv\")\n",
    "data_dict = data.to_dict(orient='list')\n",
    "\n",
    "data"
   ]
  },
  {
   "cell_type": "code",
   "execution_count": 2,
   "id": "cc051c0b",
   "metadata": {},
   "outputs": [],
   "source": [
    "import json\n",
    "\n",
    "#Formateado para la API:\n",
    "data_json = json.dumps({\"data\": [data_dict]})\n",
    "\n",
    "suri = open(\"uri.json\", \"r\")\n",
    "scoring_uri = json.load(suri)[\"URI\"][0]\n",
    "suri.close()"
   ]
  },
  {
   "cell_type": "code",
   "execution_count": 3,
   "id": "eba98cee",
   "metadata": {},
   "outputs": [
    {
     "name": "stdout",
     "output_type": "stream",
     "text": [
      "name 'result_finals' is not defined\n"
     ]
    },
    {
     "data": {
      "application/vnd.microsoft.datawrangler.viewer.v0+json": {
       "columns": [
        {
         "name": "index",
         "rawType": "int64",
         "type": "integer"
        },
        {
         "name": "Phone",
         "rawType": "int64",
         "type": "integer"
        },
        {
         "name": "CompanyName_A Cycle Shop",
         "rawType": "bool",
         "type": "boolean"
        },
        {
         "name": "CompanyName_A Great Bicycle Company",
         "rawType": "bool",
         "type": "boolean"
        },
        {
         "name": "CompanyName_A Typical Bike Shop",
         "rawType": "bool",
         "type": "boolean"
        },
        {
         "name": "CompanyName_Acceptable Sales & Service",
         "rawType": "bool",
         "type": "boolean"
        },
        {
         "name": "CompanyName_Action Bicycle Specialists",
         "rawType": "bool",
         "type": "boolean"
        },
        {
         "name": "CompanyName_Active Life Toys",
         "rawType": "bool",
         "type": "boolean"
        },
        {
         "name": "CompanyName_Active Systems",
         "rawType": "bool",
         "type": "boolean"
        },
        {
         "name": "CompanyName_Advanced Bike Components",
         "rawType": "bool",
         "type": "boolean"
        },
        {
         "name": "CompanyName_Aerobic Exercise Company",
         "rawType": "bool",
         "type": "boolean"
        },
        {
         "name": "CompanyName_Affordable Sports Equipment",
         "rawType": "bool",
         "type": "boolean"
        },
        {
         "name": "CompanyName_All Cycle Shop",
         "rawType": "bool",
         "type": "boolean"
        },
        {
         "name": "CompanyName_All Seasons Sports Supply",
         "rawType": "bool",
         "type": "boolean"
        },
        {
         "name": "CompanyName_Alpine Ski House",
         "rawType": "bool",
         "type": "boolean"
        },
        {
         "name": "CompanyName_Alternative Vehicles",
         "rawType": "bool",
         "type": "boolean"
        },
        {
         "name": "CompanyName_Another Bicycle Company",
         "rawType": "bool",
         "type": "boolean"
        },
        {
         "name": "CompanyName_Another Sporting Goods Company",
         "rawType": "bool",
         "type": "boolean"
        },
        {
         "name": "CompanyName_Area Bike Accessories",
         "rawType": "bool",
         "type": "boolean"
        },
        {
         "name": "CompanyName_Area Sheet Metal Supply",
         "rawType": "bool",
         "type": "boolean"
        },
        {
         "name": "CompanyName_Associated Bikes",
         "rawType": "bool",
         "type": "boolean"
        },
        {
         "name": "CompanyName_Authentic Sales and Service",
         "rawType": "bool",
         "type": "boolean"
        },
        {
         "name": "CompanyName_Authorized Bike Sales and Rental",
         "rawType": "bool",
         "type": "boolean"
        },
        {
         "name": "CompanyName_Basic Bike Company",
         "rawType": "bool",
         "type": "boolean"
        },
        {
         "name": "CompanyName_Basic Sports Equipment",
         "rawType": "bool",
         "type": "boolean"
        },
        {
         "name": "CompanyName_Beneficial Exercises and Activities",
         "rawType": "bool",
         "type": "boolean"
        },
        {
         "name": "CompanyName_Best o' Bikes",
         "rawType": "bool",
         "type": "boolean"
        },
        {
         "name": "CompanyName_Bicycle Accessories and Kits",
         "rawType": "bool",
         "type": "boolean"
        },
        {
         "name": "CompanyName_Bicycle Lines Distributors",
         "rawType": "bool",
         "type": "boolean"
        },
        {
         "name": "CompanyName_Bicycle Merchandise Warehouse",
         "rawType": "bool",
         "type": "boolean"
        },
        {
         "name": "CompanyName_Big Cycle Mall",
         "rawType": "bool",
         "type": "boolean"
        },
        {
         "name": "CompanyName_Big-Time Bike Store",
         "rawType": "bool",
         "type": "boolean"
        },
        {
         "name": "CompanyName_Bike Dealers Association",
         "rawType": "bool",
         "type": "boolean"
        },
        {
         "name": "CompanyName_Bike Experts",
         "rawType": "bool",
         "type": "boolean"
        },
        {
         "name": "CompanyName_Bike Universe",
         "rawType": "bool",
         "type": "boolean"
        },
        {
         "name": "CompanyName_Bike World",
         "rawType": "bool",
         "type": "boolean"
        },
        {
         "name": "CompanyName_Bikes and Motorbikes",
         "rawType": "bool",
         "type": "boolean"
        },
        {
         "name": "CompanyName_Bikes for Kids and Adults",
         "rawType": "bool",
         "type": "boolean"
        },
        {
         "name": "CompanyName_Bikes for Two",
         "rawType": "bool",
         "type": "boolean"
        },
        {
         "name": "CompanyName_Black Bicycle Company",
         "rawType": "bool",
         "type": "boolean"
        },
        {
         "name": "CompanyName_Blue Bicycle Company",
         "rawType": "bool",
         "type": "boolean"
        },
        {
         "name": "CompanyName_Bold Bike Accessories",
         "rawType": "bool",
         "type": "boolean"
        },
        {
         "name": "CompanyName_Brakes and Gears",
         "rawType": "bool",
         "type": "boolean"
        },
        {
         "name": "CompanyName_Brightwork Company",
         "rawType": "bool",
         "type": "boolean"
        },
        {
         "name": "CompanyName_Brown Bicycle Company",
         "rawType": "bool",
         "type": "boolean"
        },
        {
         "name": "CompanyName_Bulk Discount Store",
         "rawType": "bool",
         "type": "boolean"
        },
        {
         "name": "CompanyName_Camping and Sports Store",
         "rawType": "bool",
         "type": "boolean"
        },
        {
         "name": "CompanyName_Capable Sales and Service",
         "rawType": "bool",
         "type": "boolean"
        },
        {
         "name": "CompanyName_Cash & Carry Bikes",
         "rawType": "bool",
         "type": "boolean"
        },
        {
         "name": "CompanyName_Catalog Store",
         "rawType": "bool",
         "type": "boolean"
        },
        {
         "name": "CompanyName_Center Cycle Shop",
         "rawType": "bool",
         "type": "boolean"
        },
        {
         "name": "CompanyName_Central Bicycle Specialists",
         "rawType": "bool",
         "type": "boolean"
        },
        {
         "name": "CompanyName_Central Discount Store",
         "rawType": "bool",
         "type": "boolean"
        },
        {
         "name": "CompanyName_Certified Bicycle Supply",
         "rawType": "bool",
         "type": "boolean"
        },
        {
         "name": "CompanyName_Certified Sports Supply",
         "rawType": "bool",
         "type": "boolean"
        },
        {
         "name": "CompanyName_Channel Outlet",
         "rawType": "bool",
         "type": "boolean"
        },
        {
         "name": "CompanyName_Chic Department Stores",
         "rawType": "bool",
         "type": "boolean"
        },
        {
         "name": "CompanyName_City Cycling",
         "rawType": "bool",
         "type": "boolean"
        },
        {
         "name": "CompanyName_City Manufacturing",
         "rawType": "bool",
         "type": "boolean"
        },
        {
         "name": "CompanyName_Citywide Service and Repair",
         "rawType": "bool",
         "type": "boolean"
        },
        {
         "name": "CompanyName_Client Discount Store",
         "rawType": "bool",
         "type": "boolean"
        },
        {
         "name": "CompanyName_Closeout Boutique",
         "rawType": "bool",
         "type": "boolean"
        },
        {
         "name": "CompanyName_Closest Bicycle Store",
         "rawType": "bool",
         "type": "boolean"
        },
        {
         "name": "CompanyName_Coalition Bike Company",
         "rawType": "bool",
         "type": "boolean"
        },
        {
         "name": "CompanyName_Coho Sports",
         "rawType": "bool",
         "type": "boolean"
        },
        {
         "name": "CompanyName_Commendable Bikes",
         "rawType": "bool",
         "type": "boolean"
        },
        {
         "name": "CompanyName_Commerce Bicycle Specialists",
         "rawType": "bool",
         "type": "boolean"
        },
        {
         "name": "CompanyName_Commercial Sporting Goods",
         "rawType": "bool",
         "type": "boolean"
        },
        {
         "name": "CompanyName_Commuter Bicycle Store",
         "rawType": "bool",
         "type": "boolean"
        },
        {
         "name": "CompanyName_Consolidated Messenger",
         "rawType": "bool",
         "type": "boolean"
        },
        {
         "name": "CompanyName_Consumer Equipment",
         "rawType": "bool",
         "type": "boolean"
        },
        {
         "name": "CompanyName_Contoso, Ltd.",
         "rawType": "bool",
         "type": "boolean"
        },
        {
         "name": "CompanyName_Convenient Sales and Service",
         "rawType": "bool",
         "type": "boolean"
        },
        {
         "name": "CompanyName_Corner Bicycle Supply",
         "rawType": "bool",
         "type": "boolean"
        },
        {
         "name": "CompanyName_Countryside Company",
         "rawType": "bool",
         "type": "boolean"
        },
        {
         "name": "CompanyName_Courteous Bicycle Specialists",
         "rawType": "bool",
         "type": "boolean"
        },
        {
         "name": "CompanyName_Cross-Country Riding Supplies",
         "rawType": "bool",
         "type": "boolean"
        },
        {
         "name": "CompanyName_Curbside Sporting Goods",
         "rawType": "bool",
         "type": "boolean"
        },
        {
         "name": "CompanyName_Custom Accessories Company",
         "rawType": "bool",
         "type": "boolean"
        },
        {
         "name": "CompanyName_Custom Sales and Service",
         "rawType": "bool",
         "type": "boolean"
        },
        {
         "name": "CompanyName_Cycle Clearance",
         "rawType": "bool",
         "type": "boolean"
        },
        {
         "name": "CompanyName_Cycle Merchants",
         "rawType": "bool",
         "type": "boolean"
        },
        {
         "name": "CompanyName_Cycles Wholesaler & Mfg.",
         "rawType": "bool",
         "type": "boolean"
        },
        {
         "name": "CompanyName_Cycling Goods",
         "rawType": "bool",
         "type": "boolean"
        },
        {
         "name": "CompanyName_Demand Distributors",
         "rawType": "bool",
         "type": "boolean"
        },
        {
         "name": "CompanyName_Designated Distributors",
         "rawType": "bool",
         "type": "boolean"
        },
        {
         "name": "CompanyName_Designer Department Stores",
         "rawType": "bool",
         "type": "boolean"
        },
        {
         "name": "CompanyName_Discount Bicycle Specialists",
         "rawType": "bool",
         "type": "boolean"
        },
        {
         "name": "CompanyName_Discount Tours",
         "rawType": "bool",
         "type": "boolean"
        },
        {
         "name": "CompanyName_Distant Inn",
         "rawType": "bool",
         "type": "boolean"
        },
        {
         "name": "CompanyName_Distinctive Store",
         "rawType": "bool",
         "type": "boolean"
        },
        {
         "name": "CompanyName_District Mall",
         "rawType": "bool",
         "type": "boolean"
        },
        {
         "name": "CompanyName_Downhill Bicycle Specialists",
         "rawType": "bool",
         "type": "boolean"
        },
        {
         "name": "CompanyName_Downtown Hotel",
         "rawType": "bool",
         "type": "boolean"
        },
        {
         "name": "CompanyName_Eastside Department Store",
         "rawType": "bool",
         "type": "boolean"
        },
        {
         "name": "CompanyName_Eastside Parts Shop",
         "rawType": "bool",
         "type": "boolean"
        },
        {
         "name": "CompanyName_Economy Bikes Company",
         "rawType": "bool",
         "type": "boolean"
        },
        {
         "name": "CompanyName_Economy Center",
         "rawType": "bool",
         "type": "boolean"
        },
        {
         "name": "CompanyName_Efficient Cycling",
         "rawType": "bool",
         "type": "boolean"
        },
        {
         "name": "CompanyName_Eighth Bike Store",
         "rawType": "bool",
         "type": "boolean"
        },
        {
         "name": "CompanyName_Elite Bikes",
         "rawType": "bool",
         "type": "boolean"
        },
        {
         "name": "CompanyName_Engineered Bike Systems",
         "rawType": "bool",
         "type": "boolean"
        },
        {
         "name": "CompanyName_Essential Bike Works",
         "rawType": "bool",
         "type": "boolean"
        },
        {
         "name": "CompanyName_Exceptional Cycle Services",
         "rawType": "bool",
         "type": "boolean"
        },
        {
         "name": "CompanyName_Exclusive Bicycle Mart",
         "rawType": "bool",
         "type": "boolean"
        },
        {
         "name": "CompanyName_Exercise Center",
         "rawType": "bool",
         "type": "boolean"
        },
        {
         "name": "CompanyName_Exertion Activities Club",
         "rawType": "bool",
         "type": "boolean"
        },
        {
         "name": "CompanyName_Exhibition Showroom",
         "rawType": "bool",
         "type": "boolean"
        },
        {
         "name": "CompanyName_Exhilarating Cycles",
         "rawType": "bool",
         "type": "boolean"
        },
        {
         "name": "CompanyName_Express Bike Services",
         "rawType": "bool",
         "type": "boolean"
        },
        {
         "name": "CompanyName_Extended Bike Sales",
         "rawType": "bool",
         "type": "boolean"
        },
        {
         "name": "CompanyName_Extended Tours",
         "rawType": "bool",
         "type": "boolean"
        },
        {
         "name": "CompanyName_Extraordinary Bike Works",
         "rawType": "bool",
         "type": "boolean"
        },
        {
         "name": "CompanyName_Extras Sporting Goods",
         "rawType": "bool",
         "type": "boolean"
        },
        {
         "name": "CompanyName_Extreme Riding Supplies",
         "rawType": "bool",
         "type": "boolean"
        },
        {
         "name": "CompanyName_Fabrikam Inc., West",
         "rawType": "bool",
         "type": "boolean"
        },
        {
         "name": "CompanyName_Fad Outlet",
         "rawType": "bool",
         "type": "boolean"
        },
        {
         "name": "CompanyName_Family Cycle Store",
         "rawType": "bool",
         "type": "boolean"
        },
        {
         "name": "CompanyName_Family Entertainment Center",
         "rawType": "bool",
         "type": "boolean"
        },
        {
         "name": "CompanyName_Family's Favorite Bike Shop",
         "rawType": "bool",
         "type": "boolean"
        },
        {
         "name": "CompanyName_Famous Bike Shop",
         "rawType": "bool",
         "type": "boolean"
        },
        {
         "name": "CompanyName_Farthermost Bike Shop",
         "rawType": "bool",
         "type": "boolean"
        },
        {
         "name": "CompanyName_Farthest Bike Store",
         "rawType": "bool",
         "type": "boolean"
        },
        {
         "name": "CompanyName_Fashionable Bikes and Accessories",
         "rawType": "bool",
         "type": "boolean"
        },
        {
         "name": "CompanyName_Fasteners & Bolts Outlet",
         "rawType": "bool",
         "type": "boolean"
        },
        {
         "name": "CompanyName_Field Trip Inc",
         "rawType": "bool",
         "type": "boolean"
        },
        {
         "name": "CompanyName_Field Trip Store",
         "rawType": "bool",
         "type": "boolean"
        },
        {
         "name": "CompanyName_Fifth Bike Store",
         "rawType": "bool",
         "type": "boolean"
        },
        {
         "name": "CompanyName_Finer Cycle Shop",
         "rawType": "bool",
         "type": "boolean"
        },
        {
         "name": "CompanyName_Finer Mart",
         "rawType": "bool",
         "type": "boolean"
        },
        {
         "name": "CompanyName_Finer Parts Shop",
         "rawType": "bool",
         "type": "boolean"
        },
        {
         "name": "CompanyName_Finer Riding Supplies",
         "rawType": "bool",
         "type": "boolean"
        },
        {
         "name": "CompanyName_Finer Sales and Service",
         "rawType": "bool",
         "type": "boolean"
        },
        {
         "name": "CompanyName_Finish and Sealant Products",
         "rawType": "bool",
         "type": "boolean"
        },
        {
         "name": "CompanyName_First Bike Store",
         "rawType": "bool",
         "type": "boolean"
        },
        {
         "name": "CompanyName_First Cycle Store",
         "rawType": "bool",
         "type": "boolean"
        },
        {
         "name": "CompanyName_First Department Stores",
         "rawType": "bool",
         "type": "boolean"
        },
        {
         "name": "CompanyName_First-Rate Outlet",
         "rawType": "bool",
         "type": "boolean"
        },
        {
         "name": "CompanyName_Fitness Cycling",
         "rawType": "bool",
         "type": "boolean"
        },
        {
         "name": "CompanyName_Fitness Department Stores",
         "rawType": "bool",
         "type": "boolean"
        },
        {
         "name": "CompanyName_Fitness Hotel",
         "rawType": "bool",
         "type": "boolean"
        },
        {
         "name": "CompanyName_Fitness Supplies",
         "rawType": "bool",
         "type": "boolean"
        },
        {
         "name": "CompanyName_Fitness Toy Store",
         "rawType": "bool",
         "type": "boolean"
        },
        {
         "name": "CompanyName_Flawless Bike Shop",
         "rawType": "bool",
         "type": "boolean"
        },
        {
         "name": "CompanyName_Fleet Bikes",
         "rawType": "bool",
         "type": "boolean"
        },
        {
         "name": "CompanyName_Friendly Bike Shop",
         "rawType": "bool",
         "type": "boolean"
        },
        {
         "name": "CompanyName_Friendly Neighborhood Bikes",
         "rawType": "bool",
         "type": "boolean"
        },
        {
         "name": "CompanyName_Front Sporting Goods",
         "rawType": "bool",
         "type": "boolean"
        },
        {
         "name": "CompanyName_Frugal Bike Shop",
         "rawType": "bool",
         "type": "boolean"
        },
        {
         "name": "CompanyName_Full-Service Bike Store",
         "rawType": "bool",
         "type": "boolean"
        },
        {
         "name": "CompanyName_Fun Times Club",
         "rawType": "bool",
         "type": "boolean"
        },
        {
         "name": "CompanyName_Fun Toys and Bikes",
         "rawType": "bool",
         "type": "boolean"
        },
        {
         "name": "CompanyName_Future Bikes",
         "rawType": "bool",
         "type": "boolean"
        },
        {
         "name": "CompanyName_Futuristic Bikes",
         "rawType": "bool",
         "type": "boolean"
        },
        {
         "name": "CompanyName_Futuristic Sport Distributors",
         "rawType": "bool",
         "type": "boolean"
        },
        {
         "name": "CompanyName_Gasless Cycle Shop",
         "rawType": "bool",
         "type": "boolean"
        },
        {
         "name": "CompanyName_Gear-Shift Bikes Limited",
         "rawType": "bool",
         "type": "boolean"
        },
        {
         "name": "CompanyName_General Bike Corporation",
         "rawType": "bool",
         "type": "boolean"
        },
        {
         "name": "CompanyName_General Cycle Storehouse",
         "rawType": "bool",
         "type": "boolean"
        },
        {
         "name": "CompanyName_General Department Stores",
         "rawType": "bool",
         "type": "boolean"
        },
        {
         "name": "CompanyName_General Industries",
         "rawType": "bool",
         "type": "boolean"
        },
        {
         "name": "CompanyName_General Riding Supplies",
         "rawType": "bool",
         "type": "boolean"
        },
        {
         "name": "CompanyName_General Supplies",
         "rawType": "bool",
         "type": "boolean"
        },
        {
         "name": "CompanyName_Genial Bike Associates",
         "rawType": "bool",
         "type": "boolean"
        },
        {
         "name": "CompanyName_Genuine Bike Shop",
         "rawType": "bool",
         "type": "boolean"
        },
        {
         "name": "CompanyName_Gift and Toy Store",
         "rawType": "bool",
         "type": "boolean"
        },
        {
         "name": "CompanyName_Global Sporting Goods",
         "rawType": "bool",
         "type": "boolean"
        },
        {
         "name": "CompanyName_Go-cart and Bike Specialists",
         "rawType": "bool",
         "type": "boolean"
        },
        {
         "name": "CompanyName_Golf and Cycle Store",
         "rawType": "bool",
         "type": "boolean"
        },
        {
         "name": "CompanyName_Good Bike Shop",
         "rawType": "bool",
         "type": "boolean"
        },
        {
         "name": "CompanyName_Good Toys",
         "rawType": "bool",
         "type": "boolean"
        },
        {
         "name": "CompanyName_Grand Bicycle Stores",
         "rawType": "bool",
         "type": "boolean"
        },
        {
         "name": "CompanyName_Grand Cycle Store",
         "rawType": "bool",
         "type": "boolean"
        },
        {
         "name": "CompanyName_Grand Industries",
         "rawType": "bool",
         "type": "boolean"
        },
        {
         "name": "CompanyName_Grand Sport Boutique",
         "rawType": "bool",
         "type": "boolean"
        },
        {
         "name": "CompanyName_Grease and Oil Products Company",
         "rawType": "bool",
         "type": "boolean"
        },
        {
         "name": "CompanyName_Great Bicycle Supply",
         "rawType": "bool",
         "type": "boolean"
        },
        {
         "name": "CompanyName_Great Bikes ",
         "rawType": "bool",
         "type": "boolean"
        },
        {
         "name": "CompanyName_Greater Bike Store",
         "rawType": "bool",
         "type": "boolean"
        },
        {
         "name": "CompanyName_Handy Bike Services",
         "rawType": "bool",
         "type": "boolean"
        },
        {
         "name": "CompanyName_Hardware Components",
         "rawType": "bool",
         "type": "boolean"
        },
        {
         "name": "CompanyName_Health Spa, Limited",
         "rawType": "bool",
         "type": "boolean"
        },
        {
         "name": "CompanyName_Healthy Activity Store",
         "rawType": "bool",
         "type": "boolean"
        },
        {
         "name": "CompanyName_Highway Bike Shop",
         "rawType": "bool",
         "type": "boolean"
        },
        {
         "name": "CompanyName_Historic Bicycle Sales",
         "rawType": "bool",
         "type": "boolean"
        },
        {
         "name": "CompanyName_Home Town Bike Store",
         "rawType": "bool",
         "type": "boolean"
        },
        {
         "name": "CompanyName_Honest Repair Service",
         "rawType": "bool",
         "type": "boolean"
        },
        {
         "name": "CompanyName_Imaginary Toys",
         "rawType": "bool",
         "type": "boolean"
        },
        {
         "name": "CompanyName_Immense Manufacturing Company",
         "rawType": "bool",
         "type": "boolean"
        },
        {
         "name": "CompanyName_Imported and Domestic Cycles",
         "rawType": "bool",
         "type": "boolean"
        },
        {
         "name": "CompanyName_Impromptu Trips",
         "rawType": "bool",
         "type": "boolean"
        },
        {
         "name": "CompanyName_Initial Bike Company",
         "rawType": "bool",
         "type": "boolean"
        },
        {
         "name": "CompanyName_Instruments and Parts Company",
         "rawType": "bool",
         "type": "boolean"
        },
        {
         "name": "CompanyName_Journey Sporting Goods",
         "rawType": "bool",
         "type": "boolean"
        },
        {
         "name": "CompanyName_Kickstand Sellers",
         "rawType": "bool",
         "type": "boolean"
        },
        {
         "name": "CompanyName_Kickstands and Accessories Company",
         "rawType": "bool",
         "type": "boolean"
        },
        {
         "name": "CompanyName_Large Bike Shop",
         "rawType": "bool",
         "type": "boolean"
        },
        {
         "name": "CompanyName_Largest Bike Store",
         "rawType": "bool",
         "type": "boolean"
        },
        {
         "name": "CompanyName_Latest Accessories Sales",
         "rawType": "bool",
         "type": "boolean"
        },
        {
         "name": "CompanyName_Latest Sports Equipment",
         "rawType": "bool",
         "type": "boolean"
        },
        {
         "name": "CompanyName_Leading Sales & Repair",
         "rawType": "bool",
         "type": "boolean"
        },
        {
         "name": "CompanyName_Leather Seat Factory",
         "rawType": "bool",
         "type": "boolean"
        },
        {
         "name": "CompanyName_Leisure Activities",
         "rawType": "bool",
         "type": "boolean"
        },
        {
         "name": "CompanyName_Leisure Clearing House",
         "rawType": "bool",
         "type": "boolean"
        },
        {
         "name": "CompanyName_Little Bicycle Supply Shop",
         "rawType": "bool",
         "type": "boolean"
        },
        {
         "name": "CompanyName_Little Sports Center",
         "rawType": "bool",
         "type": "boolean"
        },
        {
         "name": "CompanyName_Local Hardware Factory",
         "rawType": "bool",
         "type": "boolean"
        },
        {
         "name": "CompanyName_Local Sales and Rental",
         "rawType": "bool",
         "type": "boolean"
        },
        {
         "name": "CompanyName_Locks Company",
         "rawType": "bool",
         "type": "boolean"
        },
        {
         "name": "CompanyName_Lots of Bikes Storehouse",
         "rawType": "bool",
         "type": "boolean"
        },
        {
         "name": "CompanyName_Low Price Cycles",
         "rawType": "bool",
         "type": "boolean"
        },
        {
         "name": "CompanyName_Machines & Cycles Store",
         "rawType": "bool",
         "type": "boolean"
        },
        {
         "name": "CompanyName_Mail Market",
         "rawType": "bool",
         "type": "boolean"
        },
        {
         "name": "CompanyName_Mail-Order Outlet",
         "rawType": "bool",
         "type": "boolean"
        },
        {
         "name": "CompanyName_Main Bicycle Services",
         "rawType": "bool",
         "type": "boolean"
        },
        {
         "name": "CompanyName_Maintenance and Repair for Bicycles",
         "rawType": "bool",
         "type": "boolean"
        },
        {
         "name": "CompanyName_Major Cycling",
         "rawType": "bool",
         "type": "boolean"
        },
        {
         "name": "CompanyName_Major Sport Suppliers",
         "rawType": "bool",
         "type": "boolean"
        },
        {
         "name": "CompanyName_Major Sporting Goods",
         "rawType": "bool",
         "type": "boolean"
        },
        {
         "name": "CompanyName_Many Bikes Store",
         "rawType": "bool",
         "type": "boolean"
        },
        {
         "name": "CompanyName_Mechanical Products Ltd.",
         "rawType": "bool",
         "type": "boolean"
        },
        {
         "name": "CompanyName_Mercantile Outlet",
         "rawType": "bool",
         "type": "boolean"
        },
        {
         "name": "CompanyName_Metal Clearing House",
         "rawType": "bool",
         "type": "boolean"
        },
        {
         "name": "CompanyName_Metal Processing Company",
         "rawType": "bool",
         "type": "boolean"
        },
        {
         "name": "CompanyName_Metallic Paint and Overcoat Co",
         "rawType": "bool",
         "type": "boolean"
        },
        {
         "name": "CompanyName_Metro Bike Works",
         "rawType": "bool",
         "type": "boolean"
        },
        {
         "name": "CompanyName_Metro Cycle Shop",
         "rawType": "bool",
         "type": "boolean"
        },
        {
         "name": "CompanyName_Metro Manufacturing",
         "rawType": "bool",
         "type": "boolean"
        },
        {
         "name": "CompanyName_Metro Metals Co.",
         "rawType": "bool",
         "type": "boolean"
        },
        {
         "name": "CompanyName_Metropolitan Bicycle Supply",
         "rawType": "bool",
         "type": "boolean"
        },
        {
         "name": "CompanyName_Metropolitan Manufacturing",
         "rawType": "bool",
         "type": "boolean"
        },
        {
         "name": "CompanyName_Metropolitan Sports Supply",
         "rawType": "bool",
         "type": "boolean"
        },
        {
         "name": "CompanyName_Moderately-Priced Bikes Store",
         "rawType": "bool",
         "type": "boolean"
        },
        {
         "name": "CompanyName_Modular Cycle Systems",
         "rawType": "bool",
         "type": "boolean"
        },
        {
         "name": "CompanyName_More Bikes!",
         "rawType": "bool",
         "type": "boolean"
        },
        {
         "name": "CompanyName_Mountain Bike Center",
         "rawType": "bool",
         "type": "boolean"
        },
        {
         "name": "CompanyName_Mountain Toy Store",
         "rawType": "bool",
         "type": "boolean"
        },
        {
         "name": "CompanyName_National Manufacturing",
         "rawType": "bool",
         "type": "boolean"
        },
        {
         "name": "CompanyName_Nearby Cycle Shop",
         "rawType": "bool",
         "type": "boolean"
        },
        {
         "name": "CompanyName_Nearby Sporting Goods",
         "rawType": "bool",
         "type": "boolean"
        },
        {
         "name": "CompanyName_Neighborhood Store",
         "rawType": "bool",
         "type": "boolean"
        },
        {
         "name": "CompanyName_Nice Bikes",
         "rawType": "bool",
         "type": "boolean"
        },
        {
         "name": "CompanyName_Non-Slip Pedal Company",
         "rawType": "bool",
         "type": "boolean"
        },
        {
         "name": "CompanyName_Nonskid Tire Company",
         "rawType": "bool",
         "type": "boolean"
        },
        {
         "name": "CompanyName_Novelty Bikes",
         "rawType": "bool",
         "type": "boolean"
        },
        {
         "name": "CompanyName_Number 1 Supply",
         "rawType": "bool",
         "type": "boolean"
        },
        {
         "name": "CompanyName_Number One Bike Co.",
         "rawType": "bool",
         "type": "boolean"
        },
        {
         "name": "CompanyName_Nuts and Bolts Mfg.",
         "rawType": "bool",
         "type": "boolean"
        },
        {
         "name": "CompanyName_Odometers and Accessories Company",
         "rawType": "bool",
         "type": "boolean"
        },
        {
         "name": "CompanyName_Official Parts Shop",
         "rawType": "bool",
         "type": "boolean"
        },
        {
         "name": "CompanyName_Oils and Fluids Warehouse",
         "rawType": "bool",
         "type": "boolean"
        },
        {
         "name": "CompanyName_One Bike Company",
         "rawType": "bool",
         "type": "boolean"
        },
        {
         "name": "CompanyName_Online Bike Sellers",
         "rawType": "bool",
         "type": "boolean"
        },
        {
         "name": "CompanyName_Online Bike Warehouse",
         "rawType": "bool",
         "type": "boolean"
        },
        {
         "name": "CompanyName_Operational Manufacturing",
         "rawType": "bool",
         "type": "boolean"
        },
        {
         "name": "CompanyName_Orange Bicycle Company",
         "rawType": "bool",
         "type": "boolean"
        },
        {
         "name": "CompanyName_Original Bicycle Supply Company",
         "rawType": "bool",
         "type": "boolean"
        },
        {
         "name": "CompanyName_Our Sporting Goods Store",
         "rawType": "bool",
         "type": "boolean"
        },
        {
         "name": "CompanyName_Out-of-the-Way Hotels",
         "rawType": "bool",
         "type": "boolean"
        },
        {
         "name": "CompanyName_Outdoor Aerobic Systems Company",
         "rawType": "bool",
         "type": "boolean"
        },
        {
         "name": "CompanyName_Outdoor Sporting Goods",
         "rawType": "bool",
         "type": "boolean"
        },
        {
         "name": "CompanyName_Outdoor Sports Supply",
         "rawType": "bool",
         "type": "boolean"
        },
        {
         "name": "CompanyName_Outstanding Cycles",
         "rawType": "bool",
         "type": "boolean"
        },
        {
         "name": "CompanyName_Paint Supply",
         "rawType": "bool",
         "type": "boolean"
        },
        {
         "name": "CompanyName_Paints and Solvents Company",
         "rawType": "bool",
         "type": "boolean"
        },
        {
         "name": "CompanyName_Parcel Express Delivery Service",
         "rawType": "bool",
         "type": "boolean"
        },
        {
         "name": "CompanyName_Permanent Finish Products",
         "rawType": "bool",
         "type": "boolean"
        },
        {
         "name": "CompanyName_Petroleum Products Distributors",
         "rawType": "bool",
         "type": "boolean"
        },
        {
         "name": "CompanyName_Plastic Parts Company",
         "rawType": "bool",
         "type": "boolean"
        },
        {
         "name": "CompanyName_Practical Bike Supply Company",
         "rawType": "bool",
         "type": "boolean"
        },
        {
         "name": "CompanyName_Preferred Bikes",
         "rawType": "bool",
         "type": "boolean"
        },
        {
         "name": "CompanyName_Price-Cutter Discount Bikes",
         "rawType": "bool",
         "type": "boolean"
        },
        {
         "name": "CompanyName_Primary Bike Distributors",
         "rawType": "bool",
         "type": "boolean"
        },
        {
         "name": "CompanyName_Principal Bike Company",
         "rawType": "bool",
         "type": "boolean"
        },
        {
         "name": "CompanyName_Pro Sporting Goods",
         "rawType": "bool",
         "type": "boolean"
        },
        {
         "name": "CompanyName_Professional Containers and Packaging Co.",
         "rawType": "bool",
         "type": "boolean"
        },
        {
         "name": "CompanyName_Professional Cycle Store",
         "rawType": "bool",
         "type": "boolean"
        },
        {
         "name": "CompanyName_Professional Cyclists",
         "rawType": "bool",
         "type": "boolean"
        },
        {
         "name": "CompanyName_Professional Sales and Service",
         "rawType": "bool",
         "type": "boolean"
        },
        {
         "name": "CompanyName_Progressive Sports",
         "rawType": "bool",
         "type": "boolean"
        },
        {
         "name": "CompanyName_Prosperous Tours",
         "rawType": "bool",
         "type": "boolean"
        },
        {
         "name": "CompanyName_Purple Bicycle Company",
         "rawType": "bool",
         "type": "boolean"
        },
        {
         "name": "CompanyName_Quantity Discounts",
         "rawType": "bool",
         "type": "boolean"
        },
        {
         "name": "CompanyName_Quick Delivery Service",
         "rawType": "bool",
         "type": "boolean"
        },
        {
         "name": "CompanyName_Quick Parts and Service",
         "rawType": "bool",
         "type": "boolean"
        },
        {
         "name": "CompanyName_Racing Bike Outlet",
         "rawType": "bool",
         "type": "boolean"
        },
        {
         "name": "CompanyName_Racing Partners",
         "rawType": "bool",
         "type": "boolean"
        },
        {
         "name": "CompanyName_Racing Toys",
         "rawType": "bool",
         "type": "boolean"
        },
        {
         "name": "CompanyName_Rally Master Company Inc",
         "rawType": "bool",
         "type": "boolean"
        },
        {
         "name": "CompanyName_Rampart Amusement Company",
         "rawType": "bool",
         "type": "boolean"
        },
        {
         "name": "CompanyName_Rapid Bikes",
         "rawType": "bool",
         "type": "boolean"
        },
        {
         "name": "CompanyName_Raw Materials Inc",
         "rawType": "bool",
         "type": "boolean"
        },
        {
         "name": "CompanyName_Real Sporting Goods",
         "rawType": "bool",
         "type": "boolean"
        },
        {
         "name": "CompanyName_Reasonable Bicycle Sales",
         "rawType": "bool",
         "type": "boolean"
        },
        {
         "name": "CompanyName_Recommended Bicycles",
         "rawType": "bool",
         "type": "boolean"
        },
        {
         "name": "CompanyName_Red Bicycle Company",
         "rawType": "bool",
         "type": "boolean"
        },
        {
         "name": "CompanyName_Refined Department Stores",
         "rawType": "bool",
         "type": "boolean"
        },
        {
         "name": "CompanyName_Regional Manufacturing",
         "rawType": "bool",
         "type": "boolean"
        },
        {
         "name": "CompanyName_Reliable Retail Center",
         "rawType": "bool",
         "type": "boolean"
        },
        {
         "name": "CompanyName_Remarkable Bike Store",
         "rawType": "bool",
         "type": "boolean"
        },
        {
         "name": "CompanyName_Remote Bicycle Specialists",
         "rawType": "bool",
         "type": "boolean"
        },
        {
         "name": "CompanyName_Rental Bikes",
         "rawType": "bool",
         "type": "boolean"
        },
        {
         "name": "CompanyName_Requisite Part Supply",
         "rawType": "bool",
         "type": "boolean"
        },
        {
         "name": "CompanyName_Resale Services",
         "rawType": "bool",
         "type": "boolean"
        },
        {
         "name": "CompanyName_Responsible Bike Dealers",
         "rawType": "bool",
         "type": "boolean"
        },
        {
         "name": "CompanyName_Retail Cycle Shop",
         "rawType": "bool",
         "type": "boolean"
        },
        {
         "name": "CompanyName_Retail Discount Store",
         "rawType": "bool",
         "type": "boolean"
        },
        {
         "name": "CompanyName_Retail Mall",
         "rawType": "bool",
         "type": "boolean"
        },
        {
         "name": "CompanyName_Retail Sporting Equipment",
         "rawType": "bool",
         "type": "boolean"
        },
        {
         "name": "CompanyName_Retail Sporting Goods",
         "rawType": "bool",
         "type": "boolean"
        },
        {
         "name": "CompanyName_Retreat Inn",
         "rawType": "bool",
         "type": "boolean"
        },
        {
         "name": "CompanyName_Rewarding Activities Company",
         "rawType": "bool",
         "type": "boolean"
        },
        {
         "name": "CompanyName_Riders Company",
         "rawType": "bool",
         "type": "boolean"
        },
        {
         "name": "CompanyName_Riding Associates",
         "rawType": "bool",
         "type": "boolean"
        },
        {
         "name": "CompanyName_Riding Cycles",
         "rawType": "bool",
         "type": "boolean"
        },
        {
         "name": "CompanyName_Riding Excursions",
         "rawType": "bool",
         "type": "boolean"
        },
        {
         "name": "CompanyName_Road Way Sales and Rental",
         "rawType": "bool",
         "type": "boolean"
        },
        {
         "name": "CompanyName_Road-Way Mart",
         "rawType": "bool",
         "type": "boolean"
        },
        {
         "name": "CompanyName_Roadway Bike Emporium",
         "rawType": "bool",
         "type": "boolean"
        },
        {
         "name": "CompanyName_Roadway Supplies",
         "rawType": "bool",
         "type": "boolean"
        },
        {
         "name": "CompanyName_Roving Sports",
         "rawType": "bool",
         "type": "boolean"
        },
        {
         "name": "CompanyName_Rugged Bikes",
         "rawType": "bool",
         "type": "boolean"
        },
        {
         "name": "CompanyName_Running and Cycling Gear",
         "rawType": "bool",
         "type": "boolean"
        },
        {
         "name": "CompanyName_Rural Bicycle Supply",
         "rawType": "bool",
         "type": "boolean"
        },
        {
         "name": "CompanyName_Rural Cycle Emporium",
         "rawType": "bool",
         "type": "boolean"
        },
        {
         "name": "CompanyName_Rural Department Store",
         "rawType": "bool",
         "type": "boolean"
        },
        {
         "name": "CompanyName_Rural Sales and Service",
         "rawType": "bool",
         "type": "boolean"
        },
        {
         "name": "CompanyName_Safe Cycles Shop",
         "rawType": "bool",
         "type": "boolean"
        },
        {
         "name": "CompanyName_Safe Toys",
         "rawType": "bool",
         "type": "boolean"
        },
        {
         "name": "CompanyName_Sample Bike Store",
         "rawType": "bool",
         "type": "boolean"
        },
        {
         "name": "CompanyName_Satin Finish Company",
         "rawType": "bool",
         "type": "boolean"
        },
        {
         "name": "CompanyName_Scooters and Bikes Store",
         "rawType": "bool",
         "type": "boolean"
        },
        {
         "name": "CompanyName_Scratch-Resistant Finishes Company",
         "rawType": "bool",
         "type": "boolean"
        },
        {
         "name": "CompanyName_Seats and Saddles Company",
         "rawType": "bool",
         "type": "boolean"
        },
        {
         "name": "CompanyName_Security Racks and Locks Wholesalers",
         "rawType": "bool",
         "type": "boolean"
        },
        {
         "name": "CompanyName_Sellers of Cycles",
         "rawType": "bool",
         "type": "boolean"
        },
        {
         "name": "CompanyName_Separate Parts Corporation",
         "rawType": "bool",
         "type": "boolean"
        },
        {
         "name": "CompanyName_Serious Cycles",
         "rawType": "bool",
         "type": "boolean"
        },
        {
         "name": "CompanyName_Sharp Bikes",
         "rawType": "bool",
         "type": "boolean"
        },
        {
         "name": "CompanyName_Sheet Metal Manufacturing",
         "rawType": "bool",
         "type": "boolean"
        },
        {
         "name": "CompanyName_Shipping Specialists",
         "rawType": "bool",
         "type": "boolean"
        },
        {
         "name": "CompanyName_Sixth Bike Store",
         "rawType": "bool",
         "type": "boolean"
        },
        {
         "name": "CompanyName_Sleek Bikes ",
         "rawType": "bool",
         "type": "boolean"
        },
        {
         "name": "CompanyName_Small Bike Shop",
         "rawType": "bool",
         "type": "boolean"
        },
        {
         "name": "CompanyName_Small Cycle Store",
         "rawType": "bool",
         "type": "boolean"
        },
        {
         "name": "CompanyName_Social Activities Club",
         "rawType": "bool",
         "type": "boolean"
        },
        {
         "name": "CompanyName_Solid Bike Parts",
         "rawType": "bool",
         "type": "boolean"
        },
        {
         "name": "CompanyName_Some Discount Store",
         "rawType": "bool",
         "type": "boolean"
        },
        {
         "name": "CompanyName_South Bike Company",
         "rawType": "bool",
         "type": "boolean"
        },
        {
         "name": "CompanyName_Sparkling Paint and Finishes",
         "rawType": "bool",
         "type": "boolean"
        },
        {
         "name": "CompanyName_Specialty Sports Store",
         "rawType": "bool",
         "type": "boolean"
        },
        {
         "name": "CompanyName_Sports Commodities",
         "rawType": "bool",
         "type": "boolean"
        },
        {
         "name": "CompanyName_Sports Merchandise",
         "rawType": "bool",
         "type": "boolean"
        },
        {
         "name": "CompanyName_Sports Products Store",
         "rawType": "bool",
         "type": "boolean"
        },
        {
         "name": "CompanyName_Sports Store",
         "rawType": "bool",
         "type": "boolean"
        },
        {
         "name": "CompanyName_Standard Bikes",
         "rawType": "bool",
         "type": "boolean"
        },
        {
         "name": "CompanyName_Stationary Bikes and Stands",
         "rawType": "bool",
         "type": "boolean"
        },
        {
         "name": "CompanyName_Stock Parts and Supplies",
         "rawType": "bool",
         "type": "boolean"
        },
        {
         "name": "CompanyName_Strenuous Exercise Shop",
         "rawType": "bool",
         "type": "boolean"
        },
        {
         "name": "CompanyName_Sturdy Toys",
         "rawType": "bool",
         "type": "boolean"
        },
        {
         "name": "CompanyName_Suburban Cycle Shop",
         "rawType": "bool",
         "type": "boolean"
        },
        {
         "name": "CompanyName_Successful Sales Company",
         "rawType": "bool",
         "type": "boolean"
        },
        {
         "name": "CompanyName_Summer Sports Place",
         "rawType": "bool",
         "type": "boolean"
        },
        {
         "name": "CompanyName_Sundry Sporting Goods",
         "rawType": "bool",
         "type": "boolean"
        },
        {
         "name": "CompanyName_Superb Sales and Repair",
         "rawType": "bool",
         "type": "boolean"
        },
        {
         "name": "CompanyName_Superior Hardware Distributors",
         "rawType": "bool",
         "type": "boolean"
        },
        {
         "name": "CompanyName_Sure & Reliable Sporting Goods",
         "rawType": "bool",
         "type": "boolean"
        },
        {
         "name": "CompanyName_Swift Cycles",
         "rawType": "bool",
         "type": "boolean"
        },
        {
         "name": "CompanyName_Synthetic Materials Manufacturing",
         "rawType": "bool",
         "type": "boolean"
        },
        {
         "name": "CompanyName_Systematic Sales",
         "rawType": "bool",
         "type": "boolean"
        },
        {
         "name": "CompanyName_Tachometers and Accessories",
         "rawType": "bool",
         "type": "boolean"
        },
        {
         "name": "CompanyName_Tandem Sales and Service",
         "rawType": "bool",
         "type": "boolean"
        },
        {
         "name": "CompanyName_Technical Parts Manufacturing",
         "rawType": "bool",
         "type": "boolean"
        },
        {
         "name": "CompanyName_Tenth Bike Store",
         "rawType": "bool",
         "type": "boolean"
        },
        {
         "name": "CompanyName_The Accessories Store",
         "rawType": "bool",
         "type": "boolean"
        },
        {
         "name": "CompanyName_The Bicycle Accessories Company",
         "rawType": "bool",
         "type": "boolean"
        },
        {
         "name": "CompanyName_The Bike Shop",
         "rawType": "bool",
         "type": "boolean"
        },
        {
         "name": "CompanyName_The Commissary",
         "rawType": "bool",
         "type": "boolean"
        },
        {
         "name": "CompanyName_The Gear Store",
         "rawType": "bool",
         "type": "boolean"
        },
        {
         "name": "CompanyName_The New Bike Store",
         "rawType": "bool",
         "type": "boolean"
        },
        {
         "name": "CompanyName_The Showroom",
         "rawType": "bool",
         "type": "boolean"
        },
        {
         "name": "CompanyName_Third Bike Store",
         "rawType": "bool",
         "type": "boolean"
        },
        {
         "name": "CompanyName_This Area Sporting Goods",
         "rawType": "bool",
         "type": "boolean"
        },
        {
         "name": "CompanyName_Thorough Parts and Repair Services",
         "rawType": "bool",
         "type": "boolean"
        },
        {
         "name": "CompanyName_Thrifty Parts and Sales",
         "rawType": "bool",
         "type": "boolean"
        },
        {
         "name": "CompanyName_Thrilling Bike Tours",
         "rawType": "bool",
         "type": "boolean"
        },
        {
         "name": "CompanyName_Timely Shipping Service",
         "rawType": "bool",
         "type": "boolean"
        },
        {
         "name": "CompanyName_Tire Exchange",
         "rawType": "bool",
         "type": "boolean"
        },
        {
         "name": "CompanyName_Tires and Tubes",
         "rawType": "bool",
         "type": "boolean"
        },
        {
         "name": "CompanyName_Top Bike Market",
         "rawType": "bool",
         "type": "boolean"
        },
        {
         "name": "CompanyName_Top Sports Supply",
         "rawType": "bool",
         "type": "boolean"
        },
        {
         "name": "CompanyName_Totes & Baskets Company",
         "rawType": "bool",
         "type": "boolean"
        },
        {
         "name": "CompanyName_Town Industries",
         "rawType": "bool",
         "type": "boolean"
        },
        {
         "name": "CompanyName_Toy Manufacturing Inc",
         "rawType": "bool",
         "type": "boolean"
        },
        {
         "name": "CompanyName_Traction Tire Company",
         "rawType": "bool",
         "type": "boolean"
        },
        {
         "name": "CompanyName_Trailblazing Sports",
         "rawType": "bool",
         "type": "boolean"
        },
        {
         "name": "CompanyName_Transport Bikes",
         "rawType": "bool",
         "type": "boolean"
        },
        {
         "name": "CompanyName_Transportation Options",
         "rawType": "bool",
         "type": "boolean"
        },
        {
         "name": "CompanyName_Travel Sports",
         "rawType": "bool",
         "type": "boolean"
        },
        {
         "name": "CompanyName_Travel Systems",
         "rawType": "bool",
         "type": "boolean"
        },
        {
         "name": "CompanyName_Trendy Department Stores",
         "rawType": "bool",
         "type": "boolean"
        },
        {
         "name": "CompanyName_Tubeless Tire Company",
         "rawType": "bool",
         "type": "boolean"
        },
        {
         "name": "CompanyName_Twelfth Bike Store",
         "rawType": "bool",
         "type": "boolean"
        },
        {
         "name": "CompanyName_Two Bike Shops",
         "rawType": "bool",
         "type": "boolean"
        },
        {
         "name": "CompanyName_Two Wheels Cycle Store",
         "rawType": "bool",
         "type": "boolean"
        },
        {
         "name": "CompanyName_Two-Seater Bikes",
         "rawType": "bool",
         "type": "boolean"
        },
        {
         "name": "CompanyName_Two-Wheeled Transit Company",
         "rawType": "bool",
         "type": "boolean"
        },
        {
         "name": "CompanyName_Unicycles, Bicycles, and Tricycles",
         "rawType": "bool",
         "type": "boolean"
        },
        {
         "name": "CompanyName_Unique Bikes",
         "rawType": "bool",
         "type": "boolean"
        },
        {
         "name": "CompanyName_Unsurpassed Bikes",
         "rawType": "bool",
         "type": "boolean"
        },
        {
         "name": "CompanyName_Up-To-Date Sports",
         "rawType": "bool",
         "type": "boolean"
        },
        {
         "name": "CompanyName_Urban Sports Emporium",
         "rawType": "bool",
         "type": "boolean"
        },
        {
         "name": "CompanyName_Utilitarian Sporting Goods",
         "rawType": "bool",
         "type": "boolean"
        },
        {
         "name": "CompanyName_Uttermost Bike Shop",
         "rawType": "bool",
         "type": "boolean"
        },
        {
         "name": "CompanyName_Vale Riding Supplies",
         "rawType": "bool",
         "type": "boolean"
        },
        {
         "name": "CompanyName_Valley Bicycle Distributors",
         "rawType": "bool",
         "type": "boolean"
        },
        {
         "name": "CompanyName_Valley Bicycle Specialists",
         "rawType": "bool",
         "type": "boolean"
        },
        {
         "name": "CompanyName_Valley Toy Store",
         "rawType": "bool",
         "type": "boolean"
        },
        {
         "name": "CompanyName_Variety Cycling",
         "rawType": "bool",
         "type": "boolean"
        },
        {
         "name": "CompanyName_Vast Bike Sales and Rental",
         "rawType": "bool",
         "type": "boolean"
        },
        {
         "name": "CompanyName_Vehicle Shop",
         "rawType": "bool",
         "type": "boolean"
        },
        {
         "name": "CompanyName_Vigorous Exercise Company",
         "rawType": "bool",
         "type": "boolean"
        },
        {
         "name": "CompanyName_Vigorous Sports Store",
         "rawType": "bool",
         "type": "boolean"
        },
        {
         "name": "CompanyName_Vintage Sport Boutique",
         "rawType": "bool",
         "type": "boolean"
        },
        {
         "name": "CompanyName_Vinyl and Plastic Goods Corporation",
         "rawType": "bool",
         "type": "boolean"
        },
        {
         "name": "CompanyName_Weekend Bike Tours",
         "rawType": "bool",
         "type": "boolean"
        },
        {
         "name": "CompanyName_West Side Mart",
         "rawType": "bool",
         "type": "boolean"
        },
        {
         "name": "CompanyName_Western Bike Supplies",
         "rawType": "bool",
         "type": "boolean"
        },
        {
         "name": "CompanyName_Westside Cycle Store",
         "rawType": "bool",
         "type": "boolean"
        },
        {
         "name": "CompanyName_Westside Plaza",
         "rawType": "bool",
         "type": "boolean"
        },
        {
         "name": "CompanyName_Wheel Gallery",
         "rawType": "bool",
         "type": "boolean"
        },
        {
         "name": "CompanyName_Wholesale Parts",
         "rawType": "bool",
         "type": "boolean"
        },
        {
         "name": "CompanyName_Wingtip Toys",
         "rawType": "bool",
         "type": "boolean"
        },
        {
         "name": "CompanyName_Wire Baskets and Parts",
         "rawType": "bool",
         "type": "boolean"
        },
        {
         "name": "CompanyName_Work and Play Association",
         "rawType": "bool",
         "type": "boolean"
        },
        {
         "name": "CompanyName_Workout Emporium",
         "rawType": "bool",
         "type": "boolean"
        },
        {
         "name": "CompanyName_World Bike Discount Store",
         "rawType": "bool",
         "type": "boolean"
        },
        {
         "name": "CompanyName_World of Bikes",
         "rawType": "bool",
         "type": "boolean"
        },
        {
         "name": "CompanyName_Year-Round Sports",
         "rawType": "bool",
         "type": "boolean"
        },
        {
         "name": "CompanyName_Yellow Bicycle Company",
         "rawType": "bool",
         "type": "boolean"
        },
        {
         "name": "SalesPerson_adventure-works\\garrett1",
         "rawType": "bool",
         "type": "boolean"
        },
        {
         "name": "SalesPerson_adventure-works\\jae0",
         "rawType": "bool",
         "type": "boolean"
        },
        {
         "name": "SalesPerson_adventure-works\\jillian0",
         "rawType": "bool",
         "type": "boolean"
        },
        {
         "name": "SalesPerson_adventure-works\\josé1",
         "rawType": "bool",
         "type": "boolean"
        },
        {
         "name": "SalesPerson_adventure-works\\linda3",
         "rawType": "bool",
         "type": "boolean"
        },
        {
         "name": "SalesPerson_adventure-works\\michael9",
         "rawType": "bool",
         "type": "boolean"
        },
        {
         "name": "SalesPerson_adventure-works\\pamela0",
         "rawType": "bool",
         "type": "boolean"
        },
        {
         "name": "SalesPerson_adventure-works\\shu0",
         "rawType": "bool",
         "type": "boolean"
        },
        {
         "name": "Exited",
         "rawType": "object",
         "type": "string"
        }
       ],
       "conversionMethod": "pd.DataFrame",
       "ref": "8156a7f0-a793-4ef9-bede-95eaf37e2dc6",
       "rows": [
        [
         "0",
         "155",
         "False",
         "False",
         "False",
         "False",
         "False",
         "False",
         "False",
         "False",
         "False",
         "False",
         "False",
         "False",
         "False",
         "False",
         "False",
         "False",
         "False",
         "False",
         "False",
         "False",
         "False",
         "False",
         "False",
         "False",
         "False",
         "False",
         "False",
         "False",
         "False",
         "False",
         "False",
         "False",
         "False",
         "False",
         "False",
         "False",
         "False",
         "False",
         "False",
         "False",
         "False",
         "False",
         "False",
         "False",
         "False",
         "False",
         "False",
         "False",
         "False",
         "False",
         "False",
         "False",
         "False",
         "False",
         "False",
         "False",
         "False",
         "False",
         "False",
         "False",
         "False",
         "False",
         "False",
         "False",
         "False",
         "False",
         "False",
         "False",
         "False",
         "False",
         "False",
         "False",
         "False",
         "False",
         "False",
         "False",
         "False",
         "False",
         "False",
         "False",
         "False",
         "False",
         "False",
         "False",
         "False",
         "False",
         "False",
         "False",
         "False",
         "False",
         "False",
         "False",
         "False",
         "False",
         "False",
         "False",
         "False",
         "False",
         "False",
         "False",
         "False",
         "False",
         "False",
         "False",
         "False",
         "False",
         "False",
         "False",
         "False",
         "False",
         "False",
         "False",
         "False",
         "False",
         "False",
         "False",
         "False",
         "False",
         "False",
         "False",
         "False",
         "False",
         "False",
         "False",
         "False",
         "False",
         "False",
         "False",
         "False",
         "False",
         "False",
         "False",
         "False",
         "False",
         "False",
         "False",
         "False",
         "False",
         "False",
         "False",
         "False",
         "False",
         "False",
         "False",
         "False",
         "False",
         "False",
         "False",
         "False",
         "False",
         "False",
         "False",
         "False",
         "False",
         "False",
         "False",
         "False",
         "False",
         "False",
         "False",
         "False",
         "False",
         "False",
         "False",
         "False",
         "False",
         "False",
         "False",
         "False",
         "False",
         "False",
         "False",
         "False",
         "False",
         "False",
         "False",
         "False",
         "False",
         "False",
         "False",
         "False",
         "False",
         "False",
         "False",
         "False",
         "False",
         "False",
         "False",
         "False",
         "False",
         "False",
         "False",
         "False",
         "False",
         "False",
         "False",
         "False",
         "False",
         "False",
         "False",
         "False",
         "False",
         "False",
         "False",
         "False",
         "False",
         "False",
         "False",
         "False",
         "False",
         "False",
         "False",
         "False",
         "False",
         "False",
         "False",
         "False",
         "False",
         "False",
         "False",
         "False",
         "False",
         "False",
         "False",
         "False",
         "False",
         "False",
         "False",
         "False",
         "False",
         "False",
         "False",
         "False",
         "False",
         "False",
         "False",
         "False",
         "False",
         "False",
         "False",
         "False",
         "False",
         "False",
         "False",
         "False",
         "False",
         "False",
         "False",
         "False",
         "False",
         "False",
         "False",
         "False",
         "False",
         "False",
         "False",
         "False",
         "False",
         "False",
         "False",
         "False",
         "False",
         "False",
         "False",
         "False",
         "False",
         "False",
         "False",
         "False",
         "False",
         "False",
         "False",
         "False",
         "False",
         "False",
         "False",
         "False",
         "False",
         "False",
         "False",
         "False",
         "False",
         "False",
         "False",
         "False",
         "False",
         "False",
         "False",
         "False",
         "False",
         "False",
         "False",
         "False",
         "False",
         "False",
         "False",
         "False",
         "False",
         "False",
         "False",
         "False",
         "False",
         "False",
         "False",
         "False",
         "False",
         "False",
         "False",
         "True",
         "False",
         "False",
         "False",
         "False",
         "False",
         "False",
         "False",
         "False",
         "False",
         "False",
         "False",
         "False",
         "False",
         "False",
         "False",
         "False",
         "False",
         "False",
         "False",
         "False",
         "False",
         "False",
         "False",
         "False",
         "False",
         "False",
         "False",
         "False",
         "False",
         "False",
         "False",
         "False",
         "False",
         "False",
         "False",
         "False",
         "False",
         "False",
         "False",
         "False",
         "False",
         "False",
         "False",
         "False",
         "False",
         "False",
         "False",
         "False",
         "False",
         "False",
         "False",
         "False",
         "False",
         "False",
         "False",
         "False",
         "False",
         "False",
         "False",
         "False",
         "False",
         "False",
         "False",
         "False",
         "False",
         "False",
         "False",
         "False",
         "False",
         "False",
         "False",
         "False",
         "False",
         "False",
         "False",
         "False",
         "False",
         "False",
         "False",
         "False",
         "False",
         "False",
         "False",
         "False",
         "False",
         "False",
         "False",
         "False",
         "False",
         "False",
         "False",
         "False",
         "False",
         "False",
         "False",
         "False",
         "False",
         "False",
         "False",
         "False",
         "False",
         "False",
         "False",
         "False",
         "False",
         "False",
         "False",
         "False",
         "False",
         "False",
         "False",
         "False",
         "False",
         "False",
         "False",
         "False",
         "False",
         "False",
         "False",
         "False",
         "False",
         "False",
         "False",
         "False",
         "False",
         "False",
         "False",
         "False",
         "False",
         "False",
         "False",
         "False",
         "True",
         "False",
         "False",
         "False",
         "False",
         "name 'result_finals' is not defined"
        ],
        [
         "1",
         "500",
         "False",
         "False",
         "False",
         "False",
         "False",
         "False",
         "False",
         "False",
         "False",
         "False",
         "False",
         "False",
         "False",
         "False",
         "False",
         "False",
         "False",
         "False",
         "False",
         "False",
         "False",
         "False",
         "False",
         "False",
         "False",
         "False",
         "False",
         "False",
         "False",
         "False",
         "False",
         "False",
         "False",
         "False",
         "False",
         "False",
         "False",
         "False",
         "False",
         "False",
         "False",
         "False",
         "False",
         "False",
         "False",
         "False",
         "False",
         "False",
         "False",
         "False",
         "False",
         "False",
         "False",
         "False",
         "False",
         "False",
         "False",
         "False",
         "False",
         "False",
         "False",
         "False",
         "False",
         "False",
         "False",
         "False",
         "False",
         "False",
         "False",
         "False",
         "False",
         "False",
         "False",
         "False",
         "False",
         "False",
         "False",
         "False",
         "False",
         "False",
         "False",
         "False",
         "False",
         "False",
         "False",
         "False",
         "False",
         "False",
         "False",
         "False",
         "False",
         "False",
         "False",
         "False",
         "False",
         "False",
         "False",
         "False",
         "False",
         "False",
         "False",
         "False",
         "False",
         "False",
         "False",
         "False",
         "False",
         "False",
         "False",
         "False",
         "False",
         "False",
         "False",
         "False",
         "False",
         "False",
         "False",
         "False",
         "False",
         "False",
         "False",
         "False",
         "False",
         "False",
         "False",
         "False",
         "False",
         "False",
         "False",
         "False",
         "False",
         "False",
         "False",
         "False",
         "False",
         "False",
         "False",
         "False",
         "False",
         "False",
         "False",
         "False",
         "False",
         "False",
         "False",
         "False",
         "False",
         "False",
         "False",
         "False",
         "False",
         "False",
         "False",
         "False",
         "False",
         "False",
         "False",
         "False",
         "False",
         "False",
         "False",
         "False",
         "False",
         "False",
         "False",
         "False",
         "False",
         "False",
         "False",
         "False",
         "False",
         "False",
         "False",
         "False",
         "False",
         "False",
         "False",
         "False",
         "False",
         "False",
         "False",
         "False",
         "False",
         "False",
         "False",
         "False",
         "False",
         "False",
         "False",
         "False",
         "False",
         "False",
         "False",
         "False",
         "False",
         "False",
         "False",
         "False",
         "False",
         "False",
         "False",
         "False",
         "False",
         "False",
         "False",
         "False",
         "False",
         "False",
         "False",
         "False",
         "False",
         "False",
         "False",
         "False",
         "False",
         "False",
         "False",
         "False",
         "False",
         "False",
         "False",
         "False",
         "False",
         "False",
         "False",
         "False",
         "False",
         "False",
         "False",
         "False",
         "False",
         "False",
         "False",
         "False",
         "False",
         "False",
         "False",
         "False",
         "False",
         "False",
         "False",
         "False",
         "False",
         "False",
         "False",
         "False",
         "False",
         "False",
         "False",
         "False",
         "False",
         "False",
         "False",
         "False",
         "False",
         "False",
         "False",
         "False",
         "False",
         "False",
         "False",
         "False",
         "False",
         "False",
         "False",
         "False",
         "False",
         "False",
         "False",
         "False",
         "False",
         "False",
         "False",
         "False",
         "False",
         "False",
         "False",
         "False",
         "False",
         "False",
         "False",
         "False",
         "False",
         "False",
         "False",
         "False",
         "False",
         "False",
         "False",
         "False",
         "False",
         "False",
         "False",
         "False",
         "False",
         "False",
         "False",
         "False",
         "False",
         "False",
         "False",
         "False",
         "False",
         "False",
         "False",
         "False",
         "False",
         "False",
         "False",
         "False",
         "False",
         "False",
         "False",
         "False",
         "False",
         "False",
         "False",
         "False",
         "False",
         "False",
         "False",
         "False",
         "False",
         "False",
         "False",
         "False",
         "False",
         "False",
         "False",
         "False",
         "False",
         "False",
         "False",
         "False",
         "False",
         "False",
         "False",
         "False",
         "False",
         "False",
         "False",
         "False",
         "False",
         "False",
         "False",
         "False",
         "False",
         "False",
         "False",
         "False",
         "False",
         "False",
         "False",
         "False",
         "False",
         "False",
         "False",
         "False",
         "False",
         "False",
         "False",
         "False",
         "False",
         "False",
         "False",
         "False",
         "False",
         "False",
         "False",
         "False",
         "False",
         "False",
         "False",
         "False",
         "False",
         "False",
         "False",
         "False",
         "False",
         "False",
         "False",
         "False",
         "False",
         "False",
         "False",
         "False",
         "False",
         "False",
         "False",
         "False",
         "False",
         "False",
         "False",
         "False",
         "False",
         "False",
         "False",
         "False",
         "False",
         "False",
         "False",
         "False",
         "False",
         "False",
         "False",
         "False",
         "False",
         "False",
         "False",
         "False",
         "False",
         "False",
         "False",
         "False",
         "False",
         "False",
         "False",
         "False",
         "False",
         "False",
         "False",
         "False",
         "False",
         "False",
         "True",
         "False",
         "False",
         "False",
         "False",
         "False",
         "False",
         "False",
         "False",
         "False",
         "False",
         "False",
         "False",
         "False",
         "False",
         "True",
         "False",
         "False",
         "False",
         "False",
         "False",
         "False",
         "name 'result_finals' is not defined"
        ],
        [
         "2",
         "723",
         "False",
         "False",
         "False",
         "False",
         "False",
         "False",
         "False",
         "False",
         "False",
         "False",
         "False",
         "False",
         "False",
         "False",
         "False",
         "False",
         "False",
         "False",
         "False",
         "False",
         "False",
         "False",
         "False",
         "False",
         "False",
         "False",
         "False",
         "False",
         "False",
         "False",
         "False",
         "False",
         "False",
         "False",
         "False",
         "False",
         "False",
         "False",
         "False",
         "False",
         "False",
         "False",
         "False",
         "False",
         "False",
         "False",
         "False",
         "False",
         "False",
         "False",
         "False",
         "False",
         "False",
         "False",
         "False",
         "False",
         "False",
         "False",
         "False",
         "False",
         "False",
         "False",
         "False",
         "False",
         "False",
         "False",
         "False",
         "False",
         "False",
         "False",
         "False",
         "False",
         "False",
         "False",
         "False",
         "False",
         "False",
         "False",
         "False",
         "False",
         "False",
         "False",
         "False",
         "False",
         "False",
         "False",
         "False",
         "False",
         "False",
         "False",
         "False",
         "False",
         "False",
         "False",
         "False",
         "False",
         "False",
         "False",
         "False",
         "False",
         "False",
         "False",
         "False",
         "False",
         "False",
         "False",
         "False",
         "False",
         "False",
         "False",
         "False",
         "False",
         "False",
         "False",
         "False",
         "False",
         "False",
         "False",
         "False",
         "False",
         "False",
         "False",
         "False",
         "False",
         "False",
         "False",
         "False",
         "False",
         "False",
         "False",
         "False",
         "False",
         "False",
         "False",
         "False",
         "False",
         "False",
         "False",
         "False",
         "False",
         "False",
         "False",
         "False",
         "False",
         "False",
         "False",
         "False",
         "False",
         "False",
         "False",
         "False",
         "False",
         "False",
         "False",
         "False",
         "False",
         "False",
         "False",
         "False",
         "False",
         "False",
         "False",
         "False",
         "False",
         "False",
         "False",
         "False",
         "False",
         "False",
         "False",
         "False",
         "False",
         "False",
         "False",
         "False",
         "False",
         "False",
         "False",
         "False",
         "False",
         "False",
         "False",
         "False",
         "False",
         "False",
         "False",
         "False",
         "False",
         "False",
         "False",
         "False",
         "False",
         "False",
         "False",
         "False",
         "False",
         "False",
         "False",
         "False",
         "False",
         "False",
         "False",
         "False",
         "False",
         "False",
         "False",
         "False",
         "False",
         "False",
         "False",
         "False",
         "False",
         "False",
         "False",
         "False",
         "False",
         "False",
         "False",
         "False",
         "False",
         "False",
         "False",
         "False",
         "False",
         "False",
         "False",
         "False",
         "False",
         "False",
         "False",
         "False",
         "False",
         "False",
         "False",
         "False",
         "False",
         "False",
         "False",
         "False",
         "False",
         "False",
         "False",
         "False",
         "False",
         "False",
         "False",
         "False",
         "False",
         "False",
         "False",
         "False",
         "False",
         "False",
         "False",
         "False",
         "False",
         "False",
         "False",
         "False",
         "False",
         "False",
         "False",
         "False",
         "False",
         "False",
         "False",
         "False",
         "False",
         "False",
         "False",
         "False",
         "False",
         "False",
         "False",
         "False",
         "False",
         "False",
         "False",
         "False",
         "False",
         "False",
         "False",
         "False",
         "False",
         "False",
         "False",
         "False",
         "False",
         "False",
         "False",
         "False",
         "False",
         "False",
         "False",
         "False",
         "False",
         "False",
         "False",
         "True",
         "False",
         "False",
         "False",
         "False",
         "False",
         "False",
         "False",
         "False",
         "False",
         "False",
         "False",
         "False",
         "False",
         "False",
         "False",
         "False",
         "False",
         "False",
         "False",
         "False",
         "False",
         "False",
         "False",
         "False",
         "False",
         "False",
         "False",
         "False",
         "False",
         "False",
         "False",
         "False",
         "False",
         "False",
         "False",
         "False",
         "False",
         "False",
         "False",
         "False",
         "False",
         "False",
         "False",
         "False",
         "False",
         "False",
         "False",
         "False",
         "False",
         "False",
         "False",
         "False",
         "False",
         "False",
         "False",
         "False",
         "False",
         "False",
         "False",
         "False",
         "False",
         "False",
         "False",
         "False",
         "False",
         "False",
         "False",
         "False",
         "False",
         "False",
         "False",
         "False",
         "False",
         "False",
         "False",
         "False",
         "False",
         "False",
         "False",
         "False",
         "False",
         "False",
         "False",
         "False",
         "False",
         "False",
         "False",
         "False",
         "False",
         "False",
         "False",
         "False",
         "False",
         "False",
         "False",
         "False",
         "False",
         "False",
         "False",
         "False",
         "False",
         "False",
         "False",
         "False",
         "False",
         "False",
         "False",
         "False",
         "False",
         "False",
         "False",
         "False",
         "False",
         "False",
         "False",
         "False",
         "False",
         "False",
         "False",
         "False",
         "False",
         "False",
         "False",
         "False",
         "False",
         "False",
         "False",
         "False",
         "False",
         "False",
         "False",
         "False",
         "False",
         "False",
         "False",
         "False",
         "False",
         "False",
         "False",
         "False",
         "False",
         "False",
         "True",
         "False",
         "False",
         "False",
         "False",
         "name 'result_finals' is not defined"
        ],
        [
         "3",
         "277",
         "False",
         "False",
         "False",
         "False",
         "False",
         "False",
         "False",
         "False",
         "False",
         "False",
         "False",
         "False",
         "False",
         "False",
         "False",
         "False",
         "False",
         "False",
         "False",
         "False",
         "False",
         "False",
         "False",
         "False",
         "False",
         "False",
         "False",
         "False",
         "False",
         "False",
         "False",
         "False",
         "False",
         "False",
         "False",
         "False",
         "False",
         "False",
         "False",
         "False",
         "False",
         "False",
         "False",
         "False",
         "False",
         "False",
         "False",
         "False",
         "False",
         "False",
         "False",
         "False",
         "False",
         "False",
         "False",
         "False",
         "False",
         "False",
         "False",
         "False",
         "False",
         "False",
         "False",
         "False",
         "False",
         "False",
         "False",
         "False",
         "False",
         "False",
         "False",
         "False",
         "False",
         "False",
         "False",
         "False",
         "False",
         "False",
         "False",
         "False",
         "False",
         "False",
         "False",
         "False",
         "False",
         "False",
         "False",
         "False",
         "False",
         "False",
         "False",
         "False",
         "False",
         "False",
         "False",
         "False",
         "False",
         "False",
         "False",
         "False",
         "False",
         "False",
         "False",
         "False",
         "False",
         "False",
         "False",
         "False",
         "False",
         "False",
         "False",
         "False",
         "False",
         "False",
         "False",
         "False",
         "False",
         "False",
         "False",
         "False",
         "False",
         "False",
         "True",
         "False",
         "False",
         "False",
         "False",
         "False",
         "False",
         "False",
         "False",
         "False",
         "False",
         "False",
         "False",
         "False",
         "False",
         "False",
         "False",
         "False",
         "False",
         "False",
         "False",
         "False",
         "False",
         "False",
         "False",
         "False",
         "False",
         "False",
         "False",
         "False",
         "False",
         "False",
         "False",
         "False",
         "False",
         "False",
         "False",
         "False",
         "False",
         "False",
         "False",
         "False",
         "False",
         "False",
         "False",
         "False",
         "False",
         "False",
         "False",
         "False",
         "False",
         "False",
         "False",
         "False",
         "False",
         "False",
         "False",
         "False",
         "False",
         "False",
         "False",
         "False",
         "False",
         "False",
         "False",
         "False",
         "False",
         "False",
         "False",
         "False",
         "False",
         "False",
         "False",
         "False",
         "False",
         "False",
         "False",
         "False",
         "False",
         "False",
         "False",
         "False",
         "False",
         "False",
         "False",
         "False",
         "False",
         "False",
         "False",
         "False",
         "False",
         "False",
         "False",
         "False",
         "False",
         "False",
         "False",
         "False",
         "False",
         "False",
         "False",
         "False",
         "False",
         "False",
         "False",
         "False",
         "False",
         "False",
         "False",
         "False",
         "False",
         "False",
         "False",
         "False",
         "False",
         "False",
         "False",
         "False",
         "False",
         "False",
         "False",
         "False",
         "False",
         "False",
         "False",
         "False",
         "False",
         "False",
         "False",
         "False",
         "False",
         "False",
         "False",
         "False",
         "False",
         "False",
         "False",
         "False",
         "False",
         "False",
         "False",
         "False",
         "False",
         "False",
         "False",
         "False",
         "False",
         "False",
         "False",
         "False",
         "False",
         "False",
         "False",
         "False",
         "False",
         "False",
         "False",
         "False",
         "False",
         "False",
         "False",
         "False",
         "False",
         "False",
         "False",
         "False",
         "False",
         "False",
         "False",
         "False",
         "False",
         "False",
         "False",
         "False",
         "False",
         "False",
         "False",
         "False",
         "False",
         "False",
         "False",
         "False",
         "False",
         "False",
         "False",
         "False",
         "False",
         "False",
         "False",
         "False",
         "False",
         "False",
         "False",
         "False",
         "False",
         "False",
         "False",
         "False",
         "False",
         "False",
         "False",
         "False",
         "False",
         "False",
         "False",
         "False",
         "False",
         "False",
         "False",
         "False",
         "False",
         "False",
         "False",
         "False",
         "False",
         "False",
         "False",
         "False",
         "False",
         "False",
         "False",
         "False",
         "False",
         "False",
         "False",
         "False",
         "False",
         "False",
         "False",
         "False",
         "False",
         "False",
         "False",
         "False",
         "False",
         "False",
         "False",
         "False",
         "False",
         "False",
         "False",
         "False",
         "False",
         "False",
         "False",
         "False",
         "False",
         "False",
         "False",
         "False",
         "False",
         "False",
         "False",
         "False",
         "False",
         "False",
         "False",
         "False",
         "False",
         "False",
         "False",
         "False",
         "False",
         "False",
         "False",
         "False",
         "False",
         "False",
         "False",
         "False",
         "False",
         "False",
         "False",
         "False",
         "False",
         "False",
         "False",
         "False",
         "False",
         "False",
         "False",
         "False",
         "False",
         "False",
         "False",
         "False",
         "False",
         "False",
         "False",
         "False",
         "False",
         "False",
         "False",
         "False",
         "False",
         "False",
         "False",
         "False",
         "False",
         "False",
         "False",
         "False",
         "False",
         "False",
         "False",
         "False",
         "False",
         "False",
         "False",
         "False",
         "False",
         "False",
         "False",
         "False",
         "False",
         "False",
         "True",
         "False",
         "False",
         "False",
         "False",
         "False",
         "False",
         "False",
         "name 'result_finals' is not defined"
        ]
       ],
       "shape": {
        "columns": 448,
        "rows": 4
       }
      },
      "text/html": [
       "<div>\n",
       "<style scoped>\n",
       "    .dataframe tbody tr th:only-of-type {\n",
       "        vertical-align: middle;\n",
       "    }\n",
       "\n",
       "    .dataframe tbody tr th {\n",
       "        vertical-align: top;\n",
       "    }\n",
       "\n",
       "    .dataframe thead th {\n",
       "        text-align: right;\n",
       "    }\n",
       "</style>\n",
       "<table border=\"1\" class=\"dataframe\">\n",
       "  <thead>\n",
       "    <tr style=\"text-align: right;\">\n",
       "      <th></th>\n",
       "      <th>Phone</th>\n",
       "      <th>CompanyName_A Cycle Shop</th>\n",
       "      <th>CompanyName_A Great Bicycle Company</th>\n",
       "      <th>CompanyName_A Typical Bike Shop</th>\n",
       "      <th>CompanyName_Acceptable Sales &amp; Service</th>\n",
       "      <th>CompanyName_Action Bicycle Specialists</th>\n",
       "      <th>CompanyName_Active Life Toys</th>\n",
       "      <th>CompanyName_Active Systems</th>\n",
       "      <th>CompanyName_Advanced Bike Components</th>\n",
       "      <th>CompanyName_Aerobic Exercise Company</th>\n",
       "      <th>...</th>\n",
       "      <th>CompanyName_Yellow Bicycle Company</th>\n",
       "      <th>SalesPerson_adventure-works\\garrett1</th>\n",
       "      <th>SalesPerson_adventure-works\\jae0</th>\n",
       "      <th>SalesPerson_adventure-works\\jillian0</th>\n",
       "      <th>SalesPerson_adventure-works\\josé1</th>\n",
       "      <th>SalesPerson_adventure-works\\linda3</th>\n",
       "      <th>SalesPerson_adventure-works\\michael9</th>\n",
       "      <th>SalesPerson_adventure-works\\pamela0</th>\n",
       "      <th>SalesPerson_adventure-works\\shu0</th>\n",
       "      <th>Exited</th>\n",
       "    </tr>\n",
       "  </thead>\n",
       "  <tbody>\n",
       "    <tr>\n",
       "      <th>0</th>\n",
       "      <td>155</td>\n",
       "      <td>False</td>\n",
       "      <td>False</td>\n",
       "      <td>False</td>\n",
       "      <td>False</td>\n",
       "      <td>False</td>\n",
       "      <td>False</td>\n",
       "      <td>False</td>\n",
       "      <td>False</td>\n",
       "      <td>False</td>\n",
       "      <td>...</td>\n",
       "      <td>False</td>\n",
       "      <td>False</td>\n",
       "      <td>False</td>\n",
       "      <td>False</td>\n",
       "      <td>True</td>\n",
       "      <td>False</td>\n",
       "      <td>False</td>\n",
       "      <td>False</td>\n",
       "      <td>False</td>\n",
       "      <td>name 'result_finals' is not defined</td>\n",
       "    </tr>\n",
       "    <tr>\n",
       "      <th>1</th>\n",
       "      <td>500</td>\n",
       "      <td>False</td>\n",
       "      <td>False</td>\n",
       "      <td>False</td>\n",
       "      <td>False</td>\n",
       "      <td>False</td>\n",
       "      <td>False</td>\n",
       "      <td>False</td>\n",
       "      <td>False</td>\n",
       "      <td>False</td>\n",
       "      <td>...</td>\n",
       "      <td>False</td>\n",
       "      <td>False</td>\n",
       "      <td>True</td>\n",
       "      <td>False</td>\n",
       "      <td>False</td>\n",
       "      <td>False</td>\n",
       "      <td>False</td>\n",
       "      <td>False</td>\n",
       "      <td>False</td>\n",
       "      <td>name 'result_finals' is not defined</td>\n",
       "    </tr>\n",
       "    <tr>\n",
       "      <th>2</th>\n",
       "      <td>723</td>\n",
       "      <td>False</td>\n",
       "      <td>False</td>\n",
       "      <td>False</td>\n",
       "      <td>False</td>\n",
       "      <td>False</td>\n",
       "      <td>False</td>\n",
       "      <td>False</td>\n",
       "      <td>False</td>\n",
       "      <td>False</td>\n",
       "      <td>...</td>\n",
       "      <td>False</td>\n",
       "      <td>False</td>\n",
       "      <td>False</td>\n",
       "      <td>False</td>\n",
       "      <td>True</td>\n",
       "      <td>False</td>\n",
       "      <td>False</td>\n",
       "      <td>False</td>\n",
       "      <td>False</td>\n",
       "      <td>name 'result_finals' is not defined</td>\n",
       "    </tr>\n",
       "    <tr>\n",
       "      <th>3</th>\n",
       "      <td>277</td>\n",
       "      <td>False</td>\n",
       "      <td>False</td>\n",
       "      <td>False</td>\n",
       "      <td>False</td>\n",
       "      <td>False</td>\n",
       "      <td>False</td>\n",
       "      <td>False</td>\n",
       "      <td>False</td>\n",
       "      <td>False</td>\n",
       "      <td>...</td>\n",
       "      <td>False</td>\n",
       "      <td>True</td>\n",
       "      <td>False</td>\n",
       "      <td>False</td>\n",
       "      <td>False</td>\n",
       "      <td>False</td>\n",
       "      <td>False</td>\n",
       "      <td>False</td>\n",
       "      <td>False</td>\n",
       "      <td>name 'result_finals' is not defined</td>\n",
       "    </tr>\n",
       "  </tbody>\n",
       "</table>\n",
       "<p>4 rows × 448 columns</p>\n",
       "</div>"
      ],
      "text/plain": [
       "   Phone  CompanyName_A Cycle Shop  CompanyName_A Great Bicycle Company  \\\n",
       "0    155                     False                                False   \n",
       "1    500                     False                                False   \n",
       "2    723                     False                                False   \n",
       "3    277                     False                                False   \n",
       "\n",
       "   CompanyName_A Typical Bike Shop  CompanyName_Acceptable Sales & Service  \\\n",
       "0                            False                                   False   \n",
       "1                            False                                   False   \n",
       "2                            False                                   False   \n",
       "3                            False                                   False   \n",
       "\n",
       "   CompanyName_Action Bicycle Specialists  CompanyName_Active Life Toys  \\\n",
       "0                                   False                         False   \n",
       "1                                   False                         False   \n",
       "2                                   False                         False   \n",
       "3                                   False                         False   \n",
       "\n",
       "   CompanyName_Active Systems  CompanyName_Advanced Bike Components  \\\n",
       "0                       False                                 False   \n",
       "1                       False                                 False   \n",
       "2                       False                                 False   \n",
       "3                       False                                 False   \n",
       "\n",
       "   CompanyName_Aerobic Exercise Company  ...  \\\n",
       "0                                 False  ...   \n",
       "1                                 False  ...   \n",
       "2                                 False  ...   \n",
       "3                                 False  ...   \n",
       "\n",
       "   CompanyName_Yellow Bicycle Company  SalesPerson_adventure-works\\garrett1  \\\n",
       "0                               False                                 False   \n",
       "1                               False                                 False   \n",
       "2                               False                                 False   \n",
       "3                               False                                  True   \n",
       "\n",
       "   SalesPerson_adventure-works\\jae0  SalesPerson_adventure-works\\jillian0  \\\n",
       "0                             False                                 False   \n",
       "1                              True                                 False   \n",
       "2                             False                                 False   \n",
       "3                             False                                 False   \n",
       "\n",
       "   SalesPerson_adventure-works\\josé1  SalesPerson_adventure-works\\linda3  \\\n",
       "0                               True                               False   \n",
       "1                              False                               False   \n",
       "2                               True                               False   \n",
       "3                              False                               False   \n",
       "\n",
       "   SalesPerson_adventure-works\\michael9  SalesPerson_adventure-works\\pamela0  \\\n",
       "0                                 False                                False   \n",
       "1                                 False                                False   \n",
       "2                                 False                                False   \n",
       "3                                 False                                False   \n",
       "\n",
       "   SalesPerson_adventure-works\\shu0                               Exited  \n",
       "0                             False  name 'result_finals' is not defined  \n",
       "1                             False  name 'result_finals' is not defined  \n",
       "2                             False  name 'result_finals' is not defined  \n",
       "3                             False  name 'result_finals' is not defined  \n",
       "\n",
       "[4 rows x 448 columns]"
      ]
     },
     "metadata": {},
     "output_type": "display_data"
    }
   ],
   "source": [
    "## La API per-sé:\n",
    "\n",
    "headers = {\"Content-Type\": \"application/json\"}\n",
    "import requests\n",
    "response = requests.post(scoring_uri, data=data_json, headers=headers)\n",
    "\n",
    "if response.status_code == 200:\n",
    "  result = json.loads(response.json())\n",
    "  print(result)\n",
    "  data[\"Exited\"] = result\n",
    "  display(data)\n",
    "else:\n",
    "  print(f\"Error: {response.text}\")"
   ]
  },
  {
   "cell_type": "code",
   "execution_count": null,
   "id": "e8df041a",
   "metadata": {},
   "outputs": [],
   "source": []
  }
 ],
 "metadata": {
  "kernelspec": {
   "display_name": "Python 3",
   "language": "python",
   "name": "python3"
  },
  "language_info": {
   "codemirror_mode": {
    "name": "ipython",
    "version": 3
   },
   "file_extension": ".py",
   "mimetype": "text/x-python",
   "name": "python",
   "nbconvert_exporter": "python",
   "pygments_lexer": "ipython3",
   "version": "3.9.12"
  }
 },
 "nbformat": 4,
 "nbformat_minor": 5
}
