{
 "cells": [
  {
   "cell_type": "code",
   "execution_count": null,
   "id": "995a6de8",
   "metadata": {},
   "outputs": [],
   "source": [
    "## STEP 1: Set up the workspace.\n",
    "\n",
    "import json\n",
    "\n",
    "#GETTING MY ID:\n",
    "id = open('my_id.json', 'r')\n",
    "mi = json.load(id)\n",
    "my_id = mi[\"my_id\"]\n",
    "\n",
    "from azureml.core import Workspace\n",
    "\n",
    "ws = Workspace.create(name=\"bankrupcy-prediction\",\n",
    "                      subscription_id = my_id,\n",
    "                      resource_group = \"resource_group4\",\n",
    "                      location = \"centralindia\")\n",
    "\n",
    "from azureml.core.model import Model\n",
    "\n",
    "mname = \"model\"\n",
    "registered_model = Model.register(model_path=\"model.pkl\",\n",
    "                                  model_name=mname,\n",
    "                                  workspace=ws)"
   ]
  },
  {
   "cell_type": "code",
   "execution_count": null,
   "id": "46134138",
   "metadata": {},
   "outputs": [],
   "source": [
    "################ score.py ###################\n",
    "import json\n",
    "umb = open(\"umbral.json\", \"r\")\n",
    "umb = json.load(umb)\n",
    "umbral = umb[\"umbral\"][0]\n",
    "\n",
    "scorepy = f\"\"\"\n",
    "import json\n",
    "import joblib\n",
    "import numpy as np\n",
    "import pandas as pd\n",
    "from azureml.core.model import Model\n",
    "\n",
    "def init():\n",
    "  global model\n",
    "  model_path = Model.get_model_path('{mname}')\n",
    "  model = joblib.load(model_path)\n",
    "\n",
    "def sigmoid(x):\n",
    "  return [1 / (1 + np.exp(-y)) for y in x]\n",
    "\n",
    "def run(raw_data):\n",
    "  try: ## Try la predicción.\n",
    "    data = json.loads(raw_data)['data'][0]\n",
    "    data = pd.DataFrame(data)\n",
    "    \n",
    "    #Realizar prediccion\n",
    "    result = model.predict(data).tolist()\n",
    "    result_sigmoid = sigmoid(result)\n",
    "    umbral = {umbral}\n",
    "    result_finals = [1 if x > umbral else 0 for x in result_sigmoid]\n",
    "\n",
    "    return json.dumps(result_finals)\n",
    "  except Exception as e:\n",
    "    return json.dumps(str(e))\n",
    "\"\"\"\n",
    "\n",
    "file_score = open(\"score.py\", \"w\")\n",
    "file_score.write(scorepy)\n",
    "file_score.close()"
   ]
  },
  {
   "cell_type": "code",
   "execution_count": null,
   "id": "097b48d2",
   "metadata": {},
   "outputs": [],
   "source": [
    "## STEP 2: Inference configuration: the blueprints for the German carpenter about how to build your furniture.\n",
    "\n",
    "from azureml.core.environment import Environment\n",
    "virtual_env = Environment(\"env-4-housing\")\n",
    "\n",
    "from azureml.core.conda_dependencies import CondaDependencies\n",
    "virtual_env.python.conda_dependencies = CondaDependencies.create(conda_packages=['pandas','scikit-learn'])\n",
    "\n",
    "\n",
    "from azureml.core.model import InferenceConfig\n",
    "from azureml.core.webservice import AciWebservice\n",
    "inference_config = InferenceConfig(\n",
    "                                environment=virtual_env,\n",
    "                                entry_script=\"score.py\",\n",
    "                                )\n",
    "aci_config = AciWebservice.deploy_configuration(cpu_cores=0.5, memory_gb=1)\n",
    "\n",
    "service = Model.deploy(workspace=ws,\n",
    "                       name='banruptcy-prediction-service',\n",
    "                       models=[registered_model],\n",
    "                       inference_config=inference_config,\n",
    "                       deployment_config=aci_config,\n",
    "                       overwrite=True,\n",
    "                       )"
   ]
  },
  {
   "cell_type": "code",
   "execution_count": null,
   "id": "b292d648",
   "metadata": {},
   "outputs": [],
   "source": [
    "service.wait_for_deployment()\n",
    "\n",
    "scoring_uri = service.scoring_uri\n",
    "\n",
    "scoreuri = json.dumps({\"URI\": [scoring_uri]})\n",
    "file = open(\"uri.json\", \"w\")\n",
    "file.write(scoreuri)\n",
    "file.close()"
   ]
  },
  {
   "cell_type": "code",
   "execution_count": null,
   "id": "182f3af9",
   "metadata": {},
   "outputs": [],
   "source": [
    "print(scoring_uri)"
   ]
  }
 ],
 "metadata": {
  "kernelspec": {
   "display_name": "Python 3",
   "language": "python",
   "name": "python3"
  },
  "language_info": {
   "name": "python",
   "version": "3.9.12"
  }
 },
 "nbformat": 4,
 "nbformat_minor": 5
}
