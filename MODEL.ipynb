{
 "cells": [
  {
   "cell_type": "code",
   "execution_count": null,
   "id": "0c699aa6",
   "metadata": {},
   "outputs": [],
   "source": [
    "import pandas as pd\n",
    "datos = pd.read_csv(\"clientes.csv\")"
   ]
  },
  {
   "cell_type": "code",
   "execution_count": 55,
   "id": "5d9766d5",
   "metadata": {},
   "outputs": [
    {
     "data": {
      "application/vnd.microsoft.datawrangler.viewer.v0+json": {
       "columns": [
        {
         "name": "index",
         "rawType": "int64",
         "type": "integer"
        },
        {
         "name": "CompanyName",
         "rawType": "object",
         "type": "string"
        },
        {
         "name": "SalesPerson",
         "rawType": "object",
         "type": "string"
        },
        {
         "name": "Phone",
         "rawType": "object",
         "type": "string"
        },
        {
         "name": "PasswordHash",
         "rawType": "object",
         "type": "string"
        },
        {
         "name": "PasswordSalt",
         "rawType": "object",
         "type": "string"
        },
        {
         "name": "ModifiedDate",
         "rawType": "object",
         "type": "string"
        }
       ],
       "conversionMethod": "pd.DataFrame",
       "ref": "ddb6a2ca-e296-4753-bf3a-d79de69a2601",
       "rows": [
        [
         "0",
         "A Bike Store",
         "adventure-works\\pamela0",
         "245-555-0173",
         "L/Rlwxzp4w7RWmEgXX+/A7cXaePEPcp+KwQhl2fJL7w=",
         "1KjXYs4=",
         "2005-08-01 00:00:00.000"
        ],
        [
         "1",
         "Progressive Sports",
         "adventure-works\\david8",
         "170-555-0127",
         "YPdtRdvqeAhj6wyxEsFdshBDNXxkCXn+CRgbvJItknw=",
         "fs1ZGhY=",
         "2006-08-01 00:00:00.000"
        ],
        [
         "2",
         "Advanced Bike Components",
         "adventure-works\\jillian0",
         "279-555-0130",
         "LNoK27abGQo48gGue3EBV/UrlYSToV0/s87dCRV7uJk=",
         "YTNH5Rw=",
         "2005-09-01 00:00:00.000"
        ],
        [
         "3",
         "Modular Cycle Systems",
         "adventure-works\\jillian0",
         "710-555-0173",
         "ElzTpSNbUW1Ut+L5cWlfR7MF6nBZia8WpmGaQPjLOJA=",
         "nm7D5e4=",
         "2006-07-01 00:00:00.000"
        ],
        [
         "4",
         "Metropolitan Sports Supply",
         "adventure-works\\shu0",
         "828-555-0186",
         "KJqV15wsX3PG8TS5GSddp6LFFVdd3CoRftZM/tP0+R4=",
         "cNFKU4w=",
         "2006-09-01 00:00:00.000"
        ]
       ],
       "shape": {
        "columns": 6,
        "rows": 5
       }
      },
      "text/html": [
       "<div>\n",
       "<style scoped>\n",
       "    .dataframe tbody tr th:only-of-type {\n",
       "        vertical-align: middle;\n",
       "    }\n",
       "\n",
       "    .dataframe tbody tr th {\n",
       "        vertical-align: top;\n",
       "    }\n",
       "\n",
       "    .dataframe thead th {\n",
       "        text-align: right;\n",
       "    }\n",
       "</style>\n",
       "<table border=\"1\" class=\"dataframe\">\n",
       "  <thead>\n",
       "    <tr style=\"text-align: right;\">\n",
       "      <th></th>\n",
       "      <th>CompanyName</th>\n",
       "      <th>SalesPerson</th>\n",
       "      <th>Phone</th>\n",
       "      <th>PasswordHash</th>\n",
       "      <th>PasswordSalt</th>\n",
       "      <th>ModifiedDate</th>\n",
       "    </tr>\n",
       "  </thead>\n",
       "  <tbody>\n",
       "    <tr>\n",
       "      <th>0</th>\n",
       "      <td>A Bike Store</td>\n",
       "      <td>adventure-works\\pamela0</td>\n",
       "      <td>245-555-0173</td>\n",
       "      <td>L/Rlwxzp4w7RWmEgXX+/A7cXaePEPcp+KwQhl2fJL7w=</td>\n",
       "      <td>1KjXYs4=</td>\n",
       "      <td>2005-08-01 00:00:00.000</td>\n",
       "    </tr>\n",
       "    <tr>\n",
       "      <th>1</th>\n",
       "      <td>Progressive Sports</td>\n",
       "      <td>adventure-works\\david8</td>\n",
       "      <td>170-555-0127</td>\n",
       "      <td>YPdtRdvqeAhj6wyxEsFdshBDNXxkCXn+CRgbvJItknw=</td>\n",
       "      <td>fs1ZGhY=</td>\n",
       "      <td>2006-08-01 00:00:00.000</td>\n",
       "    </tr>\n",
       "    <tr>\n",
       "      <th>2</th>\n",
       "      <td>Advanced Bike Components</td>\n",
       "      <td>adventure-works\\jillian0</td>\n",
       "      <td>279-555-0130</td>\n",
       "      <td>LNoK27abGQo48gGue3EBV/UrlYSToV0/s87dCRV7uJk=</td>\n",
       "      <td>YTNH5Rw=</td>\n",
       "      <td>2005-09-01 00:00:00.000</td>\n",
       "    </tr>\n",
       "    <tr>\n",
       "      <th>3</th>\n",
       "      <td>Modular Cycle Systems</td>\n",
       "      <td>adventure-works\\jillian0</td>\n",
       "      <td>710-555-0173</td>\n",
       "      <td>ElzTpSNbUW1Ut+L5cWlfR7MF6nBZia8WpmGaQPjLOJA=</td>\n",
       "      <td>nm7D5e4=</td>\n",
       "      <td>2006-07-01 00:00:00.000</td>\n",
       "    </tr>\n",
       "    <tr>\n",
       "      <th>4</th>\n",
       "      <td>Metropolitan Sports Supply</td>\n",
       "      <td>adventure-works\\shu0</td>\n",
       "      <td>828-555-0186</td>\n",
       "      <td>KJqV15wsX3PG8TS5GSddp6LFFVdd3CoRftZM/tP0+R4=</td>\n",
       "      <td>cNFKU4w=</td>\n",
       "      <td>2006-09-01 00:00:00.000</td>\n",
       "    </tr>\n",
       "  </tbody>\n",
       "</table>\n",
       "</div>"
      ],
      "text/plain": [
       "                  CompanyName               SalesPerson         Phone  \\\n",
       "0                A Bike Store   adventure-works\\pamela0  245-555-0173   \n",
       "1          Progressive Sports    adventure-works\\david8  170-555-0127   \n",
       "2    Advanced Bike Components  adventure-works\\jillian0  279-555-0130   \n",
       "3       Modular Cycle Systems  adventure-works\\jillian0  710-555-0173   \n",
       "4  Metropolitan Sports Supply      adventure-works\\shu0  828-555-0186   \n",
       "\n",
       "                                   PasswordHash PasswordSalt  \\\n",
       "0  L/Rlwxzp4w7RWmEgXX+/A7cXaePEPcp+KwQhl2fJL7w=     1KjXYs4=   \n",
       "1  YPdtRdvqeAhj6wyxEsFdshBDNXxkCXn+CRgbvJItknw=     fs1ZGhY=   \n",
       "2  LNoK27abGQo48gGue3EBV/UrlYSToV0/s87dCRV7uJk=     YTNH5Rw=   \n",
       "3  ElzTpSNbUW1Ut+L5cWlfR7MF6nBZia8WpmGaQPjLOJA=     nm7D5e4=   \n",
       "4  KJqV15wsX3PG8TS5GSddp6LFFVdd3CoRftZM/tP0+R4=     cNFKU4w=   \n",
       "\n",
       "              ModifiedDate  \n",
       "0  2005-08-01 00:00:00.000  \n",
       "1  2006-08-01 00:00:00.000  \n",
       "2  2005-09-01 00:00:00.000  \n",
       "3  2006-07-01 00:00:00.000  \n",
       "4  2006-09-01 00:00:00.000  "
      ]
     },
     "execution_count": 55,
     "metadata": {},
     "output_type": "execute_result"
    }
   ],
   "source": [
    "datos.head()"
   ]
  },
  {
   "cell_type": "code",
   "execution_count": 56,
   "id": "7fda1d20",
   "metadata": {},
   "outputs": [],
   "source": [
    "import numpy as np\n",
    "from sklearn.preprocessing import LabelEncoder\n",
    "import re\n",
    "# def sigmoid(x):\n",
    "#     return 1 / (1 + np.exp(-x))\n",
    "\n",
    "\n",
    "\n",
    "datos['Phone'] = datos['Phone'].apply(lambda x: int(re.sub(r'\\D', '', x)[-10:-7]))\n",
    "datos['ModifiedDate'] = pd.to_datetime(datos['ModifiedDate'])\n",
    "datos['ModifiedDate'] = datos['ModifiedDate'].apply(lambda x: int(x.timestamp()))\n",
    "\n",
    "# One hot enconde company name and sales person\n",
    "datos = pd.get_dummies(datos, columns=['CompanyName', 'SalesPerson'], drop_first=True)\n"
   ]
  },
  {
   "cell_type": "code",
   "execution_count": 58,
   "id": "5b05de13",
   "metadata": {},
   "outputs": [
    {
     "data": {
      "application/vnd.microsoft.datawrangler.viewer.v0+json": {
       "columns": [
        {
         "name": "index",
         "rawType": "int64",
         "type": "integer"
        },
        {
         "name": "Phone",
         "rawType": "int64",
         "type": "integer"
        },
        {
         "name": "PasswordHash",
         "rawType": "object",
         "type": "string"
        },
        {
         "name": "PasswordSalt",
         "rawType": "object",
         "type": "string"
        },
        {
         "name": "ModifiedDate",
         "rawType": "int64",
         "type": "integer"
        },
        {
         "name": "CompanyName_A Cycle Shop",
         "rawType": "bool",
         "type": "boolean"
        },
        {
         "name": "CompanyName_A Great Bicycle Company",
         "rawType": "bool",
         "type": "boolean"
        },
        {
         "name": "CompanyName_A Typical Bike Shop",
         "rawType": "bool",
         "type": "boolean"
        },
        {
         "name": "CompanyName_Acceptable Sales & Service",
         "rawType": "bool",
         "type": "boolean"
        },
        {
         "name": "CompanyName_Action Bicycle Specialists",
         "rawType": "bool",
         "type": "boolean"
        },
        {
         "name": "CompanyName_Active Life Toys",
         "rawType": "bool",
         "type": "boolean"
        },
        {
         "name": "CompanyName_Active Systems",
         "rawType": "bool",
         "type": "boolean"
        },
        {
         "name": "CompanyName_Advanced Bike Components",
         "rawType": "bool",
         "type": "boolean"
        },
        {
         "name": "CompanyName_Aerobic Exercise Company",
         "rawType": "bool",
         "type": "boolean"
        },
        {
         "name": "CompanyName_Affordable Sports Equipment",
         "rawType": "bool",
         "type": "boolean"
        },
        {
         "name": "CompanyName_All Cycle Shop",
         "rawType": "bool",
         "type": "boolean"
        },
        {
         "name": "CompanyName_All Seasons Sports Supply",
         "rawType": "bool",
         "type": "boolean"
        },
        {
         "name": "CompanyName_Alpine Ski House",
         "rawType": "bool",
         "type": "boolean"
        },
        {
         "name": "CompanyName_Alternative Vehicles",
         "rawType": "bool",
         "type": "boolean"
        },
        {
         "name": "CompanyName_Another Bicycle Company",
         "rawType": "bool",
         "type": "boolean"
        },
        {
         "name": "CompanyName_Another Sporting Goods Company",
         "rawType": "bool",
         "type": "boolean"
        },
        {
         "name": "CompanyName_Area Bike Accessories",
         "rawType": "bool",
         "type": "boolean"
        },
        {
         "name": "CompanyName_Area Sheet Metal Supply",
         "rawType": "bool",
         "type": "boolean"
        },
        {
         "name": "CompanyName_Associated Bikes",
         "rawType": "bool",
         "type": "boolean"
        },
        {
         "name": "CompanyName_Authentic Sales and Service",
         "rawType": "bool",
         "type": "boolean"
        },
        {
         "name": "CompanyName_Authorized Bike Sales and Rental",
         "rawType": "bool",
         "type": "boolean"
        },
        {
         "name": "CompanyName_Basic Bike Company",
         "rawType": "bool",
         "type": "boolean"
        },
        {
         "name": "CompanyName_Basic Sports Equipment",
         "rawType": "bool",
         "type": "boolean"
        },
        {
         "name": "CompanyName_Beneficial Exercises and Activities",
         "rawType": "bool",
         "type": "boolean"
        },
        {
         "name": "CompanyName_Best o' Bikes",
         "rawType": "bool",
         "type": "boolean"
        },
        {
         "name": "CompanyName_Bicycle Accessories and Kits",
         "rawType": "bool",
         "type": "boolean"
        },
        {
         "name": "CompanyName_Bicycle Lines Distributors",
         "rawType": "bool",
         "type": "boolean"
        },
        {
         "name": "CompanyName_Bicycle Merchandise Warehouse",
         "rawType": "bool",
         "type": "boolean"
        },
        {
         "name": "CompanyName_Big Cycle Mall",
         "rawType": "bool",
         "type": "boolean"
        },
        {
         "name": "CompanyName_Big-Time Bike Store",
         "rawType": "bool",
         "type": "boolean"
        },
        {
         "name": "CompanyName_Bike Dealers Association",
         "rawType": "bool",
         "type": "boolean"
        },
        {
         "name": "CompanyName_Bike Experts",
         "rawType": "bool",
         "type": "boolean"
        },
        {
         "name": "CompanyName_Bike Universe",
         "rawType": "bool",
         "type": "boolean"
        },
        {
         "name": "CompanyName_Bike World",
         "rawType": "bool",
         "type": "boolean"
        },
        {
         "name": "CompanyName_Bikes and Motorbikes",
         "rawType": "bool",
         "type": "boolean"
        },
        {
         "name": "CompanyName_Bikes for Kids and Adults",
         "rawType": "bool",
         "type": "boolean"
        },
        {
         "name": "CompanyName_Bikes for Two",
         "rawType": "bool",
         "type": "boolean"
        },
        {
         "name": "CompanyName_Black Bicycle Company",
         "rawType": "bool",
         "type": "boolean"
        },
        {
         "name": "CompanyName_Blue Bicycle Company",
         "rawType": "bool",
         "type": "boolean"
        },
        {
         "name": "CompanyName_Bold Bike Accessories",
         "rawType": "bool",
         "type": "boolean"
        },
        {
         "name": "CompanyName_Brakes and Gears",
         "rawType": "bool",
         "type": "boolean"
        },
        {
         "name": "CompanyName_Brightwork Company",
         "rawType": "bool",
         "type": "boolean"
        },
        {
         "name": "CompanyName_Brown Bicycle Company",
         "rawType": "bool",
         "type": "boolean"
        },
        {
         "name": "CompanyName_Bulk Discount Store",
         "rawType": "bool",
         "type": "boolean"
        },
        {
         "name": "CompanyName_Camping and Sports Store",
         "rawType": "bool",
         "type": "boolean"
        },
        {
         "name": "CompanyName_Capable Sales and Service",
         "rawType": "bool",
         "type": "boolean"
        },
        {
         "name": "CompanyName_Cash & Carry Bikes",
         "rawType": "bool",
         "type": "boolean"
        },
        {
         "name": "CompanyName_Catalog Store",
         "rawType": "bool",
         "type": "boolean"
        },
        {
         "name": "CompanyName_Center Cycle Shop",
         "rawType": "bool",
         "type": "boolean"
        },
        {
         "name": "CompanyName_Central Bicycle Specialists",
         "rawType": "bool",
         "type": "boolean"
        },
        {
         "name": "CompanyName_Central Discount Store",
         "rawType": "bool",
         "type": "boolean"
        },
        {
         "name": "CompanyName_Certified Bicycle Supply",
         "rawType": "bool",
         "type": "boolean"
        },
        {
         "name": "CompanyName_Certified Sports Supply",
         "rawType": "bool",
         "type": "boolean"
        },
        {
         "name": "CompanyName_Channel Outlet",
         "rawType": "bool",
         "type": "boolean"
        },
        {
         "name": "CompanyName_Chic Department Stores",
         "rawType": "bool",
         "type": "boolean"
        },
        {
         "name": "CompanyName_City Cycling",
         "rawType": "bool",
         "type": "boolean"
        },
        {
         "name": "CompanyName_City Manufacturing",
         "rawType": "bool",
         "type": "boolean"
        },
        {
         "name": "CompanyName_Citywide Service and Repair",
         "rawType": "bool",
         "type": "boolean"
        },
        {
         "name": "CompanyName_Client Discount Store",
         "rawType": "bool",
         "type": "boolean"
        },
        {
         "name": "CompanyName_Closeout Boutique",
         "rawType": "bool",
         "type": "boolean"
        },
        {
         "name": "CompanyName_Closest Bicycle Store",
         "rawType": "bool",
         "type": "boolean"
        },
        {
         "name": "CompanyName_Coalition Bike Company",
         "rawType": "bool",
         "type": "boolean"
        },
        {
         "name": "CompanyName_Coho Sports",
         "rawType": "bool",
         "type": "boolean"
        },
        {
         "name": "CompanyName_Commendable Bikes",
         "rawType": "bool",
         "type": "boolean"
        },
        {
         "name": "CompanyName_Commerce Bicycle Specialists",
         "rawType": "bool",
         "type": "boolean"
        },
        {
         "name": "CompanyName_Commercial Sporting Goods",
         "rawType": "bool",
         "type": "boolean"
        },
        {
         "name": "CompanyName_Commuter Bicycle Store",
         "rawType": "bool",
         "type": "boolean"
        },
        {
         "name": "CompanyName_Consolidated Messenger",
         "rawType": "bool",
         "type": "boolean"
        },
        {
         "name": "CompanyName_Consumer Equipment",
         "rawType": "bool",
         "type": "boolean"
        },
        {
         "name": "CompanyName_Contoso, Ltd.",
         "rawType": "bool",
         "type": "boolean"
        },
        {
         "name": "CompanyName_Convenient Sales and Service",
         "rawType": "bool",
         "type": "boolean"
        },
        {
         "name": "CompanyName_Corner Bicycle Supply",
         "rawType": "bool",
         "type": "boolean"
        },
        {
         "name": "CompanyName_Countryside Company",
         "rawType": "bool",
         "type": "boolean"
        },
        {
         "name": "CompanyName_Courteous Bicycle Specialists",
         "rawType": "bool",
         "type": "boolean"
        },
        {
         "name": "CompanyName_Cross-Country Riding Supplies",
         "rawType": "bool",
         "type": "boolean"
        },
        {
         "name": "CompanyName_Curbside Sporting Goods",
         "rawType": "bool",
         "type": "boolean"
        },
        {
         "name": "CompanyName_Custom Accessories Company",
         "rawType": "bool",
         "type": "boolean"
        },
        {
         "name": "CompanyName_Custom Sales and Service",
         "rawType": "bool",
         "type": "boolean"
        },
        {
         "name": "CompanyName_Cycle Clearance",
         "rawType": "bool",
         "type": "boolean"
        },
        {
         "name": "CompanyName_Cycle Merchants",
         "rawType": "bool",
         "type": "boolean"
        },
        {
         "name": "CompanyName_Cycles Wholesaler & Mfg.",
         "rawType": "bool",
         "type": "boolean"
        },
        {
         "name": "CompanyName_Cycling Goods",
         "rawType": "bool",
         "type": "boolean"
        },
        {
         "name": "CompanyName_Demand Distributors",
         "rawType": "bool",
         "type": "boolean"
        },
        {
         "name": "CompanyName_Designated Distributors",
         "rawType": "bool",
         "type": "boolean"
        },
        {
         "name": "CompanyName_Designer Department Stores",
         "rawType": "bool",
         "type": "boolean"
        },
        {
         "name": "CompanyName_Discount Bicycle Specialists",
         "rawType": "bool",
         "type": "boolean"
        },
        {
         "name": "CompanyName_Discount Tours",
         "rawType": "bool",
         "type": "boolean"
        },
        {
         "name": "CompanyName_Distant Inn",
         "rawType": "bool",
         "type": "boolean"
        },
        {
         "name": "CompanyName_Distinctive Store",
         "rawType": "bool",
         "type": "boolean"
        },
        {
         "name": "CompanyName_District Mall",
         "rawType": "bool",
         "type": "boolean"
        },
        {
         "name": "CompanyName_Downhill Bicycle Specialists",
         "rawType": "bool",
         "type": "boolean"
        },
        {
         "name": "CompanyName_Downtown Hotel",
         "rawType": "bool",
         "type": "boolean"
        },
        {
         "name": "CompanyName_Eastside Department Store",
         "rawType": "bool",
         "type": "boolean"
        },
        {
         "name": "CompanyName_Eastside Parts Shop",
         "rawType": "bool",
         "type": "boolean"
        },
        {
         "name": "CompanyName_Economy Bikes Company",
         "rawType": "bool",
         "type": "boolean"
        },
        {
         "name": "CompanyName_Economy Center",
         "rawType": "bool",
         "type": "boolean"
        },
        {
         "name": "CompanyName_Efficient Cycling",
         "rawType": "bool",
         "type": "boolean"
        },
        {
         "name": "CompanyName_Eighth Bike Store",
         "rawType": "bool",
         "type": "boolean"
        },
        {
         "name": "CompanyName_Elite Bikes",
         "rawType": "bool",
         "type": "boolean"
        },
        {
         "name": "CompanyName_Engineered Bike Systems",
         "rawType": "bool",
         "type": "boolean"
        },
        {
         "name": "CompanyName_Essential Bike Works",
         "rawType": "bool",
         "type": "boolean"
        },
        {
         "name": "CompanyName_Exceptional Cycle Services",
         "rawType": "bool",
         "type": "boolean"
        },
        {
         "name": "CompanyName_Exclusive Bicycle Mart",
         "rawType": "bool",
         "type": "boolean"
        },
        {
         "name": "CompanyName_Exercise Center",
         "rawType": "bool",
         "type": "boolean"
        },
        {
         "name": "CompanyName_Exertion Activities Club",
         "rawType": "bool",
         "type": "boolean"
        },
        {
         "name": "CompanyName_Exhibition Showroom",
         "rawType": "bool",
         "type": "boolean"
        },
        {
         "name": "CompanyName_Exhilarating Cycles",
         "rawType": "bool",
         "type": "boolean"
        },
        {
         "name": "CompanyName_Express Bike Services",
         "rawType": "bool",
         "type": "boolean"
        },
        {
         "name": "CompanyName_Extended Bike Sales",
         "rawType": "bool",
         "type": "boolean"
        },
        {
         "name": "CompanyName_Extended Tours",
         "rawType": "bool",
         "type": "boolean"
        },
        {
         "name": "CompanyName_Extraordinary Bike Works",
         "rawType": "bool",
         "type": "boolean"
        },
        {
         "name": "CompanyName_Extras Sporting Goods",
         "rawType": "bool",
         "type": "boolean"
        },
        {
         "name": "CompanyName_Extreme Riding Supplies",
         "rawType": "bool",
         "type": "boolean"
        },
        {
         "name": "CompanyName_Fabrikam Inc., West",
         "rawType": "bool",
         "type": "boolean"
        },
        {
         "name": "CompanyName_Fad Outlet",
         "rawType": "bool",
         "type": "boolean"
        },
        {
         "name": "CompanyName_Family Cycle Store",
         "rawType": "bool",
         "type": "boolean"
        },
        {
         "name": "CompanyName_Family Entertainment Center",
         "rawType": "bool",
         "type": "boolean"
        },
        {
         "name": "CompanyName_Family's Favorite Bike Shop",
         "rawType": "bool",
         "type": "boolean"
        },
        {
         "name": "CompanyName_Famous Bike Shop",
         "rawType": "bool",
         "type": "boolean"
        },
        {
         "name": "CompanyName_Farthermost Bike Shop",
         "rawType": "bool",
         "type": "boolean"
        },
        {
         "name": "CompanyName_Farthest Bike Store",
         "rawType": "bool",
         "type": "boolean"
        },
        {
         "name": "CompanyName_Fashionable Bikes and Accessories",
         "rawType": "bool",
         "type": "boolean"
        },
        {
         "name": "CompanyName_Fasteners & Bolts Outlet",
         "rawType": "bool",
         "type": "boolean"
        },
        {
         "name": "CompanyName_Field Trip Inc",
         "rawType": "bool",
         "type": "boolean"
        },
        {
         "name": "CompanyName_Field Trip Store",
         "rawType": "bool",
         "type": "boolean"
        },
        {
         "name": "CompanyName_Fifth Bike Store",
         "rawType": "bool",
         "type": "boolean"
        },
        {
         "name": "CompanyName_Finer Cycle Shop",
         "rawType": "bool",
         "type": "boolean"
        },
        {
         "name": "CompanyName_Finer Mart",
         "rawType": "bool",
         "type": "boolean"
        },
        {
         "name": "CompanyName_Finer Parts Shop",
         "rawType": "bool",
         "type": "boolean"
        },
        {
         "name": "CompanyName_Finer Riding Supplies",
         "rawType": "bool",
         "type": "boolean"
        },
        {
         "name": "CompanyName_Finer Sales and Service",
         "rawType": "bool",
         "type": "boolean"
        },
        {
         "name": "CompanyName_Finish and Sealant Products",
         "rawType": "bool",
         "type": "boolean"
        },
        {
         "name": "CompanyName_First Bike Store",
         "rawType": "bool",
         "type": "boolean"
        },
        {
         "name": "CompanyName_First Cycle Store",
         "rawType": "bool",
         "type": "boolean"
        },
        {
         "name": "CompanyName_First Department Stores",
         "rawType": "bool",
         "type": "boolean"
        },
        {
         "name": "CompanyName_First-Rate Outlet",
         "rawType": "bool",
         "type": "boolean"
        },
        {
         "name": "CompanyName_Fitness Cycling",
         "rawType": "bool",
         "type": "boolean"
        },
        {
         "name": "CompanyName_Fitness Department Stores",
         "rawType": "bool",
         "type": "boolean"
        },
        {
         "name": "CompanyName_Fitness Hotel",
         "rawType": "bool",
         "type": "boolean"
        },
        {
         "name": "CompanyName_Fitness Supplies",
         "rawType": "bool",
         "type": "boolean"
        },
        {
         "name": "CompanyName_Fitness Toy Store",
         "rawType": "bool",
         "type": "boolean"
        },
        {
         "name": "CompanyName_Flawless Bike Shop",
         "rawType": "bool",
         "type": "boolean"
        },
        {
         "name": "CompanyName_Fleet Bikes",
         "rawType": "bool",
         "type": "boolean"
        },
        {
         "name": "CompanyName_Friendly Bike Shop",
         "rawType": "bool",
         "type": "boolean"
        },
        {
         "name": "CompanyName_Friendly Neighborhood Bikes",
         "rawType": "bool",
         "type": "boolean"
        },
        {
         "name": "CompanyName_Front Sporting Goods",
         "rawType": "bool",
         "type": "boolean"
        },
        {
         "name": "CompanyName_Frugal Bike Shop",
         "rawType": "bool",
         "type": "boolean"
        },
        {
         "name": "CompanyName_Full-Service Bike Store",
         "rawType": "bool",
         "type": "boolean"
        },
        {
         "name": "CompanyName_Fun Times Club",
         "rawType": "bool",
         "type": "boolean"
        },
        {
         "name": "CompanyName_Fun Toys and Bikes",
         "rawType": "bool",
         "type": "boolean"
        },
        {
         "name": "CompanyName_Future Bikes",
         "rawType": "bool",
         "type": "boolean"
        },
        {
         "name": "CompanyName_Futuristic Bikes",
         "rawType": "bool",
         "type": "boolean"
        },
        {
         "name": "CompanyName_Futuristic Sport Distributors",
         "rawType": "bool",
         "type": "boolean"
        },
        {
         "name": "CompanyName_Gasless Cycle Shop",
         "rawType": "bool",
         "type": "boolean"
        },
        {
         "name": "CompanyName_Gear-Shift Bikes Limited",
         "rawType": "bool",
         "type": "boolean"
        },
        {
         "name": "CompanyName_General Bike Corporation",
         "rawType": "bool",
         "type": "boolean"
        },
        {
         "name": "CompanyName_General Cycle Storehouse",
         "rawType": "bool",
         "type": "boolean"
        },
        {
         "name": "CompanyName_General Department Stores",
         "rawType": "bool",
         "type": "boolean"
        },
        {
         "name": "CompanyName_General Industries",
         "rawType": "bool",
         "type": "boolean"
        },
        {
         "name": "CompanyName_General Riding Supplies",
         "rawType": "bool",
         "type": "boolean"
        },
        {
         "name": "CompanyName_General Supplies",
         "rawType": "bool",
         "type": "boolean"
        },
        {
         "name": "CompanyName_Genial Bike Associates",
         "rawType": "bool",
         "type": "boolean"
        },
        {
         "name": "CompanyName_Genuine Bike Shop",
         "rawType": "bool",
         "type": "boolean"
        },
        {
         "name": "CompanyName_Gift and Toy Store",
         "rawType": "bool",
         "type": "boolean"
        },
        {
         "name": "CompanyName_Global Sporting Goods",
         "rawType": "bool",
         "type": "boolean"
        },
        {
         "name": "CompanyName_Go-cart and Bike Specialists",
         "rawType": "bool",
         "type": "boolean"
        },
        {
         "name": "CompanyName_Golf and Cycle Store",
         "rawType": "bool",
         "type": "boolean"
        },
        {
         "name": "CompanyName_Good Bike Shop",
         "rawType": "bool",
         "type": "boolean"
        },
        {
         "name": "CompanyName_Good Toys",
         "rawType": "bool",
         "type": "boolean"
        },
        {
         "name": "CompanyName_Grand Bicycle Stores",
         "rawType": "bool",
         "type": "boolean"
        },
        {
         "name": "CompanyName_Grand Cycle Store",
         "rawType": "bool",
         "type": "boolean"
        },
        {
         "name": "CompanyName_Grand Industries",
         "rawType": "bool",
         "type": "boolean"
        },
        {
         "name": "CompanyName_Grand Sport Boutique",
         "rawType": "bool",
         "type": "boolean"
        },
        {
         "name": "CompanyName_Grease and Oil Products Company",
         "rawType": "bool",
         "type": "boolean"
        },
        {
         "name": "CompanyName_Great Bicycle Supply",
         "rawType": "bool",
         "type": "boolean"
        },
        {
         "name": "CompanyName_Great Bikes ",
         "rawType": "bool",
         "type": "boolean"
        },
        {
         "name": "CompanyName_Greater Bike Store",
         "rawType": "bool",
         "type": "boolean"
        },
        {
         "name": "CompanyName_Handy Bike Services",
         "rawType": "bool",
         "type": "boolean"
        },
        {
         "name": "CompanyName_Hardware Components",
         "rawType": "bool",
         "type": "boolean"
        },
        {
         "name": "CompanyName_Health Spa, Limited",
         "rawType": "bool",
         "type": "boolean"
        },
        {
         "name": "CompanyName_Healthy Activity Store",
         "rawType": "bool",
         "type": "boolean"
        },
        {
         "name": "CompanyName_Highway Bike Shop",
         "rawType": "bool",
         "type": "boolean"
        },
        {
         "name": "CompanyName_Historic Bicycle Sales",
         "rawType": "bool",
         "type": "boolean"
        },
        {
         "name": "CompanyName_Home Town Bike Store",
         "rawType": "bool",
         "type": "boolean"
        },
        {
         "name": "CompanyName_Honest Repair Service",
         "rawType": "bool",
         "type": "boolean"
        },
        {
         "name": "CompanyName_Imaginary Toys",
         "rawType": "bool",
         "type": "boolean"
        },
        {
         "name": "CompanyName_Immense Manufacturing Company",
         "rawType": "bool",
         "type": "boolean"
        },
        {
         "name": "CompanyName_Imported and Domestic Cycles",
         "rawType": "bool",
         "type": "boolean"
        },
        {
         "name": "CompanyName_Impromptu Trips",
         "rawType": "bool",
         "type": "boolean"
        },
        {
         "name": "CompanyName_Initial Bike Company",
         "rawType": "bool",
         "type": "boolean"
        },
        {
         "name": "CompanyName_Instruments and Parts Company",
         "rawType": "bool",
         "type": "boolean"
        },
        {
         "name": "CompanyName_Journey Sporting Goods",
         "rawType": "bool",
         "type": "boolean"
        },
        {
         "name": "CompanyName_Kickstand Sellers",
         "rawType": "bool",
         "type": "boolean"
        },
        {
         "name": "CompanyName_Kickstands and Accessories Company",
         "rawType": "bool",
         "type": "boolean"
        },
        {
         "name": "CompanyName_Large Bike Shop",
         "rawType": "bool",
         "type": "boolean"
        },
        {
         "name": "CompanyName_Largest Bike Store",
         "rawType": "bool",
         "type": "boolean"
        },
        {
         "name": "CompanyName_Latest Accessories Sales",
         "rawType": "bool",
         "type": "boolean"
        },
        {
         "name": "CompanyName_Latest Sports Equipment",
         "rawType": "bool",
         "type": "boolean"
        },
        {
         "name": "CompanyName_Leading Sales & Repair",
         "rawType": "bool",
         "type": "boolean"
        },
        {
         "name": "CompanyName_Leather Seat Factory",
         "rawType": "bool",
         "type": "boolean"
        },
        {
         "name": "CompanyName_Leisure Activities",
         "rawType": "bool",
         "type": "boolean"
        },
        {
         "name": "CompanyName_Leisure Clearing House",
         "rawType": "bool",
         "type": "boolean"
        },
        {
         "name": "CompanyName_Little Bicycle Supply Shop",
         "rawType": "bool",
         "type": "boolean"
        },
        {
         "name": "CompanyName_Little Sports Center",
         "rawType": "bool",
         "type": "boolean"
        },
        {
         "name": "CompanyName_Local Hardware Factory",
         "rawType": "bool",
         "type": "boolean"
        },
        {
         "name": "CompanyName_Local Sales and Rental",
         "rawType": "bool",
         "type": "boolean"
        },
        {
         "name": "CompanyName_Locks Company",
         "rawType": "bool",
         "type": "boolean"
        },
        {
         "name": "CompanyName_Lots of Bikes Storehouse",
         "rawType": "bool",
         "type": "boolean"
        },
        {
         "name": "CompanyName_Low Price Cycles",
         "rawType": "bool",
         "type": "boolean"
        },
        {
         "name": "CompanyName_Machines & Cycles Store",
         "rawType": "bool",
         "type": "boolean"
        },
        {
         "name": "CompanyName_Mail Market",
         "rawType": "bool",
         "type": "boolean"
        },
        {
         "name": "CompanyName_Mail-Order Outlet",
         "rawType": "bool",
         "type": "boolean"
        },
        {
         "name": "CompanyName_Main Bicycle Services",
         "rawType": "bool",
         "type": "boolean"
        },
        {
         "name": "CompanyName_Maintenance and Repair for Bicycles",
         "rawType": "bool",
         "type": "boolean"
        },
        {
         "name": "CompanyName_Major Cycling",
         "rawType": "bool",
         "type": "boolean"
        },
        {
         "name": "CompanyName_Major Sport Suppliers",
         "rawType": "bool",
         "type": "boolean"
        },
        {
         "name": "CompanyName_Major Sporting Goods",
         "rawType": "bool",
         "type": "boolean"
        },
        {
         "name": "CompanyName_Many Bikes Store",
         "rawType": "bool",
         "type": "boolean"
        },
        {
         "name": "CompanyName_Mechanical Products Ltd.",
         "rawType": "bool",
         "type": "boolean"
        },
        {
         "name": "CompanyName_Mercantile Outlet",
         "rawType": "bool",
         "type": "boolean"
        },
        {
         "name": "CompanyName_Metal Clearing House",
         "rawType": "bool",
         "type": "boolean"
        },
        {
         "name": "CompanyName_Metal Processing Company",
         "rawType": "bool",
         "type": "boolean"
        },
        {
         "name": "CompanyName_Metallic Paint and Overcoat Co",
         "rawType": "bool",
         "type": "boolean"
        },
        {
         "name": "CompanyName_Metro Bike Works",
         "rawType": "bool",
         "type": "boolean"
        },
        {
         "name": "CompanyName_Metro Cycle Shop",
         "rawType": "bool",
         "type": "boolean"
        },
        {
         "name": "CompanyName_Metro Manufacturing",
         "rawType": "bool",
         "type": "boolean"
        },
        {
         "name": "CompanyName_Metro Metals Co.",
         "rawType": "bool",
         "type": "boolean"
        },
        {
         "name": "CompanyName_Metropolitan Bicycle Supply",
         "rawType": "bool",
         "type": "boolean"
        },
        {
         "name": "CompanyName_Metropolitan Manufacturing",
         "rawType": "bool",
         "type": "boolean"
        },
        {
         "name": "CompanyName_Metropolitan Sports Supply",
         "rawType": "bool",
         "type": "boolean"
        },
        {
         "name": "CompanyName_Moderately-Priced Bikes Store",
         "rawType": "bool",
         "type": "boolean"
        },
        {
         "name": "CompanyName_Modular Cycle Systems",
         "rawType": "bool",
         "type": "boolean"
        },
        {
         "name": "CompanyName_More Bikes!",
         "rawType": "bool",
         "type": "boolean"
        },
        {
         "name": "CompanyName_Mountain Bike Center",
         "rawType": "bool",
         "type": "boolean"
        },
        {
         "name": "CompanyName_Mountain Toy Store",
         "rawType": "bool",
         "type": "boolean"
        },
        {
         "name": "CompanyName_National Manufacturing",
         "rawType": "bool",
         "type": "boolean"
        },
        {
         "name": "CompanyName_Nearby Cycle Shop",
         "rawType": "bool",
         "type": "boolean"
        },
        {
         "name": "CompanyName_Nearby Sporting Goods",
         "rawType": "bool",
         "type": "boolean"
        },
        {
         "name": "CompanyName_Neighborhood Store",
         "rawType": "bool",
         "type": "boolean"
        },
        {
         "name": "CompanyName_Nice Bikes",
         "rawType": "bool",
         "type": "boolean"
        },
        {
         "name": "CompanyName_Non-Slip Pedal Company",
         "rawType": "bool",
         "type": "boolean"
        },
        {
         "name": "CompanyName_Nonskid Tire Company",
         "rawType": "bool",
         "type": "boolean"
        },
        {
         "name": "CompanyName_Novelty Bikes",
         "rawType": "bool",
         "type": "boolean"
        },
        {
         "name": "CompanyName_Number 1 Supply",
         "rawType": "bool",
         "type": "boolean"
        },
        {
         "name": "CompanyName_Number One Bike Co.",
         "rawType": "bool",
         "type": "boolean"
        },
        {
         "name": "CompanyName_Nuts and Bolts Mfg.",
         "rawType": "bool",
         "type": "boolean"
        },
        {
         "name": "CompanyName_Odometers and Accessories Company",
         "rawType": "bool",
         "type": "boolean"
        },
        {
         "name": "CompanyName_Official Parts Shop",
         "rawType": "bool",
         "type": "boolean"
        },
        {
         "name": "CompanyName_Oils and Fluids Warehouse",
         "rawType": "bool",
         "type": "boolean"
        },
        {
         "name": "CompanyName_One Bike Company",
         "rawType": "bool",
         "type": "boolean"
        },
        {
         "name": "CompanyName_Online Bike Sellers",
         "rawType": "bool",
         "type": "boolean"
        },
        {
         "name": "CompanyName_Online Bike Warehouse",
         "rawType": "bool",
         "type": "boolean"
        },
        {
         "name": "CompanyName_Operational Manufacturing",
         "rawType": "bool",
         "type": "boolean"
        },
        {
         "name": "CompanyName_Orange Bicycle Company",
         "rawType": "bool",
         "type": "boolean"
        },
        {
         "name": "CompanyName_Original Bicycle Supply Company",
         "rawType": "bool",
         "type": "boolean"
        },
        {
         "name": "CompanyName_Our Sporting Goods Store",
         "rawType": "bool",
         "type": "boolean"
        },
        {
         "name": "CompanyName_Out-of-the-Way Hotels",
         "rawType": "bool",
         "type": "boolean"
        },
        {
         "name": "CompanyName_Outdoor Aerobic Systems Company",
         "rawType": "bool",
         "type": "boolean"
        },
        {
         "name": "CompanyName_Outdoor Sporting Goods",
         "rawType": "bool",
         "type": "boolean"
        },
        {
         "name": "CompanyName_Outdoor Sports Supply",
         "rawType": "bool",
         "type": "boolean"
        },
        {
         "name": "CompanyName_Outstanding Cycles",
         "rawType": "bool",
         "type": "boolean"
        },
        {
         "name": "CompanyName_Paint Supply",
         "rawType": "bool",
         "type": "boolean"
        },
        {
         "name": "CompanyName_Paints and Solvents Company",
         "rawType": "bool",
         "type": "boolean"
        },
        {
         "name": "CompanyName_Parcel Express Delivery Service",
         "rawType": "bool",
         "type": "boolean"
        },
        {
         "name": "CompanyName_Permanent Finish Products",
         "rawType": "bool",
         "type": "boolean"
        },
        {
         "name": "CompanyName_Petroleum Products Distributors",
         "rawType": "bool",
         "type": "boolean"
        },
        {
         "name": "CompanyName_Plastic Parts Company",
         "rawType": "bool",
         "type": "boolean"
        },
        {
         "name": "CompanyName_Practical Bike Supply Company",
         "rawType": "bool",
         "type": "boolean"
        },
        {
         "name": "CompanyName_Preferred Bikes",
         "rawType": "bool",
         "type": "boolean"
        },
        {
         "name": "CompanyName_Price-Cutter Discount Bikes",
         "rawType": "bool",
         "type": "boolean"
        },
        {
         "name": "CompanyName_Primary Bike Distributors",
         "rawType": "bool",
         "type": "boolean"
        },
        {
         "name": "CompanyName_Principal Bike Company",
         "rawType": "bool",
         "type": "boolean"
        },
        {
         "name": "CompanyName_Pro Sporting Goods",
         "rawType": "bool",
         "type": "boolean"
        },
        {
         "name": "CompanyName_Professional Containers and Packaging Co.",
         "rawType": "bool",
         "type": "boolean"
        },
        {
         "name": "CompanyName_Professional Cycle Store",
         "rawType": "bool",
         "type": "boolean"
        },
        {
         "name": "CompanyName_Professional Cyclists",
         "rawType": "bool",
         "type": "boolean"
        },
        {
         "name": "CompanyName_Professional Sales and Service",
         "rawType": "bool",
         "type": "boolean"
        },
        {
         "name": "CompanyName_Progressive Sports",
         "rawType": "bool",
         "type": "boolean"
        },
        {
         "name": "CompanyName_Prosperous Tours",
         "rawType": "bool",
         "type": "boolean"
        },
        {
         "name": "CompanyName_Purple Bicycle Company",
         "rawType": "bool",
         "type": "boolean"
        },
        {
         "name": "CompanyName_Quantity Discounts",
         "rawType": "bool",
         "type": "boolean"
        },
        {
         "name": "CompanyName_Quick Delivery Service",
         "rawType": "bool",
         "type": "boolean"
        },
        {
         "name": "CompanyName_Quick Parts and Service",
         "rawType": "bool",
         "type": "boolean"
        },
        {
         "name": "CompanyName_Racing Bike Outlet",
         "rawType": "bool",
         "type": "boolean"
        },
        {
         "name": "CompanyName_Racing Partners",
         "rawType": "bool",
         "type": "boolean"
        },
        {
         "name": "CompanyName_Racing Toys",
         "rawType": "bool",
         "type": "boolean"
        },
        {
         "name": "CompanyName_Rally Master Company Inc",
         "rawType": "bool",
         "type": "boolean"
        },
        {
         "name": "CompanyName_Rampart Amusement Company",
         "rawType": "bool",
         "type": "boolean"
        },
        {
         "name": "CompanyName_Rapid Bikes",
         "rawType": "bool",
         "type": "boolean"
        },
        {
         "name": "CompanyName_Raw Materials Inc",
         "rawType": "bool",
         "type": "boolean"
        },
        {
         "name": "CompanyName_Real Sporting Goods",
         "rawType": "bool",
         "type": "boolean"
        },
        {
         "name": "CompanyName_Reasonable Bicycle Sales",
         "rawType": "bool",
         "type": "boolean"
        },
        {
         "name": "CompanyName_Recommended Bicycles",
         "rawType": "bool",
         "type": "boolean"
        },
        {
         "name": "CompanyName_Red Bicycle Company",
         "rawType": "bool",
         "type": "boolean"
        },
        {
         "name": "CompanyName_Refined Department Stores",
         "rawType": "bool",
         "type": "boolean"
        },
        {
         "name": "CompanyName_Regional Manufacturing",
         "rawType": "bool",
         "type": "boolean"
        },
        {
         "name": "CompanyName_Reliable Retail Center",
         "rawType": "bool",
         "type": "boolean"
        },
        {
         "name": "CompanyName_Remarkable Bike Store",
         "rawType": "bool",
         "type": "boolean"
        },
        {
         "name": "CompanyName_Remote Bicycle Specialists",
         "rawType": "bool",
         "type": "boolean"
        },
        {
         "name": "CompanyName_Rental Bikes",
         "rawType": "bool",
         "type": "boolean"
        },
        {
         "name": "CompanyName_Requisite Part Supply",
         "rawType": "bool",
         "type": "boolean"
        },
        {
         "name": "CompanyName_Resale Services",
         "rawType": "bool",
         "type": "boolean"
        },
        {
         "name": "CompanyName_Responsible Bike Dealers",
         "rawType": "bool",
         "type": "boolean"
        },
        {
         "name": "CompanyName_Retail Cycle Shop",
         "rawType": "bool",
         "type": "boolean"
        },
        {
         "name": "CompanyName_Retail Discount Store",
         "rawType": "bool",
         "type": "boolean"
        },
        {
         "name": "CompanyName_Retail Mall",
         "rawType": "bool",
         "type": "boolean"
        },
        {
         "name": "CompanyName_Retail Sporting Equipment",
         "rawType": "bool",
         "type": "boolean"
        },
        {
         "name": "CompanyName_Retail Sporting Goods",
         "rawType": "bool",
         "type": "boolean"
        },
        {
         "name": "CompanyName_Retreat Inn",
         "rawType": "bool",
         "type": "boolean"
        },
        {
         "name": "CompanyName_Rewarding Activities Company",
         "rawType": "bool",
         "type": "boolean"
        },
        {
         "name": "CompanyName_Riders Company",
         "rawType": "bool",
         "type": "boolean"
        },
        {
         "name": "CompanyName_Riding Associates",
         "rawType": "bool",
         "type": "boolean"
        },
        {
         "name": "CompanyName_Riding Cycles",
         "rawType": "bool",
         "type": "boolean"
        },
        {
         "name": "CompanyName_Riding Excursions",
         "rawType": "bool",
         "type": "boolean"
        },
        {
         "name": "CompanyName_Road Way Sales and Rental",
         "rawType": "bool",
         "type": "boolean"
        },
        {
         "name": "CompanyName_Road-Way Mart",
         "rawType": "bool",
         "type": "boolean"
        },
        {
         "name": "CompanyName_Roadway Bike Emporium",
         "rawType": "bool",
         "type": "boolean"
        },
        {
         "name": "CompanyName_Roadway Supplies",
         "rawType": "bool",
         "type": "boolean"
        },
        {
         "name": "CompanyName_Roving Sports",
         "rawType": "bool",
         "type": "boolean"
        },
        {
         "name": "CompanyName_Rugged Bikes",
         "rawType": "bool",
         "type": "boolean"
        },
        {
         "name": "CompanyName_Running and Cycling Gear",
         "rawType": "bool",
         "type": "boolean"
        },
        {
         "name": "CompanyName_Rural Bicycle Supply",
         "rawType": "bool",
         "type": "boolean"
        },
        {
         "name": "CompanyName_Rural Cycle Emporium",
         "rawType": "bool",
         "type": "boolean"
        },
        {
         "name": "CompanyName_Rural Department Store",
         "rawType": "bool",
         "type": "boolean"
        },
        {
         "name": "CompanyName_Rural Sales and Service",
         "rawType": "bool",
         "type": "boolean"
        },
        {
         "name": "CompanyName_Safe Cycles Shop",
         "rawType": "bool",
         "type": "boolean"
        },
        {
         "name": "CompanyName_Safe Toys",
         "rawType": "bool",
         "type": "boolean"
        },
        {
         "name": "CompanyName_Sample Bike Store",
         "rawType": "bool",
         "type": "boolean"
        },
        {
         "name": "CompanyName_Satin Finish Company",
         "rawType": "bool",
         "type": "boolean"
        },
        {
         "name": "CompanyName_Scooters and Bikes Store",
         "rawType": "bool",
         "type": "boolean"
        },
        {
         "name": "CompanyName_Scratch-Resistant Finishes Company",
         "rawType": "bool",
         "type": "boolean"
        },
        {
         "name": "CompanyName_Seats and Saddles Company",
         "rawType": "bool",
         "type": "boolean"
        },
        {
         "name": "CompanyName_Security Racks and Locks Wholesalers",
         "rawType": "bool",
         "type": "boolean"
        },
        {
         "name": "CompanyName_Sellers of Cycles",
         "rawType": "bool",
         "type": "boolean"
        },
        {
         "name": "CompanyName_Separate Parts Corporation",
         "rawType": "bool",
         "type": "boolean"
        },
        {
         "name": "CompanyName_Serious Cycles",
         "rawType": "bool",
         "type": "boolean"
        },
        {
         "name": "CompanyName_Sharp Bikes",
         "rawType": "bool",
         "type": "boolean"
        },
        {
         "name": "CompanyName_Sheet Metal Manufacturing",
         "rawType": "bool",
         "type": "boolean"
        },
        {
         "name": "CompanyName_Shipping Specialists",
         "rawType": "bool",
         "type": "boolean"
        },
        {
         "name": "CompanyName_Sixth Bike Store",
         "rawType": "bool",
         "type": "boolean"
        },
        {
         "name": "CompanyName_Sleek Bikes ",
         "rawType": "bool",
         "type": "boolean"
        },
        {
         "name": "CompanyName_Small Bike Shop",
         "rawType": "bool",
         "type": "boolean"
        },
        {
         "name": "CompanyName_Small Cycle Store",
         "rawType": "bool",
         "type": "boolean"
        },
        {
         "name": "CompanyName_Social Activities Club",
         "rawType": "bool",
         "type": "boolean"
        },
        {
         "name": "CompanyName_Solid Bike Parts",
         "rawType": "bool",
         "type": "boolean"
        },
        {
         "name": "CompanyName_Some Discount Store",
         "rawType": "bool",
         "type": "boolean"
        },
        {
         "name": "CompanyName_South Bike Company",
         "rawType": "bool",
         "type": "boolean"
        },
        {
         "name": "CompanyName_Sparkling Paint and Finishes",
         "rawType": "bool",
         "type": "boolean"
        },
        {
         "name": "CompanyName_Specialty Sports Store",
         "rawType": "bool",
         "type": "boolean"
        },
        {
         "name": "CompanyName_Sports Commodities",
         "rawType": "bool",
         "type": "boolean"
        },
        {
         "name": "CompanyName_Sports Merchandise",
         "rawType": "bool",
         "type": "boolean"
        },
        {
         "name": "CompanyName_Sports Products Store",
         "rawType": "bool",
         "type": "boolean"
        },
        {
         "name": "CompanyName_Sports Store",
         "rawType": "bool",
         "type": "boolean"
        },
        {
         "name": "CompanyName_Standard Bikes",
         "rawType": "bool",
         "type": "boolean"
        },
        {
         "name": "CompanyName_Stationary Bikes and Stands",
         "rawType": "bool",
         "type": "boolean"
        },
        {
         "name": "CompanyName_Stock Parts and Supplies",
         "rawType": "bool",
         "type": "boolean"
        },
        {
         "name": "CompanyName_Strenuous Exercise Shop",
         "rawType": "bool",
         "type": "boolean"
        },
        {
         "name": "CompanyName_Sturdy Toys",
         "rawType": "bool",
         "type": "boolean"
        },
        {
         "name": "CompanyName_Suburban Cycle Shop",
         "rawType": "bool",
         "type": "boolean"
        },
        {
         "name": "CompanyName_Successful Sales Company",
         "rawType": "bool",
         "type": "boolean"
        },
        {
         "name": "CompanyName_Summer Sports Place",
         "rawType": "bool",
         "type": "boolean"
        },
        {
         "name": "CompanyName_Sundry Sporting Goods",
         "rawType": "bool",
         "type": "boolean"
        },
        {
         "name": "CompanyName_Superb Sales and Repair",
         "rawType": "bool",
         "type": "boolean"
        },
        {
         "name": "CompanyName_Superior Hardware Distributors",
         "rawType": "bool",
         "type": "boolean"
        },
        {
         "name": "CompanyName_Sure & Reliable Sporting Goods",
         "rawType": "bool",
         "type": "boolean"
        },
        {
         "name": "CompanyName_Swift Cycles",
         "rawType": "bool",
         "type": "boolean"
        },
        {
         "name": "CompanyName_Synthetic Materials Manufacturing",
         "rawType": "bool",
         "type": "boolean"
        },
        {
         "name": "CompanyName_Systematic Sales",
         "rawType": "bool",
         "type": "boolean"
        },
        {
         "name": "CompanyName_Tachometers and Accessories",
         "rawType": "bool",
         "type": "boolean"
        },
        {
         "name": "CompanyName_Tandem Sales and Service",
         "rawType": "bool",
         "type": "boolean"
        },
        {
         "name": "CompanyName_Technical Parts Manufacturing",
         "rawType": "bool",
         "type": "boolean"
        },
        {
         "name": "CompanyName_Tenth Bike Store",
         "rawType": "bool",
         "type": "boolean"
        },
        {
         "name": "CompanyName_The Accessories Store",
         "rawType": "bool",
         "type": "boolean"
        },
        {
         "name": "CompanyName_The Bicycle Accessories Company",
         "rawType": "bool",
         "type": "boolean"
        },
        {
         "name": "CompanyName_The Bike Shop",
         "rawType": "bool",
         "type": "boolean"
        },
        {
         "name": "CompanyName_The Commissary",
         "rawType": "bool",
         "type": "boolean"
        },
        {
         "name": "CompanyName_The Gear Store",
         "rawType": "bool",
         "type": "boolean"
        },
        {
         "name": "CompanyName_The New Bike Store",
         "rawType": "bool",
         "type": "boolean"
        },
        {
         "name": "CompanyName_The Showroom",
         "rawType": "bool",
         "type": "boolean"
        },
        {
         "name": "CompanyName_Third Bike Store",
         "rawType": "bool",
         "type": "boolean"
        },
        {
         "name": "CompanyName_This Area Sporting Goods",
         "rawType": "bool",
         "type": "boolean"
        },
        {
         "name": "CompanyName_Thorough Parts and Repair Services",
         "rawType": "bool",
         "type": "boolean"
        },
        {
         "name": "CompanyName_Thrifty Parts and Sales",
         "rawType": "bool",
         "type": "boolean"
        },
        {
         "name": "CompanyName_Thrilling Bike Tours",
         "rawType": "bool",
         "type": "boolean"
        },
        {
         "name": "CompanyName_Timely Shipping Service",
         "rawType": "bool",
         "type": "boolean"
        },
        {
         "name": "CompanyName_Tire Exchange",
         "rawType": "bool",
         "type": "boolean"
        },
        {
         "name": "CompanyName_Tires and Tubes",
         "rawType": "bool",
         "type": "boolean"
        },
        {
         "name": "CompanyName_Top Bike Market",
         "rawType": "bool",
         "type": "boolean"
        },
        {
         "name": "CompanyName_Top Sports Supply",
         "rawType": "bool",
         "type": "boolean"
        },
        {
         "name": "CompanyName_Totes & Baskets Company",
         "rawType": "bool",
         "type": "boolean"
        },
        {
         "name": "CompanyName_Town Industries",
         "rawType": "bool",
         "type": "boolean"
        },
        {
         "name": "CompanyName_Toy Manufacturing Inc",
         "rawType": "bool",
         "type": "boolean"
        },
        {
         "name": "CompanyName_Traction Tire Company",
         "rawType": "bool",
         "type": "boolean"
        },
        {
         "name": "CompanyName_Trailblazing Sports",
         "rawType": "bool",
         "type": "boolean"
        },
        {
         "name": "CompanyName_Transport Bikes",
         "rawType": "bool",
         "type": "boolean"
        },
        {
         "name": "CompanyName_Transportation Options",
         "rawType": "bool",
         "type": "boolean"
        },
        {
         "name": "CompanyName_Travel Sports",
         "rawType": "bool",
         "type": "boolean"
        },
        {
         "name": "CompanyName_Travel Systems",
         "rawType": "bool",
         "type": "boolean"
        },
        {
         "name": "CompanyName_Trendy Department Stores",
         "rawType": "bool",
         "type": "boolean"
        },
        {
         "name": "CompanyName_Tubeless Tire Company",
         "rawType": "bool",
         "type": "boolean"
        },
        {
         "name": "CompanyName_Twelfth Bike Store",
         "rawType": "bool",
         "type": "boolean"
        },
        {
         "name": "CompanyName_Two Bike Shops",
         "rawType": "bool",
         "type": "boolean"
        },
        {
         "name": "CompanyName_Two Wheels Cycle Store",
         "rawType": "bool",
         "type": "boolean"
        },
        {
         "name": "CompanyName_Two-Seater Bikes",
         "rawType": "bool",
         "type": "boolean"
        },
        {
         "name": "CompanyName_Two-Wheeled Transit Company",
         "rawType": "bool",
         "type": "boolean"
        },
        {
         "name": "CompanyName_Unicycles, Bicycles, and Tricycles",
         "rawType": "bool",
         "type": "boolean"
        },
        {
         "name": "CompanyName_Unique Bikes",
         "rawType": "bool",
         "type": "boolean"
        },
        {
         "name": "CompanyName_Unsurpassed Bikes",
         "rawType": "bool",
         "type": "boolean"
        },
        {
         "name": "CompanyName_Up-To-Date Sports",
         "rawType": "bool",
         "type": "boolean"
        },
        {
         "name": "CompanyName_Urban Sports Emporium",
         "rawType": "bool",
         "type": "boolean"
        },
        {
         "name": "CompanyName_Utilitarian Sporting Goods",
         "rawType": "bool",
         "type": "boolean"
        },
        {
         "name": "CompanyName_Uttermost Bike Shop",
         "rawType": "bool",
         "type": "boolean"
        },
        {
         "name": "CompanyName_Vale Riding Supplies",
         "rawType": "bool",
         "type": "boolean"
        },
        {
         "name": "CompanyName_Valley Bicycle Distributors",
         "rawType": "bool",
         "type": "boolean"
        },
        {
         "name": "CompanyName_Valley Bicycle Specialists",
         "rawType": "bool",
         "type": "boolean"
        },
        {
         "name": "CompanyName_Valley Toy Store",
         "rawType": "bool",
         "type": "boolean"
        },
        {
         "name": "CompanyName_Variety Cycling",
         "rawType": "bool",
         "type": "boolean"
        },
        {
         "name": "CompanyName_Vast Bike Sales and Rental",
         "rawType": "bool",
         "type": "boolean"
        },
        {
         "name": "CompanyName_Vehicle Shop",
         "rawType": "bool",
         "type": "boolean"
        },
        {
         "name": "CompanyName_Vigorous Exercise Company",
         "rawType": "bool",
         "type": "boolean"
        },
        {
         "name": "CompanyName_Vigorous Sports Store",
         "rawType": "bool",
         "type": "boolean"
        },
        {
         "name": "CompanyName_Vintage Sport Boutique",
         "rawType": "bool",
         "type": "boolean"
        },
        {
         "name": "CompanyName_Vinyl and Plastic Goods Corporation",
         "rawType": "bool",
         "type": "boolean"
        },
        {
         "name": "CompanyName_Weekend Bike Tours",
         "rawType": "bool",
         "type": "boolean"
        },
        {
         "name": "CompanyName_West Side Mart",
         "rawType": "bool",
         "type": "boolean"
        },
        {
         "name": "CompanyName_Western Bike Supplies",
         "rawType": "bool",
         "type": "boolean"
        },
        {
         "name": "CompanyName_Westside Cycle Store",
         "rawType": "bool",
         "type": "boolean"
        },
        {
         "name": "CompanyName_Westside Plaza",
         "rawType": "bool",
         "type": "boolean"
        },
        {
         "name": "CompanyName_Wheel Gallery",
         "rawType": "bool",
         "type": "boolean"
        },
        {
         "name": "CompanyName_Wholesale Parts",
         "rawType": "bool",
         "type": "boolean"
        },
        {
         "name": "CompanyName_Wingtip Toys",
         "rawType": "bool",
         "type": "boolean"
        },
        {
         "name": "CompanyName_Wire Baskets and Parts",
         "rawType": "bool",
         "type": "boolean"
        },
        {
         "name": "CompanyName_Work and Play Association",
         "rawType": "bool",
         "type": "boolean"
        },
        {
         "name": "CompanyName_Workout Emporium",
         "rawType": "bool",
         "type": "boolean"
        },
        {
         "name": "CompanyName_World Bike Discount Store",
         "rawType": "bool",
         "type": "boolean"
        },
        {
         "name": "CompanyName_World of Bikes",
         "rawType": "bool",
         "type": "boolean"
        },
        {
         "name": "CompanyName_Year-Round Sports",
         "rawType": "bool",
         "type": "boolean"
        },
        {
         "name": "CompanyName_Yellow Bicycle Company",
         "rawType": "bool",
         "type": "boolean"
        },
        {
         "name": "SalesPerson_adventure-works\\garrett1",
         "rawType": "bool",
         "type": "boolean"
        },
        {
         "name": "SalesPerson_adventure-works\\jae0",
         "rawType": "bool",
         "type": "boolean"
        },
        {
         "name": "SalesPerson_adventure-works\\jillian0",
         "rawType": "bool",
         "type": "boolean"
        },
        {
         "name": "SalesPerson_adventure-works\\josé1",
         "rawType": "bool",
         "type": "boolean"
        },
        {
         "name": "SalesPerson_adventure-works\\linda3",
         "rawType": "bool",
         "type": "boolean"
        },
        {
         "name": "SalesPerson_adventure-works\\michael9",
         "rawType": "bool",
         "type": "boolean"
        },
        {
         "name": "SalesPerson_adventure-works\\pamela0",
         "rawType": "bool",
         "type": "boolean"
        },
        {
         "name": "SalesPerson_adventure-works\\shu0",
         "rawType": "bool",
         "type": "boolean"
        }
       ],
       "conversionMethod": "pd.DataFrame",
       "ref": "f904a370-dffe-4485-9b5e-fabcc3d30099",
       "rows": [
        [
         "0",
         "245",
         "L/Rlwxzp4w7RWmEgXX+/A7cXaePEPcp+KwQhl2fJL7w=",
         "1KjXYs4=",
         "1122854400",
         "False",
         "False",
         "False",
         "False",
         "False",
         "False",
         "False",
         "False",
         "False",
         "False",
         "False",
         "False",
         "False",
         "False",
         "False",
         "False",
         "False",
         "False",
         "False",
         "False",
         "False",
         "False",
         "False",
         "False",
         "False",
         "False",
         "False",
         "False",
         "False",
         "False",
         "False",
         "False",
         "False",
         "False",
         "False",
         "False",
         "False",
         "False",
         "False",
         "False",
         "False",
         "False",
         "False",
         "False",
         "False",
         "False",
         "False",
         "False",
         "False",
         "False",
         "False",
         "False",
         "False",
         "False",
         "False",
         "False",
         "False",
         "False",
         "False",
         "False",
         "False",
         "False",
         "False",
         "False",
         "False",
         "False",
         "False",
         "False",
         "False",
         "False",
         "False",
         "False",
         "False",
         "False",
         "False",
         "False",
         "False",
         "False",
         "False",
         "False",
         "False",
         "False",
         "False",
         "False",
         "False",
         "False",
         "False",
         "False",
         "False",
         "False",
         "False",
         "False",
         "False",
         "False",
         "False",
         "False",
         "False",
         "False",
         "False",
         "False",
         "False",
         "False",
         "False",
         "False",
         "False",
         "False",
         "False",
         "False",
         "False",
         "False",
         "False",
         "False",
         "False",
         "False",
         "False",
         "False",
         "False",
         "False",
         "False",
         "False",
         "False",
         "False",
         "False",
         "False",
         "False",
         "False",
         "False",
         "False",
         "False",
         "False",
         "False",
         "False",
         "False",
         "False",
         "False",
         "False",
         "False",
         "False",
         "False",
         "False",
         "False",
         "False",
         "False",
         "False",
         "False",
         "False",
         "False",
         "False",
         "False",
         "False",
         "False",
         "False",
         "False",
         "False",
         "False",
         "False",
         "False",
         "False",
         "False",
         "False",
         "False",
         "False",
         "False",
         "False",
         "False",
         "False",
         "False",
         "False",
         "False",
         "False",
         "False",
         "False",
         "False",
         "False",
         "False",
         "False",
         "False",
         "False",
         "False",
         "False",
         "False",
         "False",
         "False",
         "False",
         "False",
         "False",
         "False",
         "False",
         "False",
         "False",
         "False",
         "False",
         "False",
         "False",
         "False",
         "False",
         "False",
         "False",
         "False",
         "False",
         "False",
         "False",
         "False",
         "False",
         "False",
         "False",
         "False",
         "False",
         "False",
         "False",
         "False",
         "False",
         "False",
         "False",
         "False",
         "False",
         "False",
         "False",
         "False",
         "False",
         "False",
         "False",
         "False",
         "False",
         "False",
         "False",
         "False",
         "False",
         "False",
         "False",
         "False",
         "False",
         "False",
         "False",
         "False",
         "False",
         "False",
         "False",
         "False",
         "False",
         "False",
         "False",
         "False",
         "False",
         "False",
         "False",
         "False",
         "False",
         "False",
         "False",
         "False",
         "False",
         "False",
         "False",
         "False",
         "False",
         "False",
         "False",
         "False",
         "False",
         "False",
         "False",
         "False",
         "False",
         "False",
         "False",
         "False",
         "False",
         "False",
         "False",
         "False",
         "False",
         "False",
         "False",
         "False",
         "False",
         "False",
         "False",
         "False",
         "False",
         "False",
         "False",
         "False",
         "False",
         "False",
         "False",
         "False",
         "False",
         "False",
         "False",
         "False",
         "False",
         "False",
         "False",
         "False",
         "False",
         "False",
         "False",
         "False",
         "False",
         "False",
         "False",
         "False",
         "False",
         "False",
         "False",
         "False",
         "False",
         "False",
         "False",
         "False",
         "False",
         "False",
         "False",
         "False",
         "False",
         "False",
         "False",
         "False",
         "False",
         "False",
         "False",
         "False",
         "False",
         "False",
         "False",
         "False",
         "False",
         "False",
         "False",
         "False",
         "False",
         "False",
         "False",
         "False",
         "False",
         "False",
         "False",
         "False",
         "False",
         "False",
         "False",
         "False",
         "False",
         "False",
         "False",
         "False",
         "False",
         "False",
         "False",
         "False",
         "False",
         "False",
         "False",
         "False",
         "False",
         "False",
         "False",
         "False",
         "False",
         "False",
         "False",
         "False",
         "False",
         "False",
         "False",
         "False",
         "False",
         "False",
         "False",
         "False",
         "False",
         "False",
         "False",
         "False",
         "False",
         "False",
         "False",
         "False",
         "False",
         "False",
         "False",
         "False",
         "False",
         "False",
         "False",
         "False",
         "False",
         "False",
         "False",
         "False",
         "False",
         "False",
         "False",
         "False",
         "False",
         "False",
         "False",
         "False",
         "False",
         "False",
         "False",
         "False",
         "False",
         "False",
         "False",
         "False",
         "False",
         "False",
         "False",
         "False",
         "False",
         "False",
         "False",
         "False",
         "False",
         "False",
         "False",
         "False",
         "False",
         "False",
         "False",
         "False",
         "False",
         "False",
         "False",
         "False",
         "False",
         "False",
         "False",
         "False",
         "False",
         "False",
         "False",
         "False",
         "False",
         "False",
         "False",
         "False",
         "False",
         "False",
         "False",
         "False",
         "False",
         "True",
         "False"
        ],
        [
         "1",
         "170",
         "YPdtRdvqeAhj6wyxEsFdshBDNXxkCXn+CRgbvJItknw=",
         "fs1ZGhY=",
         "1154390400",
         "False",
         "False",
         "False",
         "False",
         "False",
         "False",
         "False",
         "False",
         "False",
         "False",
         "False",
         "False",
         "False",
         "False",
         "False",
         "False",
         "False",
         "False",
         "False",
         "False",
         "False",
         "False",
         "False",
         "False",
         "False",
         "False",
         "False",
         "False",
         "False",
         "False",
         "False",
         "False",
         "False",
         "False",
         "False",
         "False",
         "False",
         "False",
         "False",
         "False",
         "False",
         "False",
         "False",
         "False",
         "False",
         "False",
         "False",
         "False",
         "False",
         "False",
         "False",
         "False",
         "False",
         "False",
         "False",
         "False",
         "False",
         "False",
         "False",
         "False",
         "False",
         "False",
         "False",
         "False",
         "False",
         "False",
         "False",
         "False",
         "False",
         "False",
         "False",
         "False",
         "False",
         "False",
         "False",
         "False",
         "False",
         "False",
         "False",
         "False",
         "False",
         "False",
         "False",
         "False",
         "False",
         "False",
         "False",
         "False",
         "False",
         "False",
         "False",
         "False",
         "False",
         "False",
         "False",
         "False",
         "False",
         "False",
         "False",
         "False",
         "False",
         "False",
         "False",
         "False",
         "False",
         "False",
         "False",
         "False",
         "False",
         "False",
         "False",
         "False",
         "False",
         "False",
         "False",
         "False",
         "False",
         "False",
         "False",
         "False",
         "False",
         "False",
         "False",
         "False",
         "False",
         "False",
         "False",
         "False",
         "False",
         "False",
         "False",
         "False",
         "False",
         "False",
         "False",
         "False",
         "False",
         "False",
         "False",
         "False",
         "False",
         "False",
         "False",
         "False",
         "False",
         "False",
         "False",
         "False",
         "False",
         "False",
         "False",
         "False",
         "False",
         "False",
         "False",
         "False",
         "False",
         "False",
         "False",
         "False",
         "False",
         "False",
         "False",
         "False",
         "False",
         "False",
         "False",
         "False",
         "False",
         "False",
         "False",
         "False",
         "False",
         "False",
         "False",
         "False",
         "False",
         "False",
         "False",
         "False",
         "False",
         "False",
         "False",
         "False",
         "False",
         "False",
         "False",
         "False",
         "False",
         "False",
         "False",
         "False",
         "False",
         "False",
         "False",
         "False",
         "False",
         "False",
         "False",
         "False",
         "False",
         "False",
         "False",
         "False",
         "False",
         "False",
         "False",
         "False",
         "False",
         "False",
         "False",
         "False",
         "False",
         "False",
         "False",
         "False",
         "False",
         "False",
         "False",
         "False",
         "False",
         "False",
         "False",
         "False",
         "False",
         "False",
         "False",
         "False",
         "False",
         "False",
         "False",
         "False",
         "False",
         "False",
         "False",
         "False",
         "False",
         "False",
         "False",
         "False",
         "False",
         "False",
         "False",
         "False",
         "False",
         "False",
         "False",
         "False",
         "False",
         "False",
         "False",
         "False",
         "False",
         "False",
         "False",
         "False",
         "False",
         "False",
         "False",
         "False",
         "False",
         "False",
         "False",
         "False",
         "False",
         "False",
         "False",
         "False",
         "False",
         "False",
         "False",
         "False",
         "False",
         "False",
         "False",
         "False",
         "False",
         "True",
         "False",
         "False",
         "False",
         "False",
         "False",
         "False",
         "False",
         "False",
         "False",
         "False",
         "False",
         "False",
         "False",
         "False",
         "False",
         "False",
         "False",
         "False",
         "False",
         "False",
         "False",
         "False",
         "False",
         "False",
         "False",
         "False",
         "False",
         "False",
         "False",
         "False",
         "False",
         "False",
         "False",
         "False",
         "False",
         "False",
         "False",
         "False",
         "False",
         "False",
         "False",
         "False",
         "False",
         "False",
         "False",
         "False",
         "False",
         "False",
         "False",
         "False",
         "False",
         "False",
         "False",
         "False",
         "False",
         "False",
         "False",
         "False",
         "False",
         "False",
         "False",
         "False",
         "False",
         "False",
         "False",
         "False",
         "False",
         "False",
         "False",
         "False",
         "False",
         "False",
         "False",
         "False",
         "False",
         "False",
         "False",
         "False",
         "False",
         "False",
         "False",
         "False",
         "False",
         "False",
         "False",
         "False",
         "False",
         "False",
         "False",
         "False",
         "False",
         "False",
         "False",
         "False",
         "False",
         "False",
         "False",
         "False",
         "False",
         "False",
         "False",
         "False",
         "False",
         "False",
         "False",
         "False",
         "False",
         "False",
         "False",
         "False",
         "False",
         "False",
         "False",
         "False",
         "False",
         "False",
         "False",
         "False",
         "False",
         "False",
         "False",
         "False",
         "False",
         "False",
         "False",
         "False",
         "False",
         "False",
         "False",
         "False",
         "False",
         "False",
         "False",
         "False",
         "False",
         "False",
         "False",
         "False",
         "False",
         "False",
         "False",
         "False",
         "False",
         "False",
         "False",
         "False",
         "False",
         "False",
         "False",
         "False",
         "False",
         "False",
         "False",
         "False",
         "False",
         "False",
         "False",
         "False",
         "False",
         "False",
         "False",
         "False",
         "False",
         "False",
         "False",
         "False",
         "False",
         "False"
        ],
        [
         "2",
         "279",
         "LNoK27abGQo48gGue3EBV/UrlYSToV0/s87dCRV7uJk=",
         "YTNH5Rw=",
         "1125532800",
         "False",
         "False",
         "False",
         "False",
         "False",
         "False",
         "False",
         "True",
         "False",
         "False",
         "False",
         "False",
         "False",
         "False",
         "False",
         "False",
         "False",
         "False",
         "False",
         "False",
         "False",
         "False",
         "False",
         "False",
         "False",
         "False",
         "False",
         "False",
         "False",
         "False",
         "False",
         "False",
         "False",
         "False",
         "False",
         "False",
         "False",
         "False",
         "False",
         "False",
         "False",
         "False",
         "False",
         "False",
         "False",
         "False",
         "False",
         "False",
         "False",
         "False",
         "False",
         "False",
         "False",
         "False",
         "False",
         "False",
         "False",
         "False",
         "False",
         "False",
         "False",
         "False",
         "False",
         "False",
         "False",
         "False",
         "False",
         "False",
         "False",
         "False",
         "False",
         "False",
         "False",
         "False",
         "False",
         "False",
         "False",
         "False",
         "False",
         "False",
         "False",
         "False",
         "False",
         "False",
         "False",
         "False",
         "False",
         "False",
         "False",
         "False",
         "False",
         "False",
         "False",
         "False",
         "False",
         "False",
         "False",
         "False",
         "False",
         "False",
         "False",
         "False",
         "False",
         "False",
         "False",
         "False",
         "False",
         "False",
         "False",
         "False",
         "False",
         "False",
         "False",
         "False",
         "False",
         "False",
         "False",
         "False",
         "False",
         "False",
         "False",
         "False",
         "False",
         "False",
         "False",
         "False",
         "False",
         "False",
         "False",
         "False",
         "False",
         "False",
         "False",
         "False",
         "False",
         "False",
         "False",
         "False",
         "False",
         "False",
         "False",
         "False",
         "False",
         "False",
         "False",
         "False",
         "False",
         "False",
         "False",
         "False",
         "False",
         "False",
         "False",
         "False",
         "False",
         "False",
         "False",
         "False",
         "False",
         "False",
         "False",
         "False",
         "False",
         "False",
         "False",
         "False",
         "False",
         "False",
         "False",
         "False",
         "False",
         "False",
         "False",
         "False",
         "False",
         "False",
         "False",
         "False",
         "False",
         "False",
         "False",
         "False",
         "False",
         "False",
         "False",
         "False",
         "False",
         "False",
         "False",
         "False",
         "False",
         "False",
         "False",
         "False",
         "False",
         "False",
         "False",
         "False",
         "False",
         "False",
         "False",
         "False",
         "False",
         "False",
         "False",
         "False",
         "False",
         "False",
         "False",
         "False",
         "False",
         "False",
         "False",
         "False",
         "False",
         "False",
         "False",
         "False",
         "False",
         "False",
         "False",
         "False",
         "False",
         "False",
         "False",
         "False",
         "False",
         "False",
         "False",
         "False",
         "False",
         "False",
         "False",
         "False",
         "False",
         "False",
         "False",
         "False",
         "False",
         "False",
         "False",
         "False",
         "False",
         "False",
         "False",
         "False",
         "False",
         "False",
         "False",
         "False",
         "False",
         "False",
         "False",
         "False",
         "False",
         "False",
         "False",
         "False",
         "False",
         "False",
         "False",
         "False",
         "False",
         "False",
         "False",
         "False",
         "False",
         "False",
         "False",
         "False",
         "False",
         "False",
         "False",
         "False",
         "False",
         "False",
         "False",
         "False",
         "False",
         "False",
         "False",
         "False",
         "False",
         "False",
         "False",
         "False",
         "False",
         "False",
         "False",
         "False",
         "False",
         "False",
         "False",
         "False",
         "False",
         "False",
         "False",
         "False",
         "False",
         "False",
         "False",
         "False",
         "False",
         "False",
         "False",
         "False",
         "False",
         "False",
         "False",
         "False",
         "False",
         "False",
         "False",
         "False",
         "False",
         "False",
         "False",
         "False",
         "False",
         "False",
         "False",
         "False",
         "False",
         "False",
         "False",
         "False",
         "False",
         "False",
         "False",
         "False",
         "False",
         "False",
         "False",
         "False",
         "False",
         "False",
         "False",
         "False",
         "False",
         "False",
         "False",
         "False",
         "False",
         "False",
         "False",
         "False",
         "False",
         "False",
         "False",
         "False",
         "False",
         "False",
         "False",
         "False",
         "False",
         "False",
         "False",
         "False",
         "False",
         "False",
         "False",
         "False",
         "False",
         "False",
         "False",
         "False",
         "False",
         "False",
         "False",
         "False",
         "False",
         "False",
         "False",
         "False",
         "False",
         "False",
         "False",
         "False",
         "False",
         "False",
         "False",
         "False",
         "False",
         "False",
         "False",
         "False",
         "False",
         "False",
         "False",
         "False",
         "False",
         "False",
         "False",
         "False",
         "False",
         "False",
         "False",
         "False",
         "False",
         "False",
         "False",
         "False",
         "False",
         "False",
         "False",
         "False",
         "False",
         "False",
         "False",
         "False",
         "False",
         "False",
         "False",
         "False",
         "False",
         "False",
         "False",
         "False",
         "False",
         "False",
         "False",
         "False",
         "False",
         "False",
         "False",
         "False",
         "False",
         "False",
         "False",
         "False",
         "False",
         "False",
         "False",
         "False",
         "False",
         "False",
         "False",
         "False",
         "False",
         "False",
         "True",
         "False",
         "False",
         "False",
         "False",
         "False"
        ],
        [
         "3",
         "710",
         "ElzTpSNbUW1Ut+L5cWlfR7MF6nBZia8WpmGaQPjLOJA=",
         "nm7D5e4=",
         "1151712000",
         "False",
         "False",
         "False",
         "False",
         "False",
         "False",
         "False",
         "False",
         "False",
         "False",
         "False",
         "False",
         "False",
         "False",
         "False",
         "False",
         "False",
         "False",
         "False",
         "False",
         "False",
         "False",
         "False",
         "False",
         "False",
         "False",
         "False",
         "False",
         "False",
         "False",
         "False",
         "False",
         "False",
         "False",
         "False",
         "False",
         "False",
         "False",
         "False",
         "False",
         "False",
         "False",
         "False",
         "False",
         "False",
         "False",
         "False",
         "False",
         "False",
         "False",
         "False",
         "False",
         "False",
         "False",
         "False",
         "False",
         "False",
         "False",
         "False",
         "False",
         "False",
         "False",
         "False",
         "False",
         "False",
         "False",
         "False",
         "False",
         "False",
         "False",
         "False",
         "False",
         "False",
         "False",
         "False",
         "False",
         "False",
         "False",
         "False",
         "False",
         "False",
         "False",
         "False",
         "False",
         "False",
         "False",
         "False",
         "False",
         "False",
         "False",
         "False",
         "False",
         "False",
         "False",
         "False",
         "False",
         "False",
         "False",
         "False",
         "False",
         "False",
         "False",
         "False",
         "False",
         "False",
         "False",
         "False",
         "False",
         "False",
         "False",
         "False",
         "False",
         "False",
         "False",
         "False",
         "False",
         "False",
         "False",
         "False",
         "False",
         "False",
         "False",
         "False",
         "False",
         "False",
         "False",
         "False",
         "False",
         "False",
         "False",
         "False",
         "False",
         "False",
         "False",
         "False",
         "False",
         "False",
         "False",
         "False",
         "False",
         "False",
         "False",
         "False",
         "False",
         "False",
         "False",
         "False",
         "False",
         "False",
         "False",
         "False",
         "False",
         "False",
         "False",
         "False",
         "False",
         "False",
         "False",
         "False",
         "False",
         "False",
         "False",
         "False",
         "False",
         "False",
         "False",
         "False",
         "False",
         "False",
         "False",
         "False",
         "False",
         "False",
         "False",
         "False",
         "False",
         "False",
         "False",
         "False",
         "False",
         "False",
         "False",
         "False",
         "False",
         "False",
         "False",
         "False",
         "False",
         "False",
         "False",
         "False",
         "False",
         "False",
         "False",
         "False",
         "False",
         "False",
         "False",
         "False",
         "False",
         "False",
         "False",
         "False",
         "False",
         "False",
         "False",
         "False",
         "False",
         "False",
         "False",
         "False",
         "False",
         "False",
         "False",
         "False",
         "False",
         "False",
         "False",
         "False",
         "False",
         "False",
         "False",
         "False",
         "False",
         "False",
         "False",
         "False",
         "False",
         "False",
         "False",
         "False",
         "True",
         "False",
         "False",
         "False",
         "False",
         "False",
         "False",
         "False",
         "False",
         "False",
         "False",
         "False",
         "False",
         "False",
         "False",
         "False",
         "False",
         "False",
         "False",
         "False",
         "False",
         "False",
         "False",
         "False",
         "False",
         "False",
         "False",
         "False",
         "False",
         "False",
         "False",
         "False",
         "False",
         "False",
         "False",
         "False",
         "False",
         "False",
         "False",
         "False",
         "False",
         "False",
         "False",
         "False",
         "False",
         "False",
         "False",
         "False",
         "False",
         "False",
         "False",
         "False",
         "False",
         "False",
         "False",
         "False",
         "False",
         "False",
         "False",
         "False",
         "False",
         "False",
         "False",
         "False",
         "False",
         "False",
         "False",
         "False",
         "False",
         "False",
         "False",
         "False",
         "False",
         "False",
         "False",
         "False",
         "False",
         "False",
         "False",
         "False",
         "False",
         "False",
         "False",
         "False",
         "False",
         "False",
         "False",
         "False",
         "False",
         "False",
         "False",
         "False",
         "False",
         "False",
         "False",
         "False",
         "False",
         "False",
         "False",
         "False",
         "False",
         "False",
         "False",
         "False",
         "False",
         "False",
         "False",
         "False",
         "False",
         "False",
         "False",
         "False",
         "False",
         "False",
         "False",
         "False",
         "False",
         "False",
         "False",
         "False",
         "False",
         "False",
         "False",
         "False",
         "False",
         "False",
         "False",
         "False",
         "False",
         "False",
         "False",
         "False",
         "False",
         "False",
         "False",
         "False",
         "False",
         "False",
         "False",
         "False",
         "False",
         "False",
         "False",
         "False",
         "False",
         "False",
         "False",
         "False",
         "False",
         "False",
         "False",
         "False",
         "False",
         "False",
         "False",
         "False",
         "False",
         "False",
         "False",
         "False",
         "False",
         "False",
         "False",
         "False",
         "False",
         "False",
         "False",
         "False",
         "False",
         "False",
         "False",
         "False",
         "False",
         "False",
         "False",
         "False",
         "False",
         "False",
         "False",
         "False",
         "False",
         "False",
         "False",
         "False",
         "False",
         "False",
         "False",
         "False",
         "False",
         "False",
         "False",
         "False",
         "False",
         "False",
         "False",
         "False",
         "False",
         "False",
         "False",
         "False",
         "False",
         "False",
         "False",
         "False",
         "False",
         "False",
         "False",
         "False",
         "False",
         "True",
         "False",
         "False",
         "False",
         "False",
         "False"
        ],
        [
         "4",
         "828",
         "KJqV15wsX3PG8TS5GSddp6LFFVdd3CoRftZM/tP0+R4=",
         "cNFKU4w=",
         "1157068800",
         "False",
         "False",
         "False",
         "False",
         "False",
         "False",
         "False",
         "False",
         "False",
         "False",
         "False",
         "False",
         "False",
         "False",
         "False",
         "False",
         "False",
         "False",
         "False",
         "False",
         "False",
         "False",
         "False",
         "False",
         "False",
         "False",
         "False",
         "False",
         "False",
         "False",
         "False",
         "False",
         "False",
         "False",
         "False",
         "False",
         "False",
         "False",
         "False",
         "False",
         "False",
         "False",
         "False",
         "False",
         "False",
         "False",
         "False",
         "False",
         "False",
         "False",
         "False",
         "False",
         "False",
         "False",
         "False",
         "False",
         "False",
         "False",
         "False",
         "False",
         "False",
         "False",
         "False",
         "False",
         "False",
         "False",
         "False",
         "False",
         "False",
         "False",
         "False",
         "False",
         "False",
         "False",
         "False",
         "False",
         "False",
         "False",
         "False",
         "False",
         "False",
         "False",
         "False",
         "False",
         "False",
         "False",
         "False",
         "False",
         "False",
         "False",
         "False",
         "False",
         "False",
         "False",
         "False",
         "False",
         "False",
         "False",
         "False",
         "False",
         "False",
         "False",
         "False",
         "False",
         "False",
         "False",
         "False",
         "False",
         "False",
         "False",
         "False",
         "False",
         "False",
         "False",
         "False",
         "False",
         "False",
         "False",
         "False",
         "False",
         "False",
         "False",
         "False",
         "False",
         "False",
         "False",
         "False",
         "False",
         "False",
         "False",
         "False",
         "False",
         "False",
         "False",
         "False",
         "False",
         "False",
         "False",
         "False",
         "False",
         "False",
         "False",
         "False",
         "False",
         "False",
         "False",
         "False",
         "False",
         "False",
         "False",
         "False",
         "False",
         "False",
         "False",
         "False",
         "False",
         "False",
         "False",
         "False",
         "False",
         "False",
         "False",
         "False",
         "False",
         "False",
         "False",
         "False",
         "False",
         "False",
         "False",
         "False",
         "False",
         "False",
         "False",
         "False",
         "False",
         "False",
         "False",
         "False",
         "False",
         "False",
         "False",
         "False",
         "False",
         "False",
         "False",
         "False",
         "False",
         "False",
         "False",
         "False",
         "False",
         "False",
         "False",
         "False",
         "False",
         "False",
         "False",
         "False",
         "False",
         "False",
         "False",
         "False",
         "False",
         "False",
         "False",
         "False",
         "False",
         "False",
         "False",
         "False",
         "False",
         "False",
         "False",
         "False",
         "False",
         "False",
         "False",
         "False",
         "False",
         "False",
         "False",
         "False",
         "False",
         "False",
         "False",
         "False",
         "False",
         "False",
         "True",
         "False",
         "False",
         "False",
         "False",
         "False",
         "False",
         "False",
         "False",
         "False",
         "False",
         "False",
         "False",
         "False",
         "False",
         "False",
         "False",
         "False",
         "False",
         "False",
         "False",
         "False",
         "False",
         "False",
         "False",
         "False",
         "False",
         "False",
         "False",
         "False",
         "False",
         "False",
         "False",
         "False",
         "False",
         "False",
         "False",
         "False",
         "False",
         "False",
         "False",
         "False",
         "False",
         "False",
         "False",
         "False",
         "False",
         "False",
         "False",
         "False",
         "False",
         "False",
         "False",
         "False",
         "False",
         "False",
         "False",
         "False",
         "False",
         "False",
         "False",
         "False",
         "False",
         "False",
         "False",
         "False",
         "False",
         "False",
         "False",
         "False",
         "False",
         "False",
         "False",
         "False",
         "False",
         "False",
         "False",
         "False",
         "False",
         "False",
         "False",
         "False",
         "False",
         "False",
         "False",
         "False",
         "False",
         "False",
         "False",
         "False",
         "False",
         "False",
         "False",
         "False",
         "False",
         "False",
         "False",
         "False",
         "False",
         "False",
         "False",
         "False",
         "False",
         "False",
         "False",
         "False",
         "False",
         "False",
         "False",
         "False",
         "False",
         "False",
         "False",
         "False",
         "False",
         "False",
         "False",
         "False",
         "False",
         "False",
         "False",
         "False",
         "False",
         "False",
         "False",
         "False",
         "False",
         "False",
         "False",
         "False",
         "False",
         "False",
         "False",
         "False",
         "False",
         "False",
         "False",
         "False",
         "False",
         "False",
         "False",
         "False",
         "False",
         "False",
         "False",
         "False",
         "False",
         "False",
         "False",
         "False",
         "False",
         "False",
         "False",
         "False",
         "False",
         "False",
         "False",
         "False",
         "False",
         "False",
         "False",
         "False",
         "False",
         "False",
         "False",
         "False",
         "False",
         "False",
         "False",
         "False",
         "False",
         "False",
         "False",
         "False",
         "False",
         "False",
         "False",
         "False",
         "False",
         "False",
         "False",
         "False",
         "False",
         "False",
         "False",
         "False",
         "False",
         "False",
         "False",
         "False",
         "False",
         "False",
         "False",
         "False",
         "False",
         "False",
         "False",
         "False",
         "False",
         "False",
         "False",
         "False",
         "False",
         "False",
         "False",
         "False",
         "False",
         "False",
         "False",
         "False",
         "False",
         "False",
         "False",
         "False",
         "False",
         "False",
         "True"
        ]
       ],
       "shape": {
        "columns": 450,
        "rows": 5
       }
      },
      "text/html": [
       "<div>\n",
       "<style scoped>\n",
       "    .dataframe tbody tr th:only-of-type {\n",
       "        vertical-align: middle;\n",
       "    }\n",
       "\n",
       "    .dataframe tbody tr th {\n",
       "        vertical-align: top;\n",
       "    }\n",
       "\n",
       "    .dataframe thead th {\n",
       "        text-align: right;\n",
       "    }\n",
       "</style>\n",
       "<table border=\"1\" class=\"dataframe\">\n",
       "  <thead>\n",
       "    <tr style=\"text-align: right;\">\n",
       "      <th></th>\n",
       "      <th>Phone</th>\n",
       "      <th>PasswordHash</th>\n",
       "      <th>PasswordSalt</th>\n",
       "      <th>ModifiedDate</th>\n",
       "      <th>CompanyName_A Cycle Shop</th>\n",
       "      <th>CompanyName_A Great Bicycle Company</th>\n",
       "      <th>CompanyName_A Typical Bike Shop</th>\n",
       "      <th>CompanyName_Acceptable Sales &amp; Service</th>\n",
       "      <th>CompanyName_Action Bicycle Specialists</th>\n",
       "      <th>CompanyName_Active Life Toys</th>\n",
       "      <th>...</th>\n",
       "      <th>CompanyName_Year-Round Sports</th>\n",
       "      <th>CompanyName_Yellow Bicycle Company</th>\n",
       "      <th>SalesPerson_adventure-works\\garrett1</th>\n",
       "      <th>SalesPerson_adventure-works\\jae0</th>\n",
       "      <th>SalesPerson_adventure-works\\jillian0</th>\n",
       "      <th>SalesPerson_adventure-works\\josé1</th>\n",
       "      <th>SalesPerson_adventure-works\\linda3</th>\n",
       "      <th>SalesPerson_adventure-works\\michael9</th>\n",
       "      <th>SalesPerson_adventure-works\\pamela0</th>\n",
       "      <th>SalesPerson_adventure-works\\shu0</th>\n",
       "    </tr>\n",
       "  </thead>\n",
       "  <tbody>\n",
       "    <tr>\n",
       "      <th>0</th>\n",
       "      <td>245</td>\n",
       "      <td>L/Rlwxzp4w7RWmEgXX+/A7cXaePEPcp+KwQhl2fJL7w=</td>\n",
       "      <td>1KjXYs4=</td>\n",
       "      <td>1122854400</td>\n",
       "      <td>False</td>\n",
       "      <td>False</td>\n",
       "      <td>False</td>\n",
       "      <td>False</td>\n",
       "      <td>False</td>\n",
       "      <td>False</td>\n",
       "      <td>...</td>\n",
       "      <td>False</td>\n",
       "      <td>False</td>\n",
       "      <td>False</td>\n",
       "      <td>False</td>\n",
       "      <td>False</td>\n",
       "      <td>False</td>\n",
       "      <td>False</td>\n",
       "      <td>False</td>\n",
       "      <td>True</td>\n",
       "      <td>False</td>\n",
       "    </tr>\n",
       "    <tr>\n",
       "      <th>1</th>\n",
       "      <td>170</td>\n",
       "      <td>YPdtRdvqeAhj6wyxEsFdshBDNXxkCXn+CRgbvJItknw=</td>\n",
       "      <td>fs1ZGhY=</td>\n",
       "      <td>1154390400</td>\n",
       "      <td>False</td>\n",
       "      <td>False</td>\n",
       "      <td>False</td>\n",
       "      <td>False</td>\n",
       "      <td>False</td>\n",
       "      <td>False</td>\n",
       "      <td>...</td>\n",
       "      <td>False</td>\n",
       "      <td>False</td>\n",
       "      <td>False</td>\n",
       "      <td>False</td>\n",
       "      <td>False</td>\n",
       "      <td>False</td>\n",
       "      <td>False</td>\n",
       "      <td>False</td>\n",
       "      <td>False</td>\n",
       "      <td>False</td>\n",
       "    </tr>\n",
       "    <tr>\n",
       "      <th>2</th>\n",
       "      <td>279</td>\n",
       "      <td>LNoK27abGQo48gGue3EBV/UrlYSToV0/s87dCRV7uJk=</td>\n",
       "      <td>YTNH5Rw=</td>\n",
       "      <td>1125532800</td>\n",
       "      <td>False</td>\n",
       "      <td>False</td>\n",
       "      <td>False</td>\n",
       "      <td>False</td>\n",
       "      <td>False</td>\n",
       "      <td>False</td>\n",
       "      <td>...</td>\n",
       "      <td>False</td>\n",
       "      <td>False</td>\n",
       "      <td>False</td>\n",
       "      <td>False</td>\n",
       "      <td>True</td>\n",
       "      <td>False</td>\n",
       "      <td>False</td>\n",
       "      <td>False</td>\n",
       "      <td>False</td>\n",
       "      <td>False</td>\n",
       "    </tr>\n",
       "    <tr>\n",
       "      <th>3</th>\n",
       "      <td>710</td>\n",
       "      <td>ElzTpSNbUW1Ut+L5cWlfR7MF6nBZia8WpmGaQPjLOJA=</td>\n",
       "      <td>nm7D5e4=</td>\n",
       "      <td>1151712000</td>\n",
       "      <td>False</td>\n",
       "      <td>False</td>\n",
       "      <td>False</td>\n",
       "      <td>False</td>\n",
       "      <td>False</td>\n",
       "      <td>False</td>\n",
       "      <td>...</td>\n",
       "      <td>False</td>\n",
       "      <td>False</td>\n",
       "      <td>False</td>\n",
       "      <td>False</td>\n",
       "      <td>True</td>\n",
       "      <td>False</td>\n",
       "      <td>False</td>\n",
       "      <td>False</td>\n",
       "      <td>False</td>\n",
       "      <td>False</td>\n",
       "    </tr>\n",
       "    <tr>\n",
       "      <th>4</th>\n",
       "      <td>828</td>\n",
       "      <td>KJqV15wsX3PG8TS5GSddp6LFFVdd3CoRftZM/tP0+R4=</td>\n",
       "      <td>cNFKU4w=</td>\n",
       "      <td>1157068800</td>\n",
       "      <td>False</td>\n",
       "      <td>False</td>\n",
       "      <td>False</td>\n",
       "      <td>False</td>\n",
       "      <td>False</td>\n",
       "      <td>False</td>\n",
       "      <td>...</td>\n",
       "      <td>False</td>\n",
       "      <td>False</td>\n",
       "      <td>False</td>\n",
       "      <td>False</td>\n",
       "      <td>False</td>\n",
       "      <td>False</td>\n",
       "      <td>False</td>\n",
       "      <td>False</td>\n",
       "      <td>False</td>\n",
       "      <td>True</td>\n",
       "    </tr>\n",
       "  </tbody>\n",
       "</table>\n",
       "<p>5 rows × 450 columns</p>\n",
       "</div>"
      ],
      "text/plain": [
       "   Phone                                  PasswordHash PasswordSalt  \\\n",
       "0    245  L/Rlwxzp4w7RWmEgXX+/A7cXaePEPcp+KwQhl2fJL7w=     1KjXYs4=   \n",
       "1    170  YPdtRdvqeAhj6wyxEsFdshBDNXxkCXn+CRgbvJItknw=     fs1ZGhY=   \n",
       "2    279  LNoK27abGQo48gGue3EBV/UrlYSToV0/s87dCRV7uJk=     YTNH5Rw=   \n",
       "3    710  ElzTpSNbUW1Ut+L5cWlfR7MF6nBZia8WpmGaQPjLOJA=     nm7D5e4=   \n",
       "4    828  KJqV15wsX3PG8TS5GSddp6LFFVdd3CoRftZM/tP0+R4=     cNFKU4w=   \n",
       "\n",
       "   ModifiedDate  CompanyName_A Cycle Shop  \\\n",
       "0    1122854400                     False   \n",
       "1    1154390400                     False   \n",
       "2    1125532800                     False   \n",
       "3    1151712000                     False   \n",
       "4    1157068800                     False   \n",
       "\n",
       "   CompanyName_A Great Bicycle Company  CompanyName_A Typical Bike Shop  \\\n",
       "0                                False                            False   \n",
       "1                                False                            False   \n",
       "2                                False                            False   \n",
       "3                                False                            False   \n",
       "4                                False                            False   \n",
       "\n",
       "   CompanyName_Acceptable Sales & Service  \\\n",
       "0                                   False   \n",
       "1                                   False   \n",
       "2                                   False   \n",
       "3                                   False   \n",
       "4                                   False   \n",
       "\n",
       "   CompanyName_Action Bicycle Specialists  CompanyName_Active Life Toys  ...  \\\n",
       "0                                   False                         False  ...   \n",
       "1                                   False                         False  ...   \n",
       "2                                   False                         False  ...   \n",
       "3                                   False                         False  ...   \n",
       "4                                   False                         False  ...   \n",
       "\n",
       "   CompanyName_Year-Round Sports  CompanyName_Yellow Bicycle Company  \\\n",
       "0                          False                               False   \n",
       "1                          False                               False   \n",
       "2                          False                               False   \n",
       "3                          False                               False   \n",
       "4                          False                               False   \n",
       "\n",
       "   SalesPerson_adventure-works\\garrett1  SalesPerson_adventure-works\\jae0  \\\n",
       "0                                 False                             False   \n",
       "1                                 False                             False   \n",
       "2                                 False                             False   \n",
       "3                                 False                             False   \n",
       "4                                 False                             False   \n",
       "\n",
       "   SalesPerson_adventure-works\\jillian0  SalesPerson_adventure-works\\josé1  \\\n",
       "0                                 False                              False   \n",
       "1                                 False                              False   \n",
       "2                                  True                              False   \n",
       "3                                  True                              False   \n",
       "4                                 False                              False   \n",
       "\n",
       "   SalesPerson_adventure-works\\linda3  SalesPerson_adventure-works\\michael9  \\\n",
       "0                               False                                 False   \n",
       "1                               False                                 False   \n",
       "2                               False                                 False   \n",
       "3                               False                                 False   \n",
       "4                               False                                 False   \n",
       "\n",
       "   SalesPerson_adventure-works\\pamela0  SalesPerson_adventure-works\\shu0  \n",
       "0                                 True                             False  \n",
       "1                                False                             False  \n",
       "2                                False                             False  \n",
       "3                                False                             False  \n",
       "4                                False                              True  \n",
       "\n",
       "[5 rows x 450 columns]"
      ]
     },
     "execution_count": 58,
     "metadata": {},
     "output_type": "execute_result"
    }
   ],
   "source": [
    "datos.head()"
   ]
  },
  {
   "cell_type": "code",
   "execution_count": 61,
   "id": "57f4553f",
   "metadata": {},
   "outputs": [
    {
     "name": "stdout",
     "output_type": "stream",
     "text": [
      "R^2 score: 0.7084\n"
     ]
    }
   ],
   "source": [
    "from sklearn.model_selection import train_test_split\n",
    "from sklearn.linear_model import LinearRegression\n",
    "from sklearn.metrics import r2_score\n",
    "\n",
    "\n",
    "X = datos.drop(columns=['ModifiedDate',\"PasswordHash\",\"PasswordSalt\"])\n",
    "y = datos['ModifiedDate']\n",
    "\n",
    "X_train, X_test, y_train, y_test = train_test_split(X, y, test_size=0.2, random_state=42)\n",
    "\n",
    "model = LinearRegression()\n",
    "model.fit(X_train, y_train)\n",
    "y_pred = model.predict(X_test)\n",
    "\n",
    "r2 = r2_score(y_test, y_pred)\n",
    "print(f\"R^2 score: {r2:.4f}\")"
   ]
  },
  {
   "cell_type": "code",
   "execution_count": 62,
   "id": "2182adf7",
   "metadata": {},
   "outputs": [],
   "source": [
    "import pickle\n",
    "\n",
    "file = open('model.pkl', 'wb')\n",
    "pickle.dump(model, file)\n",
    "file.close()"
   ]
  },
  {
   "cell_type": "code",
   "execution_count": 76,
   "id": "58dd9e23",
   "metadata": {},
   "outputs": [
    {
     "data": {
      "text/plain": [
       "array([1.14168695e+09, 1.18860480e+09, 1.15706880e+09, 1.18592640e+09])"
      ]
     },
     "execution_count": 76,
     "metadata": {},
     "output_type": "execute_result"
    }
   ],
   "source": [
    "# Crear csv para probar modelo\n",
    "rand_rows = [25,46,89,160]\n",
    "testcsv = pd.DataFrame(X_test).iloc[rand_rows, :]\n",
    "testcsv\n",
    "testcsv.to_csv('testapi.csv', index=False)\n",
    "model = pickle.load(open('model.pkl','rb'))\n",
    "df_testAPI = pd.read_csv('testapi.csv')\n",
    "pred = model.predict(df_testAPI)\n",
    "pred"
   ]
  },
  {
   "cell_type": "code",
   "execution_count": 83,
   "id": "3b5d6026",
   "metadata": {},
   "outputs": [
    {
     "data": {
      "text/plain": [
       "datetime.datetime(2006, 3, 6, 17, 15, 45)"
      ]
     },
     "execution_count": 83,
     "metadata": {},
     "output_type": "execute_result"
    }
   ],
   "source": [
    "import datetime\n",
    "datetime.datetime.fromtimestamp(int(pred[0]))"
   ]
  },
  {
   "cell_type": "code",
   "execution_count": null,
   "id": "2aaa05f7",
   "metadata": {},
   "outputs": [],
   "source": []
  }
 ],
 "metadata": {
  "kernelspec": {
   "display_name": "Python 3",
   "language": "python",
   "name": "python3"
  },
  "language_info": {
   "codemirror_mode": {
    "name": "ipython",
    "version": 3
   },
   "file_extension": ".py",
   "mimetype": "text/x-python",
   "name": "python",
   "nbconvert_exporter": "python",
   "pygments_lexer": "ipython3",
   "version": "3.9.13"
  }
 },
 "nbformat": 4,
 "nbformat_minor": 5
}
